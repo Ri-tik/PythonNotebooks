{
 "cells": [
  {
   "cell_type": "code",
   "execution_count": 15,
   "source": [
    "class fraction:\r\n",
    "    def __init__(self,num,den):\r\n",
    "        self.num = num\r\n",
    "        self.den = den\r\n",
    "    def printit(self):\r\n",
    "        if self.num == 0:\r\n",
    "            print(0)\r\n",
    "        if self.den == 0 or self.den == 1:\r\n",
    "            print(self.num)\r\n",
    "        print(self.num, '/', self.den)\r\n",
    "    def simplify(self):\r\n",
    "        gc = min(self.num,self.den)\r\n",
    "        while gc>1:\r\n",
    "            if self.num % gc ==0 and self.den % gc ==0:\r\n",
    "                break\r\n",
    "            gc -= 1\r\n",
    "        self.num = self.num // gc\r\n",
    "        self.den = self.den // gc\r\n",
    "    def add(self,obj):\r\n",
    "        self.num = (self.num*obj.den)+(obj.num*self.den)\r\n",
    "        self.den = self.den * obj.den\r\n",
    "        self.simplify()\r\n",
    "    def mul(self,obj):\r\n",
    "        self.num = self.num*obj.num\r\n",
    "        self.den = self.den*obj.den\r\n",
    "        self.simplify()"
   ],
   "outputs": [],
   "metadata": {
    "ExecuteTime": {
     "end_time": "2021-05-01T08:09:25.824607Z",
     "start_time": "2021-05-01T08:09:25.791623Z"
    }
   }
  },
  {
   "cell_type": "code",
   "execution_count": 20,
   "source": [
    "f1 = fraction(8,4)\r\n",
    "f2 = fraction(12,6)\r\n",
    "f1.printit()\r\n",
    "f1.simplify()\r\n",
    "f1.printit()\r\n",
    "f1.add(f2)\r\n",
    "f1.printit()\r\n",
    "f1.mul(f2)\r\n",
    "f1.printit()"
   ],
   "outputs": [
    {
     "output_type": "stream",
     "name": "stdout",
     "text": [
      "8 / 4\n",
      "2\n",
      "2 / 1\n",
      "4\n",
      "4 / 1\n",
      "8\n",
      "8 / 1\n"
     ]
    }
   ],
   "metadata": {
    "ExecuteTime": {
     "end_time": "2021-05-01T08:11:27.027685Z",
     "start_time": "2021-05-01T08:11:27.004700Z"
    }
   }
  },
  {
   "cell_type": "code",
   "execution_count": 1,
   "source": [
    "#Inheritance\r\n",
    "class vehicle:\r\n",
    "    def __init__(self,speed,color):\r\n",
    "        self.speed = speed\r\n",
    "        self.color = color\r\n",
    "class cars(vehicle):\r\n",
    "    def __init__(self,speed,color,name,gears):\r\n",
    "        super().__init__(speed,color)\r\n",
    "        self.name = name\r\n",
    "        self.gears = gears\r\n",
    "    def prin(self):\r\n",
    "        print(self.speed)\r\n",
    "        print(self.color)\r\n",
    "        print(self.name)\r\n",
    "        print(self.gears)\r\n",
    "        "
   ],
   "outputs": [],
   "metadata": {
    "ExecuteTime": {
     "end_time": "2021-05-02T16:13:13.760428Z",
     "start_time": "2021-05-02T16:13:13.701421Z"
    }
   }
  },
  {
   "cell_type": "code",
   "execution_count": 2,
   "source": [
    "c1 = cars(50,\"red\",\"benz\",5)\r\n",
    "c1.prin()"
   ],
   "outputs": [
    {
     "output_type": "stream",
     "name": "stdout",
     "text": [
      "50\n",
      "red\n",
      "benz\n",
      "5\n"
     ]
    }
   ],
   "metadata": {
    "ExecuteTime": {
     "end_time": "2021-05-02T16:13:14.152169Z",
     "start_time": "2021-05-02T16:13:14.130167Z"
    }
   }
  },
  {
   "cell_type": "code",
   "execution_count": 15,
   "source": [
    "#Accessing Private member of class through functions (getter/setter)\r\n",
    "class vehicle:\r\n",
    "    def __init__(self,speed,color):\r\n",
    "        self.__speed = speed\r\n",
    "        self.color = color\r\n",
    "    def getter(self):\r\n",
    "        return self.__speed\r\n",
    "    def setter(self,speed):\r\n",
    "        self.speed = speed\r\n",
    "class cars(vehicle):\r\n",
    "    def __init__(self,speed,color,name,gears):\r\n",
    "        super().__init__(speed,color)\r\n",
    "        self.name = name\r\n",
    "        self.gears = gears\r\n",
    "    def prin(self):\r\n",
    "        print(self.getter())\r\n",
    "        print(self.color)\r\n",
    "        print(self.name)\r\n",
    "        print(self.gears)"
   ],
   "outputs": [],
   "metadata": {
    "ExecuteTime": {
     "end_time": "2021-05-02T20:16:41.925900Z",
     "start_time": "2021-05-02T20:16:41.909585Z"
    }
   }
  },
  {
   "cell_type": "code",
   "execution_count": 16,
   "source": [
    "c2 = cars(50,\"red\",\"benz\",5)\r\n",
    "c2.prin()"
   ],
   "outputs": [
    {
     "output_type": "stream",
     "name": "stdout",
     "text": [
      "50\n",
      "red\n",
      "benz\n",
      "5\n"
     ]
    }
   ],
   "metadata": {
    "ExecuteTime": {
     "end_time": "2021-05-02T20:16:42.309866Z",
     "start_time": "2021-05-02T20:16:42.293866Z"
    }
   }
  },
  {
   "cell_type": "markdown",
   "source": [
    "## CLASS & OBJECT"
   ],
   "metadata": {}
  },
  {
   "cell_type": "code",
   "execution_count": 2,
   "source": [
    "#Instantiating directly\r\n",
    "class Student():\r\n",
    "    univ = \"NGP\"\r\n",
    "    name = ''\r\n",
    "    age = None\r\n",
    "A = Student()\r\n",
    "print(A.univ)\r\n",
    "A.univ=\"MMN\"\r\n",
    "print(A.univ)\r\n",
    "print(A.age)\r\n",
    "print(A.name)\r\n",
    "A.age = 18\r\n",
    "A.name = 'AA'\r\n",
    "print(A.age)\r\n",
    "print(A.name)"
   ],
   "outputs": [
    {
     "output_type": "stream",
     "name": "stdout",
     "text": [
      "NGP\n",
      "MMN\n",
      "None\n",
      "\n",
      "18\n",
      "AA\n"
     ]
    }
   ],
   "metadata": {}
  },
  {
   "cell_type": "code",
   "execution_count": 11,
   "source": [
    "#Instantiating by method\r\n",
    "class Student():\r\n",
    "    univ = \"NGP\"\r\n",
    "    def create(self,name,age):\r\n",
    "        self.name = name\r\n",
    "        self.age = age\r\n",
    "    def details(self):\r\n",
    "        print(self.univ)\r\n",
    "        print(self.name)\r\n",
    "        print(self.age)\r\n",
    "\r\n",
    "A = Student()\r\n",
    "A.create('A',20)\r\n",
    "A.details()\r\n",
    "#Changing directly now as it has been created\r\n",
    "A.age = 18\r\n",
    "A.name = 'AA'\r\n",
    "A.univ = 'MNP'\r\n",
    "A.details()"
   ],
   "outputs": [
    {
     "output_type": "stream",
     "name": "stdout",
     "text": [
      "NGP\n",
      "A\n",
      "20\n",
      "MNP\n",
      "AA\n",
      "18\n"
     ]
    }
   ],
   "metadata": {}
  },
  {
   "cell_type": "markdown",
   "source": [
    "### CONSTRUCTOR"
   ],
   "metadata": {}
  },
  {
   "cell_type": "code",
   "execution_count": 18,
   "source": [
    "#Instantiating by constructor\r\n",
    "class Student():\r\n",
    "    #default parametrized\r\n",
    "    def __init__(self,univ=\"NGP\",name=None,age=0):\r\n",
    "        self.univ = univ\r\n",
    "        self.name = name\r\n",
    "        self.age = age\r\n",
    "    def details(self):\r\n",
    "        print(self.univ)\r\n",
    "        print(self.name)\r\n",
    "        print(self.age)\r\n",
    "\r\n",
    "A = Student(name='A',age=19)\r\n",
    "A.details()\r\n",
    "B = Student('NOP','B',19)\r\n",
    "B.details()"
   ],
   "outputs": [
    {
     "output_type": "stream",
     "name": "stdout",
     "text": [
      "NGP\n",
      "A\n",
      "19\n",
      "NOP\n",
      "B\n",
      "19\n"
     ]
    }
   ],
   "metadata": {}
  },
  {
   "cell_type": "markdown",
   "source": [
    "## Inheritance"
   ],
   "metadata": {}
  },
  {
   "cell_type": "code",
   "execution_count": 27,
   "source": [
    "class Polygon():\r\n",
    "    def __init__(self,no_sides):\r\n",
    "        self.no_slides = no_sides\r\n",
    "    def inputSides(self):\r\n",
    "        self.sides = [float(input(\"Enter Side\"+str(i+1)+\":\")) for i in range(self.no_slides)]\r\n",
    "    def display(self):\r\n",
    "        for i in self.sides:\r\n",
    "            print(i,end=\" \")\r\n",
    "class Triangle(Polygon):\r\n",
    "    def __init__(self, no_sides):\r\n",
    "        super().__init__(no_sides)\r\n",
    "    def details(self):\r\n",
    "        self.inputSides()\r\n",
    "        self.display()\r\n",
    "\r\n",
    "T1 = Triangle(3)\r\n",
    "T1.details()"
   ],
   "outputs": [
    {
     "output_type": "stream",
     "name": "stdout",
     "text": [
      "10.0 20.0 30.0 "
     ]
    }
   ],
   "metadata": {}
  },
  {
   "cell_type": "markdown",
   "source": [
    "## Method Overriding"
   ],
   "metadata": {}
  },
  {
   "cell_type": "code",
   "execution_count": 31,
   "source": [
    "class addint():\r\n",
    "    def add(self,n1,n2):\r\n",
    "        print(self.n1 + self.n2)\r\n",
    "class addfloat(addint):\r\n",
    "    def add(self,n1,n2,n3):\r\n",
    "        self.n1=n1\r\n",
    "        self.n2=n2\r\n",
    "        self.n3=n3\r\n",
    "        print(self.n1 + self.n2 + self.n3)\r\n",
    "a1 = addfloat()\r\n",
    "a1.add(4,5,6)"
   ],
   "outputs": [
    {
     "output_type": "stream",
     "name": "stdout",
     "text": [
      "15\n"
     ]
    }
   ],
   "metadata": {}
  },
  {
   "cell_type": "markdown",
   "source": [
    "## Using Special Function"
   ],
   "metadata": {}
  },
  {
   "cell_type": "markdown",
   "source": [
    "#### Prints object information"
   ],
   "metadata": {}
  },
  {
   "cell_type": "code",
   "execution_count": 35,
   "source": [
    "class Point:\r\n",
    "    def __init__(self, x=0, y=0):\r\n",
    "        self.x = x\r\n",
    "        self.y = y\r\n",
    "p1 = Point(2,3)\r\n",
    "print(p1)"
   ],
   "outputs": [
    {
     "output_type": "stream",
     "name": "stdout",
     "text": [
      "<__main__.Point object at 0x06456C70>\n"
     ]
    }
   ],
   "metadata": {}
  },
  {
   "cell_type": "markdown",
   "source": [
    "#### Prints Defined information using special function"
   ],
   "metadata": {}
  },
  {
   "cell_type": "code",
   "execution_count": 36,
   "source": [
    "class Point:\r\n",
    "    def __init__(self, x=0, y=0):\r\n",
    "        self.x = x\r\n",
    "        self.y = y\r\n",
    "    def __str__(self):\r\n",
    "        return \"Point({},{})\".format(self.x,self.y)\r\n",
    "p1 = Point(2,3)\r\n",
    "print(p1)"
   ],
   "outputs": [
    {
     "output_type": "stream",
     "name": "stdout",
     "text": [
      "Point(2,3)\n"
     ]
    }
   ],
   "metadata": {}
  },
  {
   "cell_type": "markdown",
   "source": [
    "## Operator Overloading\r\n",
    "#### Similarly we can use special function for operator overloading"
   ],
   "metadata": {}
  },
  {
   "cell_type": "code",
   "execution_count": 42,
   "source": [
    "# Overload + operator\r\n",
    "class Point:\r\n",
    "    def __init__(self, x=0, y=0):\r\n",
    "        self.x = x\r\n",
    "        self.y = y\r\n",
    "    def __str__(self):\r\n",
    "        return \"Point({},{})\".format(self.x,self.y)\r\n",
    "    def __add__(self,other):\r\n",
    "        x = self.x + other.x\r\n",
    "        y = self.y + other.y\r\n",
    "        return Point(x,y)\r\n",
    "\r\n",
    "p1 = Point(2,3)\r\n",
    "p2 = Point(4,3)\r\n",
    "print(p1)\r\n",
    "print(p2)\r\n",
    "print(p1+p2)"
   ],
   "outputs": [
    {
     "output_type": "stream",
     "name": "stdout",
     "text": [
      "Point(2,3)\n",
      "Point(4,3)\n",
      "Point(6,6)\n"
     ]
    }
   ],
   "metadata": {}
  },
  {
   "cell_type": "markdown",
   "source": [
    "<p> So p1 + p2 is actually p1.__add__(p2), Which is same as Point.__add__(p1,p2) </p>\r\n",
    "<h3>Similarly we can do on mul, sub, pow(power), lt(less-than), le(less than equal)</h3>"
   ],
   "metadata": {}
  },
  {
   "cell_type": "code",
   "execution_count": null,
   "source": [],
   "outputs": [],
   "metadata": {}
  }
 ],
 "metadata": {
  "kernelspec": {
   "name": "python3",
   "display_name": "Python 3.8.3 32-bit"
  },
  "language_info": {
   "codemirror_mode": {
    "name": "ipython",
    "version": 3
   },
   "file_extension": ".py",
   "mimetype": "text/x-python",
   "name": "python",
   "nbconvert_exporter": "python",
   "pygments_lexer": "ipython3",
   "version": "3.8.3"
  },
  "interpreter": {
   "hash": "4af90f45c7792a747df031fcfb3e75fbadd5ecde1f96328d33556550aaa66aac"
  }
 },
 "nbformat": 4,
 "nbformat_minor": 2
}