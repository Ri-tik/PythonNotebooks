{
 "cells": [
  {
   "cell_type": "markdown",
   "source": [
    "### Find whether a given number is Positive or Negative"
   ],
   "metadata": {
    "ExecuteTime": {
     "end_time": "2021-06-13T19:05:42.692048Z",
     "start_time": "2021-06-13T19:05:42.685066Z"
    }
   }
  },
  {
   "cell_type": "markdown",
   "source": [
    "### Even or Odd number "
   ],
   "metadata": {
    "ExecuteTime": {
     "end_time": "2021-06-13T19:05:45.016326Z",
     "start_time": "2021-06-13T19:05:44.999341Z"
    }
   }
  },
  {
   "cell_type": "markdown",
   "source": [
    "### Greatest of two or three numbers"
   ],
   "metadata": {
    "ExecuteTime": {
     "end_time": "2021-06-13T19:05:53.425681Z",
     "start_time": "2021-06-13T19:05:53.417685Z"
    }
   }
  },
  {
   "cell_type": "markdown",
   "source": [
    "### Power of a number"
   ],
   "metadata": {
    "ExecuteTime": {
     "end_time": "2021-06-13T19:05:54.322656Z",
     "start_time": "2021-06-13T19:05:54.315661Z"
    }
   }
  },
  {
   "cell_type": "markdown",
   "source": [
    "### Find factors of a Number"
   ],
   "metadata": {
    "ExecuteTime": {
     "end_time": "2021-06-13T19:05:55.068871Z",
     "start_time": "2021-06-13T19:05:55.050877Z"
    }
   }
  },
  {
   "cell_type": "markdown",
   "source": [
    "### Sum of First N Natural numbers"
   ],
   "metadata": {
    "ExecuteTime": {
     "end_time": "2021-06-13T19:05:55.791111Z",
     "start_time": "2021-06-13T19:05:55.787132Z"
    }
   }
  },
  {
   "cell_type": "code",
   "execution_count": 87,
   "source": [
    "num = int(input(\"Enter the Number:\"))\r\n",
    "sum=0\r\n",
    "for i in range(1,num+1):\r\n",
    "    sum+=i\r\n",
    "sum"
   ],
   "outputs": [
    {
     "output_type": "stream",
     "name": "stdout",
     "text": [
      "Enter the Number:5\n"
     ]
    },
    {
     "output_type": "execute_result",
     "data": {
      "text/plain": [
       "15"
      ]
     },
     "metadata": {},
     "execution_count": 87
    }
   ],
   "metadata": {
    "ExecuteTime": {
     "end_time": "2021-06-13T19:15:33.759244Z",
     "start_time": "2021-06-13T19:15:27.796142Z"
    },
    "scrolled": true
   }
  },
  {
   "cell_type": "code",
   "execution_count": 97,
   "source": [
    "#By formula of sum of first n natural numbers: (n*(n+1))/2\r\n",
    "num = int(input(\"Enter the Number:\"))\r\n",
    "print((num*(num+1))//2)"
   ],
   "outputs": [
    {
     "output_type": "stream",
     "name": "stdout",
     "text": [
      "Enter the Number:5\n",
      "15\n"
     ]
    }
   ],
   "metadata": {
    "ExecuteTime": {
     "end_time": "2021-06-13T19:20:01.087803Z",
     "start_time": "2021-06-13T19:19:59.251521Z"
    }
   }
  },
  {
   "cell_type": "markdown",
   "source": [
    "### Sum of Natural numbers in given range"
   ],
   "metadata": {
    "ExecuteTime": {
     "end_time": "2021-06-13T19:26:18.505886Z",
     "start_time": "2021-06-13T19:26:18.487878Z"
    }
   }
  },
  {
   "cell_type": "code",
   "execution_count": 99,
   "source": [
    "f,l =  map(int,input(\"Enter the Number:\").split())\r\n",
    "sum=0\r\n",
    "for i in range(f,l+1):\r\n",
    "    sum+=i\r\n",
    "sum"
   ],
   "outputs": [
    {
     "output_type": "stream",
     "name": "stdout",
     "text": [
      "Enter the Number:5 10\n"
     ]
    },
    {
     "output_type": "execute_result",
     "data": {
      "text/plain": [
       "45"
      ]
     },
     "metadata": {},
     "execution_count": 99
    }
   ],
   "metadata": {
    "ExecuteTime": {
     "end_time": "2021-06-13T19:30:55.595045Z",
     "start_time": "2021-06-13T19:30:50.672036Z"
    }
   }
  },
  {
   "cell_type": "markdown",
   "source": [
    "### Finding Maximum Number Of Handshakes\n",
    "Number of handshakes = N * (n-1)/2"
   ],
   "metadata": {}
  },
  {
   "cell_type": "code",
   "execution_count": 49,
   "source": [
    "N = 30\r\n",
    "no_of_handshakes = int(N *((N-1)/2))\r\n",
    "no_of_handshakes"
   ],
   "outputs": [
    {
     "output_type": "execute_result",
     "data": {
      "text/plain": [
       "435"
      ]
     },
     "metadata": {},
     "execution_count": 49
    }
   ],
   "metadata": {
    "ExecuteTime": {
     "end_time": "2021-06-16T23:09:59.753999Z",
     "start_time": "2021-06-16T23:09:59.742000Z"
    }
   }
  },
  {
   "cell_type": "markdown",
   "source": [
    "### Program to check if the given number is Prime or not in Python"
   ],
   "metadata": {
    "ExecuteTime": {
     "end_time": "2021-06-13T19:05:59.001869Z",
     "start_time": "2021-06-13T19:05:58.994892Z"
    }
   }
  },
  {
   "cell_type": "code",
   "execution_count": 105,
   "source": [
    "n = 5\r\n",
    "for i in range(2,n):\r\n",
    "    if n%i==0:\r\n",
    "        print(\"Not Prime\")\r\n",
    "        break\r\n",
    "else:\r\n",
    "    print(\"Prime\")"
   ],
   "outputs": [
    {
     "output_type": "stream",
     "name": "stdout",
     "text": [
      "Prime\n"
     ]
    }
   ],
   "metadata": {
    "ExecuteTime": {
     "end_time": "2021-06-13T19:34:33.038794Z",
     "start_time": "2021-06-13T19:34:33.017784Z"
    }
   }
  },
  {
   "cell_type": "markdown",
   "source": [
    "### Prime number within a given range"
   ],
   "metadata": {}
  },
  {
   "cell_type": "code",
   "execution_count": 110,
   "source": [
    "f,l = map(int,input(\"Enter the Number:\").split())\r\n",
    "for i in range(f,l):\r\n",
    "    for j in range(2,i):\r\n",
    "        if i%j==0:\r\n",
    "            break\r\n",
    "    else:\r\n",
    "        print(i,\"Prime\")"
   ],
   "outputs": [
    {
     "output_type": "stream",
     "name": "stdout",
     "text": [
      "Enter the Number:11 56\n",
      "11 Prime\n",
      "13 Prime\n",
      "17 Prime\n",
      "19 Prime\n",
      "23 Prime\n",
      "29 Prime\n",
      "31 Prime\n",
      "37 Prime\n",
      "41 Prime\n",
      "43 Prime\n",
      "47 Prime\n",
      "53 Prime\n"
     ]
    }
   ],
   "metadata": {
    "ExecuteTime": {
     "end_time": "2021-06-13T19:44:37.526893Z",
     "start_time": "2021-06-13T19:44:35.548152Z"
    }
   }
  },
  {
   "cell_type": "markdown",
   "source": [
    "### Check Given Year is Leap Year or Not"
   ],
   "metadata": {
    "ExecuteTime": {
     "end_time": "2021-06-13T19:06:00.567414Z",
     "start_time": "2021-06-13T19:06:00.550428Z"
    }
   }
  },
  {
   "cell_type": "code",
   "execution_count": 107,
   "source": [
    "year = int(input(\"Enter the year: \"))\n",
    "if ((year%4 == 0 and year%100 != 0) or (year%100 == 0 and year%400 == 0)):\n",
    "    print(year,\"is a leap year\")\n",
    "else:\n",
    "    print(year,\"is not a leap year\")"
   ],
   "outputs": [
    {
     "output_type": "stream",
     "name": "stdout",
     "text": [
      "Enter the year: 2000\n",
      "2000 is a leap year\n"
     ]
    }
   ],
   "metadata": {
    "ExecuteTime": {
     "end_time": "2021-06-13T19:39:23.086522Z",
     "start_time": "2021-06-13T19:39:21.387166Z"
    }
   }
  },
  {
   "cell_type": "markdown",
   "source": [
    "### Find Sum Of Digits Of a Number"
   ],
   "metadata": {
    "ExecuteTime": {
     "end_time": "2021-06-13T19:06:02.225427Z",
     "start_time": "2021-06-13T19:06:02.216434Z"
    }
   }
  },
  {
   "cell_type": "code",
   "execution_count": 126,
   "source": [
    "#Maths way\n",
    "n=1356\n",
    "sum=0\n",
    "while n!=0:\n",
    "    sum+=n%10\n",
    "    n=n//10\n",
    "sum"
   ],
   "outputs": [
    {
     "output_type": "execute_result",
     "data": {
      "text/plain": [
       "15"
      ]
     },
     "metadata": {},
     "execution_count": 126
    }
   ],
   "metadata": {
    "ExecuteTime": {
     "end_time": "2021-06-13T19:53:35.822773Z",
     "start_time": "2021-06-13T19:53:35.808780Z"
    }
   }
  },
  {
   "cell_type": "code",
   "execution_count": 130,
   "source": [
    "#Pytonic Way\r\n",
    "n=1356\r\n",
    "sum=0\r\n",
    "n = [i for i in str(n)]\r\n",
    "for i in n:\r\n",
    "    sum+=int(i)\r\n",
    "sum"
   ],
   "outputs": [
    {
     "output_type": "execute_result",
     "data": {
      "text/plain": [
       "15"
      ]
     },
     "metadata": {},
     "execution_count": 130
    }
   ],
   "metadata": {
    "ExecuteTime": {
     "end_time": "2021-06-13T19:54:56.168305Z",
     "start_time": "2021-06-13T19:54:56.157310Z"
    }
   }
  },
  {
   "cell_type": "markdown",
   "source": [
    "### Find the Reverse of a given number"
   ],
   "metadata": {
    "ExecuteTime": {
     "end_time": "2021-06-13T19:06:03.821150Z",
     "start_time": "2021-06-13T19:06:03.803162Z"
    }
   }
  },
  {
   "cell_type": "code",
   "execution_count": 137,
   "source": [
    "#Maths Way\r\n",
    "n = 1568\r\n",
    "s = \"\"\r\n",
    "while n!=0:\r\n",
    "    s+=str(n%10)\r\n",
    "    n=n//10\r\n",
    "int(s)"
   ],
   "outputs": [
    {
     "output_type": "execute_result",
     "data": {
      "text/plain": [
       "8651"
      ]
     },
     "metadata": {},
     "execution_count": 137
    }
   ],
   "metadata": {
    "ExecuteTime": {
     "end_time": "2021-06-13T20:03:04.769621Z",
     "start_time": "2021-06-13T20:03:04.751618Z"
    }
   }
  },
  {
   "cell_type": "code",
   "execution_count": 138,
   "source": [
    "#Pythonic Way\r\n",
    "n = 1568\r\n",
    "print(str(n)[::-1])"
   ],
   "outputs": [
    {
     "output_type": "stream",
     "name": "stdout",
     "text": [
      "8651\n"
     ]
    }
   ],
   "metadata": {
    "ExecuteTime": {
     "end_time": "2021-06-13T20:03:30.332433Z",
     "start_time": "2021-06-13T20:03:30.316523Z"
    }
   }
  },
  {
   "cell_type": "markdown",
   "source": [
    "### Find a Number is Palindrome or not"
   ],
   "metadata": {
    "ExecuteTime": {
     "end_time": "2021-06-13T19:06:05.471819Z",
     "start_time": "2021-06-13T19:06:05.457813Z"
    }
   }
  },
  {
   "cell_type": "code",
   "execution_count": 147,
   "source": [
    "#Maths Way\r\n",
    "n = 1771\r\n",
    "n1 = n\r\n",
    "s = \"\"\r\n",
    "while n!=0:\r\n",
    "    s+=str(n%10)\r\n",
    "    n=n//10\r\n",
    "int(s)==n1"
   ],
   "outputs": [
    {
     "output_type": "execute_result",
     "data": {
      "text/plain": [
       "True"
      ]
     },
     "metadata": {},
     "execution_count": 147
    }
   ],
   "metadata": {
    "ExecuteTime": {
     "end_time": "2021-06-13T20:08:50.565273Z",
     "start_time": "2021-06-13T20:08:50.548282Z"
    }
   }
  },
  {
   "cell_type": "code",
   "execution_count": 148,
   "source": [
    "#Pythonic Way\r\n",
    "n = 1771\r\n",
    "print(str(n)[::-1]==str(n))"
   ],
   "outputs": [
    {
     "output_type": "stream",
     "name": "stdout",
     "text": [
      "True\n"
     ]
    }
   ],
   "metadata": {
    "ExecuteTime": {
     "end_time": "2021-06-13T20:08:53.673489Z",
     "start_time": "2021-06-13T20:08:53.659501Z"
    }
   }
  },
  {
   "cell_type": "markdown",
   "source": [
    "### Find a Number is Armstrong or not"
   ],
   "metadata": {
    "ExecuteTime": {
     "end_time": "2021-06-13T19:06:07.949509Z",
     "start_time": "2021-06-13T19:06:07.931518Z"
    }
   }
  },
  {
   "cell_type": "code",
   "execution_count": 159,
   "source": [
    "#Maths Way\r\n",
    "n = 1634\r\n",
    "n1=n\r\n",
    "s=0\r\n",
    "l = len(str(n))\r\n",
    "while n!=0:\r\n",
    "    d = n%10\r\n",
    "    s+=d**l\r\n",
    "    n=n//10\r\n",
    "s==n1"
   ],
   "outputs": [
    {
     "output_type": "execute_result",
     "data": {
      "text/plain": [
       "True"
      ]
     },
     "metadata": {},
     "execution_count": 159
    }
   ],
   "metadata": {
    "ExecuteTime": {
     "end_time": "2021-06-13T21:01:06.194327Z",
     "start_time": "2021-06-13T21:01:06.162347Z"
    }
   }
  },
  {
   "cell_type": "code",
   "execution_count": 161,
   "source": [
    "#Pythonic Way\r\n",
    "n = '153'\r\n",
    "s=0\r\n",
    "for i in n:\r\n",
    "    s+=int(i)**len(n)\r\n",
    "s == int(n)"
   ],
   "outputs": [
    {
     "output_type": "execute_result",
     "data": {
      "text/plain": [
       "True"
      ]
     },
     "metadata": {},
     "execution_count": 161
    }
   ],
   "metadata": {
    "ExecuteTime": {
     "end_time": "2021-06-13T21:05:01.889659Z",
     "start_time": "2021-06-13T21:05:01.873660Z"
    }
   }
  },
  {
   "cell_type": "markdown",
   "source": [
    "### Find a Number is Strong or not\n",
    "Sum of factorials of each digit = Given Number"
   ],
   "metadata": {}
  },
  {
   "cell_type": "code",
   "execution_count": 201,
   "source": [
    "#Maths Way\n",
    "n = 145\n",
    "n1=n\n",
    "s=0\n",
    "while n!=0:\n",
    "    d=n%10\n",
    "    sum=1\n",
    "    for i in range(1,d+1):\n",
    "        sum*=i\n",
    "    s+=sum\n",
    "    n=n//10\n",
    "n1==s"
   ],
   "outputs": [
    {
     "output_type": "execute_result",
     "data": {
      "text/plain": [
       "True"
      ]
     },
     "metadata": {},
     "execution_count": 201
    }
   ],
   "metadata": {
    "ExecuteTime": {
     "end_time": "2021-06-13T22:21:01.634391Z",
     "start_time": "2021-06-13T22:21:01.614134Z"
    }
   }
  },
  {
   "cell_type": "markdown",
   "source": [
    "### Find Fibonacci series up to n"
   ],
   "metadata": {
    "ExecuteTime": {
     "end_time": "2021-06-13T19:06:09.522585Z",
     "start_time": "2021-06-13T19:06:09.517587Z"
    }
   }
  },
  {
   "cell_type": "code",
   "execution_count": 188,
   "source": [
    "n=10\n",
    "def fibo(n):\n",
    "    if n<=1:\n",
    "        return n\n",
    "    return fibo(n-1)+fibo(n-2)\n",
    "for i in range(n):\n",
    "    print(fibo(i),end=\" \")"
   ],
   "outputs": [
    {
     "output_type": "stream",
     "name": "stdout",
     "text": [
      "0 1 1 2 3 5 8 13 21 34 "
     ]
    }
   ],
   "metadata": {
    "ExecuteTime": {
     "end_time": "2021-06-13T22:06:17.423314Z",
     "start_time": "2021-06-13T22:06:17.407311Z"
    }
   }
  },
  {
   "cell_type": "code",
   "execution_count": 177,
   "source": [
    "n = 10\n",
    "n1,n2 = 0,1\n",
    "print(n1,n2,end=\" \")\n",
    "for i in range(1,n-1):\n",
    "    s=n1+n2\n",
    "    print(s,end=\" \")\n",
    "    n1=n2\n",
    "    n2=s"
   ],
   "outputs": [
    {
     "output_type": "stream",
     "name": "stdout",
     "text": [
      "0 1 1 2 3 5 8 13 21 34 "
     ]
    }
   ],
   "metadata": {
    "ExecuteTime": {
     "end_time": "2021-06-13T21:57:09.221158Z",
     "start_time": "2021-06-13T21:57:09.205142Z"
    }
   }
  },
  {
   "cell_type": "markdown",
   "source": [
    "### Find a Factorial of a Number"
   ],
   "metadata": {
    "ExecuteTime": {
     "end_time": "2021-06-13T19:06:11.266549Z",
     "start_time": "2021-06-13T19:06:11.250923Z"
    }
   }
  },
  {
   "cell_type": "code",
   "execution_count": 194,
   "source": [
    "n=5\n",
    "def fact(n):\n",
    "    if n<=1:\n",
    "        return 1\n",
    "    return n*fact(n-1)\n",
    "fact(n)"
   ],
   "outputs": [
    {
     "output_type": "execute_result",
     "data": {
      "text/plain": [
       "120"
      ]
     },
     "metadata": {},
     "execution_count": 194
    }
   ],
   "metadata": {
    "ExecuteTime": {
     "end_time": "2021-06-13T22:11:21.445210Z",
     "start_time": "2021-06-13T22:11:21.421212Z"
    }
   }
  },
  {
   "cell_type": "code",
   "execution_count": 195,
   "source": [
    "n = 5\n",
    "sum=1\n",
    "for i in range(1,n+1):\n",
    "    sum*=i\n",
    "sum"
   ],
   "outputs": [
    {
     "output_type": "execute_result",
     "data": {
      "text/plain": [
       "120"
      ]
     },
     "metadata": {},
     "execution_count": 195
    }
   ],
   "metadata": {
    "ExecuteTime": {
     "end_time": "2021-06-13T22:13:02.289644Z",
     "start_time": "2021-06-13T22:13:02.265635Z"
    }
   }
  },
  {
   "cell_type": "markdown",
   "source": [
    "### Factorial Series upto n"
   ],
   "metadata": {
    "ExecuteTime": {
     "end_time": "2021-06-13T19:06:14.013028Z",
     "start_time": "2021-06-13T19:06:13.997037Z"
    }
   }
  },
  {
   "cell_type": "code",
   "execution_count": 197,
   "source": [
    "n=5\n",
    "def fact(n):\n",
    "    if n<=1:\n",
    "        return 1\n",
    "    return n*fact(n-1)\n",
    "for i in range(1,n+1):\n",
    "    print(fact(i),end=\" \")"
   ],
   "outputs": [
    {
     "output_type": "stream",
     "name": "stdout",
     "text": [
      "1 2 6 24 120 "
     ]
    }
   ],
   "metadata": {
    "ExecuteTime": {
     "end_time": "2021-06-13T22:14:08.655589Z",
     "start_time": "2021-06-13T22:14:08.639584Z"
    }
   }
  },
  {
   "cell_type": "code",
   "execution_count": 198,
   "source": [
    "n = 5\r\n",
    "sum=1\r\n",
    "for i in range(1,n+1):\r\n",
    "    sum*=i\r\n",
    "    print(sum,end=\" \")"
   ],
   "outputs": [
    {
     "output_type": "stream",
     "name": "stdout",
     "text": [
      "1 2 6 24 120 "
     ]
    }
   ],
   "metadata": {
    "ExecuteTime": {
     "end_time": "2021-06-13T22:14:09.155939Z",
     "start_time": "2021-06-13T22:14:09.139943Z"
    }
   }
  },
  {
   "cell_type": "markdown",
   "source": [
    "### Perfect Number\n",
    "Sum of divisors of a number = Given Number"
   ],
   "metadata": {
    "ExecuteTime": {
     "end_time": "2021-06-13T22:26:18.588151Z",
     "start_time": "2021-06-13T22:26:18.578064Z"
    }
   }
  },
  {
   "cell_type": "code",
   "execution_count": 209,
   "source": [
    "n = 6\r\n",
    "s=0\r\n",
    "for i in range(1,n):\r\n",
    "    if n%i==0:\r\n",
    "        s+=i\r\n",
    "s==n"
   ],
   "outputs": [
    {
     "output_type": "execute_result",
     "data": {
      "text/plain": [
       "True"
      ]
     },
     "metadata": {},
     "execution_count": 209
    }
   ],
   "metadata": {
    "ExecuteTime": {
     "end_time": "2021-06-13T22:31:28.959640Z",
     "start_time": "2021-06-13T22:31:28.950102Z"
    }
   }
  },
  {
   "cell_type": "markdown",
   "source": [
    "### Automorphic Number\n",
    "Ex: 25*25=625 So last two digits of 625 is 25 which is =Given Number\n",
    "\n",
    "Ex: 5*5 = 25 Last digit is = 5(Given Number)"
   ],
   "metadata": {
    "ExecuteTime": {
     "end_time": "2021-06-13T19:06:20.031465Z",
     "start_time": "2021-06-13T19:06:20.023471Z"
    }
   }
  },
  {
   "cell_type": "code",
   "execution_count": 213,
   "source": [
    "#Maths Way\r\n",
    "n = 25\r\n",
    "sq = n*n\r\n",
    "ans=None\r\n",
    "while n!=0:\r\n",
    "    if n%10 == sq%10:\r\n",
    "        ans = True\r\n",
    "        n=n//10\r\n",
    "        sq=sq//10\r\n",
    "    else:\r\n",
    "        ans = False\r\n",
    "        break\r\n",
    "ans"
   ],
   "outputs": [
    {
     "output_type": "execute_result",
     "data": {
      "text/plain": [
       "True"
      ]
     },
     "metadata": {},
     "execution_count": 213
    }
   ],
   "metadata": {
    "ExecuteTime": {
     "end_time": "2021-06-13T22:41:02.805094Z",
     "start_time": "2021-06-13T22:41:02.784394Z"
    }
   }
  },
  {
   "cell_type": "code",
   "execution_count": 221,
   "source": [
    "#Pythonic Way\r\n",
    "n=25\r\n",
    "sq=str(n*n)\r\n",
    "print(n == int(sq[-2:]))"
   ],
   "outputs": [
    {
     "output_type": "stream",
     "name": "stdout",
     "text": [
      "True\n"
     ]
    }
   ],
   "metadata": {
    "ExecuteTime": {
     "end_time": "2021-06-13T22:45:23.653478Z",
     "start_time": "2021-06-13T22:45:23.633204Z"
    }
   }
  },
  {
   "cell_type": "markdown",
   "source": [
    "### Harshad Number\n",
    "Example : n=408\n",
    "\n",
    "sum of digits of 408 = 12\n",
    "\n",
    "408 is divisible by 12\n",
    "\n",
    "408 is Harshad number"
   ],
   "metadata": {
    "ExecuteTime": {
     "end_time": "2021-06-13T19:06:26.487975Z",
     "start_time": "2021-06-13T19:06:26.482977Z"
    }
   }
  },
  {
   "cell_type": "code",
   "execution_count": 229,
   "source": [
    "#Maths Way\r\n",
    "n = 408\r\n",
    "n1=n\r\n",
    "s=0\r\n",
    "while n!=0:\r\n",
    "    d=n%10\r\n",
    "    s+=d\r\n",
    "    n=n//10\r\n",
    "if n1//s:\r\n",
    "    print(n1,\"Harshad Number\")\r\n",
    "else:\r\n",
    "    print(n1,\"Not Harshad\")"
   ],
   "outputs": [
    {
     "output_type": "stream",
     "name": "stdout",
     "text": [
      "408 Harshad Number\n"
     ]
    }
   ],
   "metadata": {
    "ExecuteTime": {
     "end_time": "2021-06-13T22:53:28.292673Z",
     "start_time": "2021-06-13T22:53:28.272330Z"
    }
   }
  },
  {
   "cell_type": "code",
   "execution_count": 230,
   "source": [
    "#Pythonic Way\r\n",
    "n = 153\r\n",
    "s=0\r\n",
    "ans=False\r\n",
    "for i in str(n):\r\n",
    "    s+=int(i)\r\n",
    "if n//s:\r\n",
    "    ans= True\r\n",
    "ans"
   ],
   "outputs": [
    {
     "output_type": "execute_result",
     "data": {
      "text/plain": [
       "True"
      ]
     },
     "metadata": {},
     "execution_count": 230
    }
   ],
   "metadata": {
    "ExecuteTime": {
     "end_time": "2021-06-13T23:00:29.143338Z",
     "start_time": "2021-06-13T23:00:29.132801Z"
    }
   }
  },
  {
   "cell_type": "markdown",
   "source": [
    "### Abundant Number\n",
    "Ex: 12\n",
    "Sum of its divisors (1 + 2 + 3 + 4 + 6) = 16 > 12 (Abundant Number)"
   ],
   "metadata": {
    "ExecuteTime": {
     "end_time": "2021-06-13T19:06:28.057620Z",
     "start_time": "2021-06-13T19:06:28.042631Z"
    }
   }
  },
  {
   "cell_type": "code",
   "execution_count": 233,
   "source": [
    "n = 12\r\n",
    "s=0\r\n",
    "for i in range(1,n):\r\n",
    "    if n%i==0:\r\n",
    "        s+=i\r\n",
    "print(s>n)"
   ],
   "outputs": [
    {
     "output_type": "stream",
     "name": "stdout",
     "text": [
      "True\n"
     ]
    }
   ],
   "metadata": {
    "ExecuteTime": {
     "end_time": "2021-06-13T23:05:42.070243Z",
     "start_time": "2021-06-13T23:05:42.045143Z"
    }
   }
  },
  {
   "cell_type": "markdown",
   "source": [
    "### HCF of Two Numbers"
   ],
   "metadata": {
    "ExecuteTime": {
     "end_time": "2021-06-16T19:52:13.703622Z",
     "start_time": "2021-06-16T19:52:13.671627Z"
    }
   }
  },
  {
   "cell_type": "code",
   "execution_count": 17,
   "source": [
    "n1,n2 = 4,6\r\n",
    "l = [i for i in range(1,n1+1) if n1%i==0 and n2%i==0]\r\n",
    "max(l)"
   ],
   "outputs": [
    {
     "output_type": "execute_result",
     "data": {
      "text/plain": [
       "2"
      ]
     },
     "metadata": {},
     "execution_count": 17
    }
   ],
   "metadata": {
    "ExecuteTime": {
     "end_time": "2021-06-16T20:34:11.372006Z",
     "start_time": "2021-06-16T20:34:11.356011Z"
    }
   }
  },
  {
   "cell_type": "markdown",
   "source": [
    "### LCM of Two Numbers"
   ],
   "metadata": {
    "ExecuteTime": {
     "end_time": "2021-06-13T19:06:40.665244Z",
     "start_time": "2021-06-13T19:06:40.661248Z"
    }
   }
  },
  {
   "cell_type": "code",
   "execution_count": 33,
   "source": [
    "n1,n2 = 4,6\r\n",
    "large = max(n1,n2)\r\n",
    "i=2\r\n",
    "while True:\r\n",
    "    if large%n1==0 and large%n2==0:\r\n",
    "        print(large)\r\n",
    "        break\r\n",
    "    large=n2*i\r\n",
    "    i+=1"
   ],
   "outputs": [
    {
     "output_type": "stream",
     "name": "stdout",
     "text": [
      "12\n"
     ]
    }
   ],
   "metadata": {
    "ExecuteTime": {
     "end_time": "2021-06-16T20:18:26.605571Z",
     "start_time": "2021-06-16T20:18:26.581574Z"
    }
   }
  },
  {
   "cell_type": "markdown",
   "source": [
    "### Binary to Decimal"
   ],
   "metadata": {
    "ExecuteTime": {
     "end_time": "2021-06-13T19:06:42.951988Z",
     "start_time": "2021-06-13T19:06:42.939999Z"
    }
   }
  },
  {
   "cell_type": "code",
   "execution_count": 28,
   "source": [
    "#Maths\r\n",
    "n = '0010'\r\n",
    "l = len(n)-1\r\n",
    "b = 2\r\n",
    "sum=0\r\n",
    "for i in n:\r\n",
    "    sum+=int(i)*(b**l)\r\n",
    "    l-=1\r\n",
    "sum"
   ],
   "outputs": [
    {
     "output_type": "execute_result",
     "data": {
      "text/plain": [
       "2"
      ]
     },
     "metadata": {},
     "execution_count": 28
    }
   ],
   "metadata": {
    "ExecuteTime": {
     "end_time": "2021-06-16T22:10:34.148386Z",
     "start_time": "2021-06-16T22:10:34.136394Z"
    }
   }
  },
  {
   "cell_type": "markdown",
   "source": [
    "### Decimal to Binary"
   ],
   "metadata": {
    "ExecuteTime": {
     "end_time": "2021-06-16T22:11:01.020129Z",
     "start_time": "2021-06-16T22:11:00.999126Z"
    }
   }
  },
  {
   "cell_type": "code",
   "execution_count": 44,
   "source": [
    "#Maths\r\n",
    "n = 2\r\n",
    "b = 2\r\n",
    "l = []\r\n",
    "while n>=b:\r\n",
    "    l.append(n%b)\r\n",
    "    n=n//b\r\n",
    "    if n<b:\r\n",
    "        l.append(n)\r\n",
    "l = l[::-1]\r\n",
    "s = \"\".join(map(str,l))\r\n",
    "int(s)"
   ],
   "outputs": [
    {
     "output_type": "execute_result",
     "data": {
      "text/plain": [
       "10"
      ]
     },
     "metadata": {},
     "execution_count": 44
    }
   ],
   "metadata": {
    "ExecuteTime": {
     "end_time": "2021-06-16T22:27:46.013783Z",
     "start_time": "2021-06-16T22:27:45.985796Z"
    }
   }
  },
  {
   "cell_type": "code",
   "execution_count": 45,
   "source": [
    "#Pythonic\r\n",
    "print(bin(int(2))[-2:])"
   ],
   "outputs": [
    {
     "output_type": "stream",
     "name": "stdout",
     "text": [
      "10\n"
     ]
    }
   ],
   "metadata": {
    "ExecuteTime": {
     "end_time": "2021-06-16T22:27:46.467567Z",
     "start_time": "2021-06-16T22:27:46.447578Z"
    }
   }
  },
  {
   "cell_type": "markdown",
   "source": [
    "### Checking whether a Character is Alphabet or Not?"
   ],
   "metadata": {
    "ExecuteTime": {
     "end_time": "2021-06-16T23:06:12.004979Z",
     "start_time": "2021-06-16T23:06:11.968982Z"
    }
   }
  },
  {
   "cell_type": "code",
   "execution_count": 48,
   "source": [
    "alp = 'A'\r\n",
    "o = ord(alp)\r\n",
    "if o>=65 and o<=90 or o>=97 and o<=122:\r\n",
    "    print('Alphabet')\r\n",
    "else:\r\n",
    "    print('Not Alphabet')"
   ],
   "outputs": [
    {
     "output_type": "stream",
     "name": "stdout",
     "text": [
      "Alphabet\n"
     ]
    }
   ],
   "metadata": {
    "ExecuteTime": {
     "end_time": "2021-06-16T23:06:56.930771Z",
     "start_time": "2021-06-16T23:06:56.911782Z"
    }
   }
  },
  {
   "cell_type": "markdown",
   "source": [
    "## Smallest Element in Array/List"
   ],
   "metadata": {}
  },
  {
   "cell_type": "code",
   "execution_count": 3,
   "source": [
    "l = [1,2,0,3,4,5,6]\r\n",
    "m=l[0]\r\n",
    "for i in l:\r\n",
    "    if i < m:\r\n",
    "        m=i\r\n",
    "print(m)"
   ],
   "outputs": [
    {
     "output_type": "stream",
     "name": "stdout",
     "text": [
      "0\n"
     ]
    }
   ],
   "metadata": {
    "ExecuteTime": {
     "end_time": "2021-06-13T19:06:47.677391Z",
     "start_time": "2021-06-13T19:06:47.658400Z"
    }
   }
  },
  {
   "cell_type": "markdown",
   "source": [
    "## Second Smallest Element in Array"
   ],
   "metadata": {}
  },
  {
   "cell_type": "code",
   "execution_count": 8,
   "source": [
    "def mini(l):\r\n",
    "    m = l[0]\r\n",
    "    for i in l:\r\n",
    "        if i < m:\r\n",
    "            m=i\r\n",
    "    return m\r\n",
    "\r\n",
    "l = [1,1,0,2,5,4,0,9,7]\r\n",
    "m = mini(l)\r\n",
    "for i in l:\r\n",
    "    if i==m:\r\n",
    "        l.remove(m)\r\n",
    "print(sorted(l)[0])\r\n"
   ],
   "outputs": [
    {
     "output_type": "stream",
     "name": "stdout",
     "text": [
      "1\n"
     ]
    }
   ],
   "metadata": {
    "ExecuteTime": {
     "end_time": "2021-06-13T19:06:48.349572Z",
     "start_time": "2021-06-13T19:06:48.341581Z"
    }
   }
  },
  {
   "cell_type": "code",
   "execution_count": 13,
   "source": [
    "l = [1,1,0,2,5,4,0,9,7]\r\n",
    "l.sort()\r\n",
    "m = l[0]\r\n",
    "for i in l:\r\n",
    "    if i!=m:\r\n",
    "        print(i)\r\n",
    "        break"
   ],
   "outputs": [
    {
     "output_type": "stream",
     "name": "stdout",
     "text": [
      "1\n"
     ]
    }
   ],
   "metadata": {
    "ExecuteTime": {
     "end_time": "2021-06-13T19:06:49.010760Z",
     "start_time": "2021-06-13T19:06:49.004763Z"
    }
   }
  },
  {
   "cell_type": "markdown",
   "source": [
    "## Sort first half in ascending order and second half in descending"
   ],
   "metadata": {}
  },
  {
   "cell_type": "code",
   "execution_count": 16,
   "source": [
    "l = [87,56,23,45,9,67,55,89]\r\n",
    "mid = len(l)//2\r\n",
    "l1 = l[:mid]\r\n",
    "l2 = l[mid:]\r\n",
    "l1.sort()\r\n",
    "print(l1)\r\n",
    "l2.sort(reverse=True)\r\n",
    "print(l2)"
   ],
   "outputs": [
    {
     "output_type": "stream",
     "name": "stdout",
     "text": [
      "[23, 45, 56, 87]\n",
      "[89, 67, 55, 9]\n"
     ]
    }
   ],
   "metadata": {
    "ExecuteTime": {
     "end_time": "2021-06-13T19:06:49.679096Z",
     "start_time": "2021-06-13T19:06:49.661107Z"
    }
   }
  },
  {
   "cell_type": "markdown",
   "source": [
    "## Finding the frequency of elements in an array"
   ],
   "metadata": {}
  },
  {
   "cell_type": "code",
   "execution_count": 24,
   "source": [
    "l = [9,12,9,12,10,12,3,4,3]\r\n",
    "d = {}\r\n",
    "for num in l:\r\n",
    "    if num not in d:\r\n",
    "        d[num]=1\r\n",
    "    else:\r\n",
    "        d[num]+=1\r\n",
    "d"
   ],
   "outputs": [
    {
     "output_type": "execute_result",
     "data": {
      "text/plain": [
       "{9: 2, 12: 3, 10: 1, 3: 2, 4: 1}"
      ]
     },
     "metadata": {},
     "execution_count": 24
    }
   ],
   "metadata": {
    "ExecuteTime": {
     "end_time": "2021-06-13T19:06:50.332242Z",
     "start_time": "2021-06-13T19:06:50.325247Z"
    }
   }
  },
  {
   "cell_type": "code",
   "execution_count": 25,
   "source": [
    "l = [9,12,9,12,10,12,3,4,3]\r\n",
    "d = {}\r\n",
    "for i in l:\r\n",
    "    d[i]=d.get(i,0)+1\r\n",
    "d"
   ],
   "outputs": [
    {
     "output_type": "execute_result",
     "data": {
      "text/plain": [
       "{9: 2, 12: 3, 10: 1, 3: 2, 4: 1}"
      ]
     },
     "metadata": {},
     "execution_count": 25
    }
   ],
   "metadata": {
    "ExecuteTime": {
     "end_time": "2021-06-13T19:06:51.676459Z",
     "start_time": "2021-06-13T19:06:51.665467Z"
    }
   }
  },
  {
   "cell_type": "code",
   "execution_count": 36,
   "source": [
    "l = [9,12,9,12,10,12,3,4,3]\r\n",
    "s= list(set(l))\r\n",
    "for i in s:\r\n",
    "    print(i,\"Counts To:\",l.count(i))"
   ],
   "outputs": [
    {
     "output_type": "stream",
     "name": "stdout",
     "text": [
      "3 Counts To: 2\n",
      "4 Counts To: 1\n",
      "9 Counts To: 2\n",
      "10 Counts To: 1\n",
      "12 Counts To: 3\n"
     ]
    }
   ],
   "metadata": {}
  },
  {
   "cell_type": "code",
   "execution_count": null,
   "source": [],
   "outputs": [],
   "metadata": {}
  },
  {
   "cell_type": "markdown",
   "source": [
    "## Longest Palindrome in an Array"
   ],
   "metadata": {}
  },
  {
   "cell_type": "code",
   "execution_count": 27,
   "source": [
    "l = [33,45,121,333,252,4343,4433,45554,8977]\r\n",
    "res = [num for num in l if str(num)[::] == str(num)[::-1]]\r\n",
    "print(max(res))"
   ],
   "outputs": [
    {
     "output_type": "stream",
     "name": "stdout",
     "text": [
      "45554\n"
     ]
    }
   ],
   "metadata": {
    "ExecuteTime": {
     "end_time": "2021-06-13T19:06:52.411676Z",
     "start_time": "2021-06-13T19:06:52.400685Z"
    }
   }
  },
  {
   "cell_type": "code",
   "execution_count": 28,
   "source": [
    "l = [33,45,121,333,252,4343,4433,45554,8977]\r\n",
    "l.sort(reverse=True)\r\n",
    "for num in l:\r\n",
    "    num = str(num)\r\n",
    "    if num[::]==num[::-1]:\r\n",
    "        print(int(num))\r\n",
    "        break"
   ],
   "outputs": [
    {
     "output_type": "stream",
     "name": "stdout",
     "text": [
      "45554\n"
     ]
    }
   ],
   "metadata": {
    "ExecuteTime": {
     "end_time": "2021-06-13T19:06:53.048334Z",
     "start_time": "2021-06-13T19:06:53.032822Z"
    }
   }
  },
  {
   "cell_type": "markdown",
   "source": [
    "## Count and print the distinct elements"
   ],
   "metadata": {}
  },
  {
   "cell_type": "code",
   "execution_count": 29,
   "source": [
    "l = [66,12,1,2,57,34,2,66]\r\n",
    "s = set(l)\r\n",
    "print(s)\r\n",
    "print(len(s))"
   ],
   "outputs": [
    {
     "output_type": "stream",
     "name": "stdout",
     "text": [
      "{1, 66, 2, 34, 12, 57}\n",
      "6\n"
     ]
    }
   ],
   "metadata": {
    "ExecuteTime": {
     "end_time": "2021-06-13T19:06:53.773160Z",
     "start_time": "2021-06-13T19:06:53.754151Z"
    }
   }
  },
  {
   "cell_type": "code",
   "execution_count": 31,
   "source": [
    "l = [66,12,1,2,57,34,2,66]\r\n",
    "d = {}\r\n",
    "for i in l:\r\n",
    "    if i not in d:\r\n",
    "        d[i]=1\r\n",
    "print(d.keys())\r\n",
    "print(len(d))"
   ],
   "outputs": [
    {
     "output_type": "stream",
     "name": "stdout",
     "text": [
      "dict_keys([66, 12, 1, 2, 57, 34])\n",
      "6\n"
     ]
    }
   ],
   "metadata": {
    "ExecuteTime": {
     "end_time": "2021-06-13T19:06:54.443641Z",
     "start_time": "2021-06-13T19:06:54.426494Z"
    }
   }
  },
  {
   "cell_type": "markdown",
   "source": [
    "## Minimum scalar product of two vectors"
   ],
   "metadata": {}
  },
  {
   "cell_type": "code",
   "execution_count": 4,
   "source": [
    "v1 = [2,3,1,4]\r\n",
    "v2 = [3,7,1,9]\r\n",
    "v1.sort()\r\n",
    "v2.sort(reverse=True)\r\n",
    "print(sum([i*j for i,j in zip(v1,v2)]))"
   ],
   "outputs": [
    {
     "output_type": "stream",
     "name": "stdout",
     "text": [
      "36\n"
     ]
    }
   ],
   "metadata": {
    "ExecuteTime": {
     "end_time": "2021-06-13T19:06:56.511961Z",
     "start_time": "2021-06-13T19:06:56.498967Z"
    }
   }
  },
  {
   "cell_type": "markdown",
   "source": [
    "## Finding symmetric pairs in an array in Python"
   ],
   "metadata": {}
  },
  {
   "cell_type": "code",
   "execution_count": 9,
   "source": [
    "arr=[[5,7],[19,22],[13,15],[22,19],[7,5]]\r\n",
    "res = []\r\n",
    "for ar in range(len(arr)):\r\n",
    "    i,j = arr[ar][0],arr[ar][1]\r\n",
    "    for it in range(ar+1,len(arr)):\r\n",
    "        i1,j1 = arr[it][0],arr[it][1]\r\n",
    "        if j == i1 and i == j1:\r\n",
    "            res.append([arr[ar],arr[it]])\r\n",
    "res"
   ],
   "outputs": [
    {
     "output_type": "execute_result",
     "data": {
      "text/plain": [
       "[[[5, 7], [7, 5]], [[19, 22], [22, 19]]]"
      ]
     },
     "metadata": {},
     "execution_count": 9
    }
   ],
   "metadata": {
    "ExecuteTime": {
     "end_time": "2021-06-13T19:06:57.213999Z",
     "start_time": "2021-06-13T19:06:57.198373Z"
    }
   }
  },
  {
   "cell_type": "markdown",
   "source": [
    "## Find maximum product sub-array in a given array"
   ],
   "metadata": {}
  },
  {
   "cell_type": "code",
   "execution_count": 29,
   "source": [
    "from itertools import combinations as comb\r\n",
    "from functools import reduce\r\n",
    "import operator as op\r\n",
    "\r\n",
    "def prod(l):\r\n",
    "    p=[]\r\n",
    "    for i in l:\r\n",
    "        p.append(reduce(op.mul, i, 1))\r\n",
    "        return max(p)\r\n",
    "\r\n",
    "ar = [6,-10,-3,0,5]\r\n",
    "arr = [i for i in ar if i!=0]\r\n",
    "res = []\r\n",
    "if len(arr)>1:\r\n",
    "    for i in range(2,len(arr)+1):\r\n",
    "        maxi = prod(list(comb(arr,i)))\r\n",
    "        res.append(maxi)\r\n",
    "    print(max(res))\r\n",
    "else:\r\n",
    "    print(*arr)\r\n"
   ],
   "outputs": [
    {
     "output_type": "stream",
     "name": "stdout",
     "text": [
      "900\n"
     ]
    }
   ],
   "metadata": {
    "ExecuteTime": {
     "end_time": "2021-06-13T19:06:58.603360Z",
     "start_time": "2021-06-13T19:06:58.594364Z"
    }
   }
  },
  {
   "cell_type": "markdown",
   "source": [
    "## Finding Arrays are disjoint or not "
   ],
   "metadata": {}
  },
  {
   "cell_type": "code",
   "execution_count": 31,
   "source": [
    "ar1 = [1,2,3,4,5]\r\n",
    "ar2 = [6,7,8,9,10]\r\n",
    "print(len([i for i in ar1 if i in ar2])==0)"
   ],
   "outputs": [
    {
     "output_type": "stream",
     "name": "stdout",
     "text": [
      "True\n"
     ]
    }
   ],
   "metadata": {}
  },
  {
   "cell_type": "markdown",
   "source": [
    "## Check if all the numbers of array can be made equal"
   ],
   "metadata": {}
  },
  {
   "cell_type": "code",
   "execution_count": 4,
   "source": [
    "ar = [10,14]\r\n",
    "m,m1 = max(ar),max(ar)\r\n",
    "mi=2\r\n",
    "while True:\r\n",
    "    c=0\r\n",
    "    for i in ar:\r\n",
    "        if m%i==0:\r\n",
    "            c+=1\r\n",
    "    if c==3:\r\n",
    "        print(m)\r\n",
    "        break\r\n",
    "    m = m1*mi\r\n",
    "    mi+=1\r\n",
    "    if mi == 20:\r\n",
    "        print(None)\r\n",
    "        break"
   ],
   "outputs": [
    {
     "output_type": "stream",
     "name": "stdout",
     "text": [
      "None\n"
     ]
    }
   ],
   "metadata": {}
  },
  {
   "cell_type": "markdown",
   "source": [
    "## Sum of minimum absolute difference of array"
   ],
   "metadata": {}
  },
  {
   "cell_type": "code",
   "execution_count": 13,
   "source": [
    "ar1 = [11,3,2,4,1]\r\n",
    "ar2 = [2,3,9,5,6]\r\n",
    "def mindiff(ar):\r\n",
    "    ar.sort()\r\n",
    "    me = None\r\n",
    "    l = len(ar)\r\n",
    "    if l%2==0:\r\n",
    "        me = (ar[l//2-1] + ar[l//2])//2\r\n",
    "    else:\r\n",
    "        me = ar[l//2]\r\n",
    "\r\n",
    "    res = [abs(i-me) for i in ar]\r\n",
    "    print(sum(res))\r\n",
    "mindiff(ar1)\r\n",
    "mindiff(ar2)"
   ],
   "outputs": [
    {
     "output_type": "stream",
     "name": "stdout",
     "text": [
      "12\n",
      "10\n"
     ]
    }
   ],
   "metadata": {}
  },
  {
   "cell_type": "markdown",
   "source": [
    "## Sorting element in array by frequency"
   ],
   "metadata": {}
  },
  {
   "cell_type": "code",
   "execution_count": 26,
   "source": [
    "ar = [2,3,2,5,6,2,3,9,5,6]\r\n",
    "ar.sort()\r\n",
    "print(sorted(ar,key=ar.count,reverse=True))"
   ],
   "outputs": [
    {
     "output_type": "stream",
     "name": "stdout",
     "text": [
      "[2, 2, 2, 3, 3, 5, 5, 6, 6, 9]\n"
     ]
    }
   ],
   "metadata": {}
  },
  {
   "cell_type": "code",
   "execution_count": null,
   "source": [],
   "outputs": [],
   "metadata": {}
  },
  {
   "cell_type": "code",
   "execution_count": null,
   "source": [],
   "outputs": [],
   "metadata": {}
  },
  {
   "cell_type": "code",
   "execution_count": null,
   "source": [],
   "outputs": [],
   "metadata": {}
  },
  {
   "cell_type": "markdown",
   "source": [
    "## Capitalize the first and last letter of each word of a string"
   ],
   "metadata": {}
  },
  {
   "cell_type": "code",
   "execution_count": 36,
   "source": [
    "s = 'basketball'\r\n",
    "s = s[:-1].capitalize()+s[-1].capitalize()\r\n",
    "s"
   ],
   "outputs": [
    {
     "output_type": "execute_result",
     "data": {
      "text/plain": [
       "'BasketbalL'"
      ]
     },
     "metadata": {},
     "execution_count": 36
    }
   ],
   "metadata": {}
  },
  {
   "cell_type": "markdown",
   "source": [
    "## Find nonrepeating characters in a string"
   ],
   "metadata": {}
  },
  {
   "cell_type": "code",
   "execution_count": 40,
   "source": [
    "from collections import Counter\r\n",
    "s = 'ChampakChacha'\r\n",
    "s = Counter(s)\r\n",
    "for k in s:\r\n",
    "    if s.get(k) == 1:\r\n",
    "        print(k,end=\" \")"
   ],
   "outputs": [
    {
     "output_type": "stream",
     "name": "stdout",
     "text": [
      "m p k c "
     ]
    }
   ],
   "metadata": {}
  },
  {
   "cell_type": "code",
   "execution_count": null,
   "source": [],
   "outputs": [],
   "metadata": {}
  },
  {
   "cell_type": "code",
   "execution_count": null,
   "source": [],
   "outputs": [],
   "metadata": {}
  }
 ],
 "metadata": {
  "kernelspec": {
   "name": "python3",
   "display_name": "Python 3.8.3 32-bit"
  },
  "language_info": {
   "codemirror_mode": {
    "name": "ipython",
    "version": 3
   },
   "file_extension": ".py",
   "mimetype": "text/x-python",
   "name": "python",
   "nbconvert_exporter": "python",
   "pygments_lexer": "ipython3",
   "version": "3.8.3"
  },
  "interpreter": {
   "hash": "4af90f45c7792a747df031fcfb3e75fbadd5ecde1f96328d33556550aaa66aac"
  }
 },
 "nbformat": 4,
 "nbformat_minor": 2
}