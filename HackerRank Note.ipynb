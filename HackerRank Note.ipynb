{
 "cells": [
  {
   "cell_type": "code",
   "execution_count": 1,
   "metadata": {
    "ExecuteTime": {
     "end_time": "2021-05-30T16:23:50.117940Z",
     "start_time": "2021-05-30T16:23:50.077943Z"
    }
   },
   "outputs": [
    {
     "data": {
      "text/plain": [
       "(1, 70)"
      ]
     },
     "execution_count": 1,
     "metadata": {},
     "output_type": "execute_result"
    }
   ],
   "source": [
    "#divmod gives quotient as well as reminder of a,b\n",
    "divmod(170,100)"
   ]
  },
  {
   "cell_type": "code",
   "execution_count": 2,
   "metadata": {
    "ExecuteTime": {
     "end_time": "2021-05-30T16:27:57.597118Z",
     "start_time": "2021-05-30T16:27:57.581115Z"
    }
   },
   "outputs": [
    {
     "data": {
      "text/plain": [
       "4"
      ]
     },
     "execution_count": 2,
     "metadata": {},
     "output_type": "execute_result"
    }
   ],
   "source": [
    "#It's also possible to calculate a^b mod m\n",
    "#pow(a,b,m) \n",
    "pow(7,10,5)"
   ]
  },
  {
   "cell_type": "code",
   "execution_count": 16,
   "metadata": {
    "ExecuteTime": {
     "end_time": "2021-05-30T16:34:30.908390Z",
     "start_time": "2021-05-30T16:34:27.981910Z"
    }
   },
   "outputs": [
    {
     "name": "stdout",
     "output_type": "stream",
     "text": [
      "5\n",
      "1\n",
      "22\n",
      "333\n",
      "4444\n"
     ]
    }
   ],
   "source": [
    "for i in range(1,int(input())): #More than 2 lines will result in 0 score. Do not leave a blank line also\n",
    "    print(i*(10**i)//9)"
   ]
  },
  {
   "cell_type": "markdown",
   "metadata": {
    "ExecuteTime": {
     "end_time": "2021-05-30T16:35:35.988771Z",
     "start_time": "2021-05-30T16:35:35.964747Z"
    }
   },
   "source": [
    "# Itertools"
   ]
  },
  {
   "cell_type": "markdown",
   "metadata": {},
   "source": [
    "## Product"
   ]
  },
  {
   "cell_type": "code",
   "execution_count": 35,
   "metadata": {
    "ExecuteTime": {
     "end_time": "2021-05-30T18:48:35.091225Z",
     "start_time": "2021-05-30T18:48:35.078622Z"
    }
   },
   "outputs": [
    {
     "name": "stdout",
     "output_type": "stream",
     "text": [
      "[(1, 1), (1, 2), (1, 3), (2, 1), (2, 2), (2, 3), (3, 1), (3, 2), (3, 3)]\n"
     ]
    }
   ],
   "source": [
    "#All possible products oa one or more than one list\n",
    "from itertools import product\n",
    "print(list(product([1,2,3],repeat = 2))) #repat = 2 means repeat the same list two times and apply product on it"
   ]
  },
  {
   "cell_type": "code",
   "execution_count": 36,
   "metadata": {
    "ExecuteTime": {
     "end_time": "2021-05-30T18:48:48.316043Z",
     "start_time": "2021-05-30T18:48:48.301053Z"
    }
   },
   "outputs": [
    {
     "name": "stdout",
     "output_type": "stream",
     "text": [
      "[(1, 3), (1, 4), (2, 3), (2, 4), (3, 3), (3, 4)]\n"
     ]
    }
   ],
   "source": [
    "print(list(product([1,2,3],[3,4]))) #Possible products of 2 lists"
   ]
  },
  {
   "cell_type": "code",
   "execution_count": 23,
   "metadata": {
    "ExecuteTime": {
     "end_time": "2021-05-30T17:03:01.173836Z",
     "start_time": "2021-05-30T17:03:01.157837Z"
    }
   },
   "outputs": [
    {
     "name": "stdout",
     "output_type": "stream",
     "text": [
      "[(1, 3), (1, 4), (1, 5), (2, 3), (2, 4), (2, 5), (3, 3), (3, 4), (3, 5)]\n"
     ]
    }
   ],
   "source": [
    "A = [[1,2,3],[3,4,5]]\n",
    "print(list(product(*A)))"
   ]
  },
  {
   "cell_type": "code",
   "execution_count": 24,
   "metadata": {
    "ExecuteTime": {
     "end_time": "2021-05-30T17:03:08.087772Z",
     "start_time": "2021-05-30T17:03:08.071772Z"
    }
   },
   "outputs": [
    {
     "name": "stdout",
     "output_type": "stream",
     "text": [
      "[(1, 3, 7), (1, 3, 8), (1, 4, 7), (1, 4, 8), (1, 5, 7), (1, 5, 8), (2, 3, 7), (2, 3, 8), (2, 4, 7), (2, 4, 8), (2, 5, 7), (2, 5, 8), (3, 3, 7), (3, 3, 8), (3, 4, 7), (3, 4, 8), (3, 5, 7), (3, 5, 8)]\n"
     ]
    }
   ],
   "source": [
    "B = [[1,2,3],[3,4,5],[7,8]]\n",
    "print(list(product(*B)))"
   ]
  },
  {
   "cell_type": "markdown",
   "metadata": {},
   "source": [
    "## Permutations"
   ]
  },
  {
   "cell_type": "code",
   "execution_count": 27,
   "metadata": {
    "ExecuteTime": {
     "end_time": "2021-05-30T18:45:43.108516Z",
     "start_time": "2021-05-30T18:45:43.095524Z"
    }
   },
   "outputs": [
    {
     "name": "stdout",
     "output_type": "stream",
     "text": [
      "<itertools.permutations object at 0x0000021890A93168>\n"
     ]
    }
   ],
   "source": [
    "#All possible permutations i.e rearrangment of one or more than one list of a given size\n",
    "from itertools import permutations\n",
    "print(permutations(['1','2','3']))"
   ]
  },
  {
   "cell_type": "code",
   "execution_count": 29,
   "metadata": {
    "ExecuteTime": {
     "end_time": "2021-05-30T18:46:13.197084Z",
     "start_time": "2021-05-30T18:46:13.180074Z"
    }
   },
   "outputs": [
    {
     "name": "stdout",
     "output_type": "stream",
     "text": [
      "[('1', '2', '3'), ('1', '3', '2'), ('2', '1', '3'), ('2', '3', '1'), ('3', '1', '2'), ('3', '2', '1')]\n"
     ]
    }
   ],
   "source": [
    "print(list(permutations(['1','2','3']))) #Size will be the length of a list, ex:here its 3"
   ]
  },
  {
   "cell_type": "code",
   "execution_count": 31,
   "metadata": {
    "ExecuteTime": {
     "end_time": "2021-05-30T18:47:07.224999Z",
     "start_time": "2021-05-30T18:47:07.210012Z"
    }
   },
   "outputs": [
    {
     "name": "stdout",
     "output_type": "stream",
     "text": [
      "[('1', '2'), ('1', '3'), ('2', '1'), ('2', '3'), ('3', '1'), ('3', '2')]\n"
     ]
    }
   ],
   "source": [
    "print(list(permutations(['1','2','3'],2))) #Of size 2"
   ]
  },
  {
   "cell_type": "code",
   "execution_count": 32,
   "metadata": {
    "ExecuteTime": {
     "end_time": "2021-05-30T18:47:14.519218Z",
     "start_time": "2021-05-30T18:47:14.498231Z"
    }
   },
   "outputs": [
    {
     "name": "stdout",
     "output_type": "stream",
     "text": [
      "[('a', 'b', 'c'), ('a', 'c', 'b'), ('b', 'a', 'c'), ('b', 'c', 'a'), ('c', 'a', 'b'), ('c', 'b', 'a')]\n"
     ]
    }
   ],
   "source": [
    "print(list(permutations('abc',3)))"
   ]
  },
  {
   "cell_type": "markdown",
   "metadata": {
    "ExecuteTime": {
     "end_time": "2021-05-30T18:47:28.370699Z",
     "start_time": "2021-05-30T18:47:27.937002Z"
    }
   },
   "source": [
    "## Combinations"
   ]
  },
  {
   "cell_type": "code",
   "execution_count": 41,
   "metadata": {
    "ExecuteTime": {
     "end_time": "2021-05-30T19:00:45.480657Z",
     "start_time": "2021-05-30T19:00:45.463673Z"
    }
   },
   "outputs": [
    {
     "name": "stdout",
     "output_type": "stream",
     "text": [
      "[('1', '2'), ('1', '3'), ('1', '4'), ('1', '5'), ('2', '3'), ('2', '4'), ('2', '5'), ('3', '4'), ('3', '5'), ('4', '5')]\n"
     ]
    }
   ],
   "source": [
    "#All possible combination (it will look same as of permutations but in permutation you'll notice te rearrangements is repeated \n",
    "#for ex: (1,2)&(2,1)) but in combination te repeated pair will be discarded, that is what combination is called.\n",
    "from itertools import combinations\n",
    "print(list(combinations('12345',2)))"
   ]
  },
  {
   "cell_type": "code",
   "execution_count": 42,
   "metadata": {
    "ExecuteTime": {
     "end_time": "2021-05-30T19:02:47.037353Z",
     "start_time": "2021-05-30T19:02:47.027364Z"
    }
   },
   "outputs": [
    {
     "name": "stdout",
     "output_type": "stream",
     "text": [
      "[(1, 1, 3), (1, 1, 3), (1, 1, 3), (1, 3, 3), (1, 3, 3), (1, 3, 3), (1, 3, 3), (1, 3, 3), (1, 3, 3), (3, 3, 3)]\n"
     ]
    }
   ],
   "source": [
    "#Note: that it discards repeated pairs, here there are multiple pairs even though they are of same values\n",
    "A = [1,1,3,3,3]\n",
    "print(list(combinations(A,3)))"
   ]
  },
  {
   "cell_type": "markdown",
   "metadata": {
    "ExecuteTime": {
     "end_time": "2021-05-30T19:17:13.887962Z",
     "start_time": "2021-05-30T19:17:13.868974Z"
    }
   },
   "source": [
    "#### combinations_with_replacement"
   ]
  },
  {
   "cell_type": "code",
   "execution_count": 62,
   "metadata": {
    "ExecuteTime": {
     "end_time": "2021-05-30T19:22:30.143395Z",
     "start_time": "2021-05-30T19:22:30.122404Z"
    }
   },
   "outputs": [
    {
     "name": "stdout",
     "output_type": "stream",
     "text": [
      "[('1', '1'), ('1', '2'), ('1', '3'), ('1', '4'), ('1', '5'), ('2', '2'), ('2', '3'), ('2', '4'), ('2', '5'), ('3', '3'), ('3', '4'), ('3', '5'), ('4', '4'), ('4', '5'), ('5', '5')]\n"
     ]
    }
   ],
   "source": [
    "#Here the only difference from previous combination is that it performs the combinations with itself  also.\n",
    "from itertools import combinations_with_replacement\n",
    "print(list(combinations_with_replacement('12345',2)))"
   ]
  },
  {
   "cell_type": "code",
   "execution_count": 63,
   "metadata": {
    "ExecuteTime": {
     "end_time": "2021-05-30T19:22:30.315438Z",
     "start_time": "2021-05-30T19:22:30.300447Z"
    }
   },
   "outputs": [
    {
     "name": "stdout",
     "output_type": "stream",
     "text": [
      "[(1, 1), (1, 3), (1, 3), (1, 3), (1, 3), (1, 3), (1, 3), (3, 3), (3, 3), (3, 3)]\n"
     ]
    }
   ],
   "source": [
    "A = [1,1,3,3,3]\n",
    "print(list(combinations(A,2)))"
   ]
  },
  {
   "cell_type": "markdown",
   "metadata": {},
   "source": [
    "## Group By"
   ]
  },
  {
   "cell_type": "code",
   "execution_count": 69,
   "metadata": {
    "ExecuteTime": {
     "end_time": "2021-05-30T19:39:04.248695Z",
     "start_time": "2021-05-30T19:39:04.233701Z"
    }
   },
   "outputs": [
    {
     "name": "stdout",
     "output_type": "stream",
     "text": [
      "a <itertools._grouper object at 0x0000021890B01948>\n",
      "b <itertools._grouper object at 0x00000218917EC3C8>\n",
      "c <itertools._grouper object at 0x0000021890B01948>\n",
      "d <itertools._grouper object at 0x00000218917EC3C8>\n"
     ]
    }
   ],
   "source": [
    "#It groups an items, counts and stores the occurrence of each in a grouped list, just like in sql.\n",
    "from itertools import groupby\n",
    "a = \"aaabbbccccd\"\n",
    "x = groupby(a)\n",
    "for k,g in x:\n",
    "    print(k, g)"
   ]
  },
  {
   "cell_type": "code",
   "execution_count": 70,
   "metadata": {
    "ExecuteTime": {
     "end_time": "2021-05-30T19:39:05.031383Z",
     "start_time": "2021-05-30T19:39:05.015396Z"
    }
   },
   "outputs": [
    {
     "name": "stdout",
     "output_type": "stream",
     "text": [
      "a ['a', 'a', 'a']\n",
      "b ['b', 'b', 'b']\n",
      "c ['c', 'c', 'c', 'c']\n",
      "d ['d']\n"
     ]
    }
   ],
   "source": [
    "x = groupby(a)\n",
    "for k,g in x:\n",
    "    print(k, list(g))"
   ]
  },
  {
   "cell_type": "code",
   "execution_count": 74,
   "metadata": {
    "ExecuteTime": {
     "end_time": "2021-05-30T19:41:23.065713Z",
     "start_time": "2021-05-30T19:41:23.045725Z"
    }
   },
   "outputs": [
    {
     "name": "stdout",
     "output_type": "stream",
     "text": [
      "(1, 1) (2, 3) (3, 1) (1, 2) "
     ]
    }
   ],
   "source": [
    "n = \"1222311\"\n",
    "x = groupby(n)\n",
    "for k,v in x:\n",
    "    print((int(k),len(list(v))),end=\" \")"
   ]
  },
  {
   "cell_type": "markdown",
   "metadata": {},
   "source": [
    "First, the character 1 occurs only once. It is replaced by (1,1). Then the character 2 occurs three times, and it is replaced by (3,2) and so on."
   ]
  },
  {
   "cell_type": "code",
   "execution_count": 102,
   "metadata": {
    "ExecuteTime": {
     "end_time": "2021-05-30T21:26:10.712101Z",
     "start_time": "2021-05-30T21:26:10.696101Z"
    }
   },
   "outputs": [
    {
     "data": {
      "text/plain": [
       "206"
      ]
     },
     "execution_count": 102,
     "metadata": {},
     "output_type": "execute_result"
    }
   ],
   "source": [
    "from itertools import product\n",
    "m=1000\n",
    "#l = [list(map(eval, input().split()))[1:] for i in range(3)]\n",
    "#l = [[2,5,4],[3,7,8,9],[5,5,7,8,9,10]] #Each starting number indicates the number of element for that list\n",
    "l = [[5,4],[7,8,9],[5,7,8,9,10]] #This is on which we would apply product not te previous one\n",
    "res = map(lambda x: sum(i**2 for i in x)%m,product(*l))\n",
    "print(max(res))"
   ]
  },
  {
   "cell_type": "markdown",
   "metadata": {
    "ExecuteTime": {
     "end_time": "2021-05-30T21:16:32.614254Z",
     "start_time": "2021-05-30T21:16:32.590254Z"
    }
   },
   "source": [
    "# Collections"
   ]
  },
  {
   "cell_type": "markdown",
   "metadata": {},
   "source": [
    "## defaultdict"
   ]
  },
  {
   "cell_type": "code",
   "execution_count": 3,
   "metadata": {
    "ExecuteTime": {
     "end_time": "2021-05-31T06:18:17.161590Z",
     "start_time": "2021-05-31T06:18:17.137589Z"
    }
   },
   "outputs": [
    {
     "data": {
      "text/plain": [
       "defaultdict(list, {})"
      ]
     },
     "execution_count": 3,
     "metadata": {},
     "output_type": "execute_result"
    }
   ],
   "source": [
    "from collections import defaultdict\n",
    "d = defaultdict(list) # Default dictionary has been created with a default value as empty list\n",
    "d"
   ]
  },
  {
   "cell_type": "code",
   "execution_count": 4,
   "metadata": {
    "ExecuteTime": {
     "end_time": "2021-05-31T06:18:29.843252Z",
     "start_time": "2021-05-31T06:18:29.819251Z"
    }
   },
   "outputs": [
    {
     "data": {
      "text/plain": [
       "defaultdict(list, {'python': ['awesome']})"
      ]
     },
     "execution_count": 4,
     "metadata": {},
     "output_type": "execute_result"
    }
   ],
   "source": [
    "d['python'].append(\"awesome\") #'python' key is added and value 'awesome' is appended\n",
    "d"
   ]
  },
  {
   "cell_type": "code",
   "execution_count": 5,
   "metadata": {
    "ExecuteTime": {
     "end_time": "2021-05-31T06:18:38.455888Z",
     "start_time": "2021-05-31T06:18:38.439889Z"
    }
   },
   "outputs": [
    {
     "name": "stdout",
     "output_type": "stream",
     "text": [
      "('python', ['awesome', 'language'])\n",
      "('something-else', ['not relevant'])\n"
     ]
    }
   ],
   "source": [
    "d['something-else'].append(\"not relevant\")\n",
    "d['python'].append(\"language\")\n",
    "for i in d.items():\n",
    "    print(i)"
   ]
  },
  {
   "cell_type": "code",
   "execution_count": 6,
   "metadata": {
    "ExecuteTime": {
     "end_time": "2021-05-31T06:19:14.048686Z",
     "start_time": "2021-05-31T06:19:14.032687Z"
    }
   },
   "outputs": [
    {
     "data": {
      "text/plain": [
       "[]"
      ]
     },
     "execution_count": 6,
     "metadata": {},
     "output_type": "execute_result"
    }
   ],
   "source": [
    "d['cool'] #Will not show any error "
   ]
  },
  {
   "cell_type": "code",
   "execution_count": 8,
   "metadata": {
    "ExecuteTime": {
     "end_time": "2021-05-31T06:23:39.483943Z",
     "start_time": "2021-05-31T06:23:39.467943Z"
    }
   },
   "outputs": [
    {
     "data": {
      "text/plain": [
       "defaultdict(list,\n",
       "            {'python': ['awesome', 'language'],\n",
       "             'something-else': ['not relevant'],\n",
       "             'cool': []})"
      ]
     },
     "execution_count": 8,
     "metadata": {},
     "output_type": "execute_result"
    }
   ],
   "source": [
    "d #Instead 'cool' has been added"
   ]
  },
  {
   "cell_type": "code",
   "execution_count": 9,
   "metadata": {
    "ExecuteTime": {
     "end_time": "2021-05-31T06:24:00.855176Z",
     "start_time": "2021-05-31T06:24:00.839172Z"
    }
   },
   "outputs": [
    {
     "data": {
      "text/plain": [
       "defaultdict(int, {})"
      ]
     },
     "execution_count": 9,
     "metadata": {},
     "output_type": "execute_result"
    }
   ],
   "source": [
    "#Another Example\n",
    "d1 = defaultdict(int)\n",
    "d1"
   ]
  },
  {
   "cell_type": "code",
   "execution_count": 13,
   "metadata": {
    "ExecuteTime": {
     "end_time": "2021-05-31T07:09:06.382184Z",
     "start_time": "2021-05-31T07:09:06.358167Z"
    }
   },
   "outputs": [
    {
     "data": {
      "text/plain": [
       "defaultdict(int, {'A': 2, 'B': 2, 'C': 0})"
      ]
     },
     "execution_count": 13,
     "metadata": {},
     "output_type": "execute_result"
    }
   ],
   "source": [
    "d1['A'] = 1\n",
    "d1['B'] = 2\n",
    "d1['A'] += 1\n",
    "d1['C']\n",
    "d1"
   ]
  },
  {
   "cell_type": "markdown",
   "metadata": {
    "ExecuteTime": {
     "end_time": "2021-05-31T07:18:27.191275Z",
     "start_time": "2021-05-31T07:18:18.224055Z"
    }
   },
   "source": [
    "## Counter\n",
    "It stores elements as dictionary keys, and their counts are stored as dictionary values."
   ]
  },
  {
   "cell_type": "code",
   "execution_count": 25,
   "metadata": {
    "ExecuteTime": {
     "end_time": "2021-05-31T07:34:09.231044Z",
     "start_time": "2021-05-31T07:34:09.207022Z"
    }
   },
   "outputs": [
    {
     "name": "stdout",
     "output_type": "stream",
     "text": [
      "Counter({2: 4, 3: 4, 1: 3, 4: 2, 5: 1})\n"
     ]
    }
   ],
   "source": [
    "# It stores each of the unique items from the list as a key and its counts as value\n",
    "from collections import Counter\n",
    "myList = [1,1,2,3,4,5,3,2,3,4,2,1,2,3]\n",
    "\n",
    "print(Counter(myList))"
   ]
  },
  {
   "cell_type": "code",
   "execution_count": 23,
   "metadata": {
    "ExecuteTime": {
     "end_time": "2021-05-31T07:33:15.534794Z",
     "start_time": "2021-05-31T07:33:15.518794Z"
    }
   },
   "outputs": [
    {
     "name": "stdout",
     "output_type": "stream",
     "text": [
      "dict_items([(1, 3), (2, 4), (3, 4), (4, 2), (5, 1)])\n"
     ]
    }
   ],
   "source": [
    "print(Counter(myList).items())"
   ]
  },
  {
   "cell_type": "code",
   "execution_count": 24,
   "metadata": {
    "ExecuteTime": {
     "end_time": "2021-05-31T07:33:17.930880Z",
     "start_time": "2021-05-31T07:33:17.922880Z"
    }
   },
   "outputs": [
    {
     "name": "stdout",
     "output_type": "stream",
     "text": [
      "dict_keys([1, 2, 3, 4, 5])\n",
      "dict_values([3, 4, 4, 2, 1])\n"
     ]
    }
   ],
   "source": [
    "print(Counter(myList).keys())\n",
    "print(Counter(myList).values())"
   ]
  },
  {
   "cell_type": "markdown",
   "metadata": {
    "ExecuteTime": {
     "end_time": "2021-05-31T09:11:12.554606Z",
     "start_time": "2021-05-31T09:10:38.681492Z"
    }
   },
   "source": [
    "## namedtuple"
   ]
  },
  {
   "cell_type": "code",
   "execution_count": 27,
   "metadata": {
    "ExecuteTime": {
     "end_time": "2021-05-31T09:27:55.745254Z",
     "start_time": "2021-05-31T09:27:55.727265Z"
    }
   },
   "outputs": [
    {
     "name": "stdout",
     "output_type": "stream",
     "text": [
      "11\n"
     ]
    }
   ],
   "source": [
    "#Acts Similar to the class instances which is used for initializing and using methods.\n",
    "#Here we can create a named tuple which after creation can be used for initialization to have a specific size of information.\n",
    "from collections import namedtuple\n",
    "Point = namedtuple('Point','x,y') # Can have two different values when used for initialization, Consider it as a parametres.\n",
    "pt1 = Point(1,2) #First tuple with x=1,y=2\n",
    "pt2 = Point(3,4) #Second tuple with x=3,y=4\n",
    "dot_product = ( pt1.x * pt2.x ) +( pt1.y * pt2.y )\n",
    "print(dot_product)"
   ]
  },
  {
   "cell_type": "code",
   "execution_count": 29,
   "metadata": {
    "ExecuteTime": {
     "end_time": "2021-05-31T09:28:41.738278Z",
     "start_time": "2021-05-31T09:28:41.726284Z"
    }
   },
   "outputs": [
    {
     "name": "stdout",
     "output_type": "stream",
     "text": [
      "Car(Price=100000, Mileage=30, Colour='Cyan', Class='Y')\n",
      "Y\n"
     ]
    }
   ],
   "source": [
    "Car = namedtuple('Car','Price Mileage Colour Class')\n",
    "xyz = Car(Price = 100000, Mileage = 30, Colour = 'Cyan', Class = 'Y')\n",
    "print(xyz)\n",
    "print(xyz.Class)"
   ]
  },
  {
   "cell_type": "markdown",
   "metadata": {
    "ExecuteTime": {
     "end_time": "2021-05-31T10:05:33.580196Z",
     "start_time": "2021-05-31T10:05:26.221105Z"
    }
   },
   "source": [
    "## OrderedDict\n",
    "As we know that a dictionary is unordered, thus for ordered dictionary we use OrderedDict, which is a dictionary that remembers the order of the keys that were inserted first. If a new entry overwrites an existing entry, the original insertion position is left unchanged."
   ]
  },
  {
   "cell_type": "code",
   "execution_count": 67,
   "metadata": {
    "ExecuteTime": {
     "end_time": "2021-05-31T11:15:48.891950Z",
     "start_time": "2021-05-31T11:15:48.875951Z"
    }
   },
   "outputs": [
    {
     "name": "stdout",
     "output_type": "stream",
     "text": [
      "{'a': 1, 'b': 2, 'c': 3, 'd': 4, 'e': 5}\n"
     ]
    }
   ],
   "source": [
    "ordinary_dictionary = {}\n",
    "ordinary_dictionary['a'] = 1\n",
    "ordinary_dictionary['b'] = 2\n",
    "ordinary_dictionary['c'] = 3\n",
    "ordinary_dictionary['d'] = 4\n",
    "ordinary_dictionary['e'] = 5\n",
    "\n",
    "print(ordinary_dictionary)"
   ]
  },
  {
   "cell_type": "code",
   "execution_count": 74,
   "metadata": {
    "ExecuteTime": {
     "end_time": "2021-05-31T11:17:06.946850Z",
     "start_time": "2021-05-31T11:17:06.922866Z"
    }
   },
   "outputs": [
    {
     "name": "stdout",
     "output_type": "stream",
     "text": [
      "OrderedDict([('a', 1), ('b', 2), ('c', 3), ('d', 4), ('e', 5)])\n"
     ]
    }
   ],
   "source": [
    "from collections import OrderedDict\n",
    "ordered_dictionary = OrderedDict()\n",
    "ordered_dictionary['a'] = 1\n",
    "ordered_dictionary['b'] = 2\n",
    "ordered_dictionary['c'] = 3\n",
    "ordered_dictionary['d'] = 4\n",
    "ordered_dictionary['e'] = 5\n",
    " \n",
    "print(ordered_dictionary) "
   ]
  },
  {
   "cell_type": "code",
   "execution_count": 75,
   "metadata": {
    "ExecuteTime": {
     "end_time": "2021-05-31T11:18:17.457041Z",
     "start_time": "2021-05-31T11:18:17.435308Z"
    }
   },
   "outputs": [
    {
     "data": {
      "text/plain": [
       "1"
      ]
     },
     "execution_count": 75,
     "metadata": {},
     "output_type": "execute_result"
    }
   ],
   "source": [
    "# Though the output is in the form of tuples, method to access an element is the same\n",
    "ordered_dictionary['a']"
   ]
  },
  {
   "cell_type": "code",
   "execution_count": 7,
   "metadata": {
    "ExecuteTime": {
     "end_time": "2021-06-04T07:15:38.691558Z",
     "start_time": "2021-06-04T07:15:38.672568Z"
    }
   },
   "outputs": [
    {
     "data": {
      "text/plain": [
       "OrderedDict([('A', None),\n",
       "             ('B', None),\n",
       "             ('C', None),\n",
       "             ('D', None),\n",
       "             ('E', None),\n",
       "             ('F', None),\n",
       "             ('G', None)])"
      ]
     },
     "execution_count": 7,
     "metadata": {},
     "output_type": "execute_result"
    }
   ],
   "source": [
    "d = OrderedDict.fromkeys(\"AABBCCDDEFG\")\n",
    "d"
   ]
  },
  {
   "cell_type": "code",
   "execution_count": 8,
   "metadata": {
    "ExecuteTime": {
     "end_time": "2021-06-04T07:15:54.375164Z",
     "start_time": "2021-06-04T07:15:54.351147Z"
    }
   },
   "outputs": [
    {
     "data": {
      "text/plain": [
       "OrderedDict([('A', 1),\n",
       "             ('B', 1),\n",
       "             ('C', 1),\n",
       "             ('D', 1),\n",
       "             ('E', 1),\n",
       "             ('F', 1),\n",
       "             ('G', 1)])"
      ]
     },
     "execution_count": 8,
     "metadata": {},
     "output_type": "execute_result"
    }
   ],
   "source": [
    "d = OrderedDict.fromkeys(\"AABBCCDDEFG\",1)\n",
    "d"
   ]
  },
  {
   "cell_type": "code",
   "execution_count": 10,
   "metadata": {
    "ExecuteTime": {
     "end_time": "2021-06-04T07:16:16.020412Z",
     "start_time": "2021-06-04T07:16:16.004408Z"
    }
   },
   "outputs": [
    {
     "data": {
      "text/plain": [
       "(odict_keys(['A', 'B', 'C', 'D', 'E', 'F', 'G']),\n",
       " odict_values([1, 1, 1, 1, 1, 1, 1]))"
      ]
     },
     "execution_count": 10,
     "metadata": {},
     "output_type": "execute_result"
    }
   ],
   "source": [
    "d.keys(),d.values()"
   ]
  },
  {
   "cell_type": "markdown",
   "metadata": {
    "ExecuteTime": {
     "end_time": "2021-05-31T11:43:13.452998Z",
     "start_time": "2021-05-31T11:43:13.436995Z"
    }
   },
   "source": [
    "## dequeue\n",
    "A deque is a double-ended queue. It can be used to add or remove elements from both ends."
   ]
  },
  {
   "cell_type": "code",
   "execution_count": 103,
   "metadata": {
    "ExecuteTime": {
     "end_time": "2021-05-31T13:04:34.492355Z",
     "start_time": "2021-05-31T13:04:34.468358Z"
    }
   },
   "outputs": [
    {
     "name": "stdout",
     "output_type": "stream",
     "text": [
      "deque([1])\n",
      "deque([2, 1])\n",
      "deque([])\n"
     ]
    }
   ],
   "source": [
    "from collections import deque\n",
    "d = deque()\n",
    "d.append(1)\n",
    "print(d)\n",
    "\n",
    "d.appendleft(2)\n",
    "print(d)\n",
    "\n",
    "d.clear()\n",
    "print(d)"
   ]
  },
  {
   "cell_type": "code",
   "execution_count": 104,
   "metadata": {
    "ExecuteTime": {
     "end_time": "2021-05-31T13:04:34.992209Z",
     "start_time": "2021-05-31T13:04:34.968211Z"
    }
   },
   "outputs": [
    {
     "name": "stdout",
     "output_type": "stream",
     "text": [
      "deque(['1'])\n",
      "deque(['4', '3', '2', '1'])\n"
     ]
    }
   ],
   "source": [
    "d.extend('1')\n",
    "print(d)\n",
    "\n",
    "d.extendleft('234')\n",
    "print(d)"
   ]
  },
  {
   "cell_type": "code",
   "execution_count": 105,
   "metadata": {
    "ExecuteTime": {
     "end_time": "2021-05-31T13:04:35.714594Z",
     "start_time": "2021-05-31T13:04:35.682597Z"
    }
   },
   "outputs": [
    {
     "name": "stdout",
     "output_type": "stream",
     "text": [
      "1\n",
      "deque(['4', '3', '2'])\n",
      "deque(['3', '2'])\n",
      "deque(['3', '2', '7', '8', '9', '6'])\n"
     ]
    }
   ],
   "source": [
    "print(d.count('1'))\n",
    "d.pop()\n",
    "print(d)\n",
    "\n",
    "d.popleft()\n",
    "print(d)\n",
    "\n",
    "d.extend('7896')\n",
    "print(d)"
   ]
  },
  {
   "cell_type": "code",
   "execution_count": 106,
   "metadata": {
    "ExecuteTime": {
     "end_time": "2021-05-31T13:05:17.747265Z",
     "start_time": "2021-05-31T13:05:17.723381Z"
    }
   },
   "outputs": [
    {
     "name": "stdout",
     "output_type": "stream",
     "text": [
      "deque(['3', '7', '8', '9', '6'])\n",
      "deque(['6', '9', '8', '7', '3'])\n",
      "deque(['8', '7', '3', '6', '9'])\n"
     ]
    }
   ],
   "source": [
    "d.remove('2')\n",
    "print(d)\n",
    "\n",
    "d.reverse()\n",
    "print(d)\n",
    "\n",
    "d.rotate(3)\n",
    "print(d)"
   ]
  },
  {
   "cell_type": "code",
   "execution_count": 119,
   "metadata": {
    "ExecuteTime": {
     "end_time": "2021-05-31T13:24:26.960706Z",
     "start_time": "2021-05-31T13:24:15.408034Z"
    }
   },
   "outputs": [
    {
     "name": "stdout",
     "output_type": "stream",
     "text": [
      "2\n",
      "append 10\n",
      "append 20\n"
     ]
    }
   ],
   "source": [
    "from collections import deque\n",
    "d = deque()\n",
    "for i in range(int(input())):\n",
    "    opr,val = input().split()\n",
    "    getattr(d,opr)(val)"
   ]
  },
  {
   "cell_type": "code",
   "execution_count": 120,
   "metadata": {
    "ExecuteTime": {
     "end_time": "2021-05-31T13:24:29.032396Z",
     "start_time": "2021-05-31T13:24:29.008375Z"
    }
   },
   "outputs": [
    {
     "name": "stdout",
     "output_type": "stream",
     "text": [
      "10 20\n"
     ]
    }
   ],
   "source": [
    "print(*d)"
   ]
  },
  {
   "cell_type": "markdown",
   "metadata": {},
   "source": [
    "# BuiltIns"
   ]
  },
  {
   "cell_type": "markdown",
   "metadata": {},
   "source": [
    "## ZIP"
   ]
  },
  {
   "cell_type": "code",
   "execution_count": 12,
   "metadata": {
    "ExecuteTime": {
     "end_time": "2021-06-03T20:13:50.691328Z",
     "start_time": "2021-06-03T20:13:50.675328Z"
    }
   },
   "outputs": [
    {
     "name": "stdout",
     "output_type": "stream",
     "text": [
      "[(1, 'H'), (2, 'a'), (3, 'c'), (4, 'k'), (5, 'e'), (6, 'r')]\n",
      "[(1, 0), (2, 9), (3, 8), (4, 7), (5, 6), (6, 5)]\n"
     ]
    }
   ],
   "source": [
    "print(list(zip([1,2,3,4,5,6],'Hacker')))\n",
    "print(list(zip([1,2,3,4,5,6],[0,9,8,7,6,5,4,3,2,1]))) #If unequal length then forms shortest posiible pairs "
   ]
  },
  {
   "cell_type": "code",
   "execution_count": 16,
   "metadata": {
    "ExecuteTime": {
     "end_time": "2021-06-03T20:15:17.045577Z",
     "start_time": "2021-06-03T20:15:17.021578Z"
    }
   },
   "outputs": [
    {
     "name": "stdout",
     "output_type": "stream",
     "text": [
      "[[1, 2, 3], [6, 5, 4], [7, 8, 9]]\n",
      "[1, 2, 3] [6, 5, 4] [7, 8, 9]\n",
      "[(1, 6, 7), (2, 5, 8), (3, 4, 9)]\n"
     ]
    }
   ],
   "source": [
    "A = [1,2,3]\n",
    "B = [6,5,4]\n",
    "C = [7,8,9]\n",
    "X = [A] + [B] + [C]\n",
    "print(X)#Nested List\n",
    "print(*X)#Unpack\n",
    "print(list(zip(*X)))#Zipped"
   ]
  },
  {
   "cell_type": "code",
   "execution_count": 30,
   "metadata": {
    "ExecuteTime": {
     "end_time": "2021-06-03T20:32:09.936199Z",
     "start_time": "2021-06-03T20:31:54.736569Z"
    }
   },
   "outputs": [
    {
     "name": "stdout",
     "output_type": "stream",
     "text": [
      "5 3\n",
      "89 90 78 93 80\n",
      "90 91 85 88 86\n",
      "91 92 83 89 90.5\n",
      "90.0\n",
      "91.0\n",
      "82.0\n",
      "90.0\n",
      "85.0\n"
     ]
    }
   ],
   "source": [
    "n,x = map(int,input().split())\n",
    "l = []\n",
    "for i in range(x):\n",
    "    l.append(list(map(float,input().split())))\n",
    "res = list(zip(*l))\n",
    "for i in res:\n",
    "    print(sum(i)//x)"
   ]
  },
  {
   "cell_type": "markdown",
   "metadata": {},
   "source": [
    "## Regex"
   ]
  },
  {
   "cell_type": "markdown",
   "metadata": {},
   "source": [
    "### split()"
   ]
  },
  {
   "cell_type": "code",
   "execution_count": 132,
   "metadata": {
    "ExecuteTime": {
     "end_time": "2021-06-05T17:03:46.518278Z",
     "start_time": "2021-06-05T17:03:46.486791Z"
    }
   },
   "outputs": [
    {
     "name": "stdout",
     "output_type": "stream",
     "text": [
      "100\n",
      "000\n",
      "000\n",
      "000\n"
     ]
    }
   ],
   "source": [
    "import re\n",
    "regex_pattern = r\"\\.|,\"\n",
    "print(\"\\n\".join(re.split(regex_pattern, '100,000,000.000')))"
   ]
  },
  {
   "cell_type": "markdown",
   "metadata": {},
   "source": [
    "### group()"
   ]
  },
  {
   "cell_type": "code",
   "execution_count": 134,
   "metadata": {
    "ExecuteTime": {
     "end_time": "2021-06-05T17:18:01.529503Z",
     "start_time": "2021-06-05T17:18:01.511512Z"
    }
   },
   "outputs": [
    {
     "name": "stdout",
     "output_type": "stream",
     "text": [
      "<re.Match object; span=(0, 23), match='username@hackerrank.com'>\n",
      "username@hackerrank.com\n",
      "username\n",
      "hackerrank\n",
      "com\n"
     ]
    }
   ],
   "source": [
    "m = re.match(r'(\\w+)@(\\w+)\\.(\\w+)','username@hackerrank.com')\n",
    "print(m)\n",
    "print(m.group(0))       # The entire match \n",
    "print(m.group(1))       # The first parenthesized subgroup.\n",
    "print(m.group(2))       # The second parenthesized subgroup.\n",
    "print(m.group(3))       # The third parenthesized subgroup."
   ]
  },
  {
   "cell_type": "code",
   "execution_count": 135,
   "metadata": {
    "ExecuteTime": {
     "end_time": "2021-06-05T17:18:09.650875Z",
     "start_time": "2021-06-05T17:18:09.641076Z"
    }
   },
   "outputs": [
    {
     "data": {
      "text/plain": [
       "('username', 'hackerrank', 'com')"
      ]
     },
     "execution_count": 135,
     "metadata": {},
     "output_type": "execute_result"
    }
   ],
   "source": [
    "m.group(1,2,3)   # Multiple arguments give us a tuple."
   ]
  },
  {
   "cell_type": "markdown",
   "metadata": {},
   "source": [
    "### groups()\n",
    "A groups() expression returns a tuple containing all the subgroups of the match."
   ]
  },
  {
   "cell_type": "code",
   "execution_count": 138,
   "metadata": {
    "ExecuteTime": {
     "end_time": "2021-06-05T17:21:27.483121Z",
     "start_time": "2021-06-05T17:21:27.461135Z"
    }
   },
   "outputs": [
    {
     "data": {
      "text/plain": [
       "('username', 'hackerrank', 'com')"
      ]
     },
     "execution_count": 138,
     "metadata": {},
     "output_type": "execute_result"
    }
   ],
   "source": [
    "m = re.match(r'(\\w+)@(\\w+)\\.(\\w+)','username@hackerrank.com')\n",
    "m.groups()"
   ]
  },
  {
   "cell_type": "markdown",
   "metadata": {},
   "source": [
    "### groupdict()\n",
    "A groupdict() expression returns a dictionary containing all the named subgroups of the match, keyed by the subgroup name."
   ]
  },
  {
   "cell_type": "code",
   "execution_count": 139,
   "metadata": {
    "ExecuteTime": {
     "end_time": "2021-06-05T17:21:28.222081Z",
     "start_time": "2021-06-05T17:21:28.199106Z"
    }
   },
   "outputs": [
    {
     "data": {
      "text/plain": [
       "{'user': 'myname', 'website': 'hackerrank', 'extension': 'com'}"
      ]
     },
     "execution_count": 139,
     "metadata": {},
     "output_type": "execute_result"
    }
   ],
   "source": [
    ">>> m = re.match(r'(?P<user>\\w+)@(?P<website>\\w+)\\.(?P<extension>\\w+)','myname@hackerrank.com')\n",
    ">>> m.groupdict()"
   ]
  },
  {
   "cell_type": "markdown",
   "metadata": {},
   "source": [
    "# --------------"
   ]
  },
  {
   "cell_type": "code",
   "execution_count": 60,
   "metadata": {
    "ExecuteTime": {
     "end_time": "2021-06-01T15:01:28.391966Z",
     "start_time": "2021-06-01T15:01:28.372980Z"
    }
   },
   "outputs": [],
   "source": [
    "n,k = 5,3\n",
    "arr = [4,2,6,1,10]"
   ]
  },
  {
   "cell_type": "code",
   "execution_count": 70,
   "metadata": {
    "ExecuteTime": {
     "end_time": "2021-06-01T15:03:52.229942Z",
     "start_time": "2021-06-01T15:03:52.223938Z"
    }
   },
   "outputs": [],
   "source": [
    "l2=[]\n",
    "for i in list(range(5)):\n",
    "    l1 = list(range(1,arr[i]+1))\n",
    "    for j in range(0,len(l1),3):\n",
    "        l2.append(l1[j:j+k])"
   ]
  },
  {
   "cell_type": "code",
   "execution_count": 87,
   "metadata": {
    "ExecuteTime": {
     "end_time": "2021-06-01T17:06:36.298671Z",
     "start_time": "2021-06-01T17:06:36.282677Z"
    }
   },
   "outputs": [
    {
     "name": "stdout",
     "output_type": "stream",
     "text": [
      "[4, 3, 2, 1]\n"
     ]
    }
   ],
   "source": [
    "a = [1,4,3,2] #2,3,4,1\n",
    "for i in range(len(a)-1):\n",
    "    for j in range(len(a)-1):\n",
    "        if a[j]<a[j+1]:\n",
    "            a[j],a[j+1] = a[j+1],a[j]\n",
    "print(a)"
   ]
  },
  {
   "cell_type": "code",
   "execution_count": 3,
   "metadata": {
    "ExecuteTime": {
     "end_time": "2021-06-03T11:55:38.614645Z",
     "start_time": "2021-06-03T11:55:38.591660Z"
    }
   },
   "outputs": [
    {
     "name": "stdout",
     "output_type": "stream",
     "text": [
      "b 3\n",
      "a 2\n",
      "c 2\n"
     ]
    }
   ],
   "source": [
    "s = Counter(\"aabbbccde\")\n",
    "for i in s.most_common(3):\n",
    "    print(*i)"
   ]
  },
  {
   "cell_type": "code",
   "execution_count": 41,
   "metadata": {
    "ExecuteTime": {
     "end_time": "2021-06-03T21:08:03.953980Z",
     "start_time": "2021-06-03T21:07:49.192223Z"
    }
   },
   "outputs": [
    {
     "name": "stdout",
     "output_type": "stream",
     "text": [
      "1\n",
      "1\n",
      "1\n",
      "1\n",
      "1\n",
      "7 1 0\n",
      "10 2 5\n",
      "6 5 9\n",
      "9 9 9\n",
      "1 23 12\n"
     ]
    }
   ],
   "source": [
    "l = [[10,2,5],[7,1,0],[9,9,9],[1,23,12],[6,5,9]]\n",
    "#print(sorted(l,key=lambda l: l[1]))\n",
    "for i in sorted(l,key=lambda l: l[int(input())]):\n",
    "    print(*i)"
   ]
  },
  {
   "cell_type": "code",
   "execution_count": 1,
   "metadata": {
    "ExecuteTime": {
     "end_time": "2021-06-07T15:19:14.388091Z",
     "start_time": "2021-06-07T15:19:14.364098Z"
    }
   },
   "outputs": [
    {
     "data": {
      "text/plain": [
       "108"
      ]
     },
     "execution_count": 1,
     "metadata": {},
     "output_type": "execute_result"
    }
   ],
   "source": [
    "ord('l')"
   ]
  },
  {
   "cell_type": "code",
   "execution_count": null,
   "metadata": {
    "ExecuteTime": {
     "end_time": "2021-06-07T19:23:51.798659Z",
     "start_time": "2021-06-07T19:23:51.774660Z"
    }
   },
   "outputs": [],
   "source": []
  },
  {
   "cell_type": "code",
   "execution_count": 91,
   "metadata": {
    "ExecuteTime": {
     "end_time": "2021-06-07T19:30:28.409299Z",
     "start_time": "2021-06-07T19:30:28.385293Z"
    }
   },
   "outputs": [
    {
     "data": {
      "text/plain": [
       "Counter({'a': 1, 'b': 1, 'c': 1, 'd': 1})"
      ]
     },
     "execution_count": 91,
     "metadata": {},
     "output_type": "execute_result"
    }
   ],
   "source": [
    "from collections import Counter\n",
    "s='abcd'\n",
    "s = Counter(s)\n",
    "s"
   ]
  },
  {
   "cell_type": "code",
   "execution_count": null,
   "metadata": {
    "ExecuteTime": {
     "end_time": "2021-06-07T19:16:39.354128Z",
     "start_time": "2021-06-07T19:16:39.330094Z"
    }
   },
   "outputs": [],
   "source": []
  },
  {
   "cell_type": "code",
   "execution_count": 91,
   "metadata": {
    "ExecuteTime": {
     "end_time": "2021-06-10T21:20:38.847263Z",
     "start_time": "2021-06-10T21:20:38.831264Z"
    }
   },
   "outputs": [],
   "source": [
    "# Seats = {} \n",
    "n=7 # |1 |2 |3 |4 prisoners\n",
    "m=19 # * * * * * *candies\n",
    "s = 2 # distributions starts from seat 2\n",
    "# 1--2,2--3,3--4,4--1,5--2,6--3"
   ]
  },
  {
   "cell_type": "code",
   "execution_count": 92,
   "metadata": {
    "ExecuteTime": {
     "end_time": "2021-06-10T21:20:39.095243Z",
     "start_time": "2021-06-10T21:20:39.079245Z"
    }
   },
   "outputs": [
    {
     "data": {
      "text/plain": [
       "6"
      ]
     },
     "execution_count": 92,
     "metadata": {},
     "output_type": "execute_result"
    }
   ],
   "source": [
    "from itertools import cycle\n",
    "l = [i for i in range(s,n+1)]\n",
    "m2=m-len(l)\n",
    "  \n",
    "for index, *ans in zip(range(n), *[cycle(range(1,n+1))] * n):\n",
    "    l.extend(ans)\n",
    "l = l[:m]\n",
    "l[-1]"
   ]
  },
  {
   "cell_type": "code",
   "execution_count": 93,
   "metadata": {
    "ExecuteTime": {
     "end_time": "2021-06-10T21:20:39.470221Z",
     "start_time": "2021-06-10T21:20:39.462226Z"
    }
   },
   "outputs": [
    {
     "data": {
      "text/plain": [
       "[2, 3, 4, 5, 6, 7, 1, 2, 3, 4, 5, 6, 7, 1, 2, 3, 4, 5, 6]"
      ]
     },
     "execution_count": 93,
     "metadata": {},
     "output_type": "execute_result"
    }
   ],
   "source": [
    "l[0:19]"
   ]
  },
  {
   "cell_type": "code",
   "execution_count": 76,
   "metadata": {
    "ExecuteTime": {
     "end_time": "2021-06-10T21:19:03.147197Z",
     "start_time": "2021-06-10T21:19:03.131193Z"
    }
   },
   "outputs": [
    {
     "data": {
      "text/plain": [
       "19"
      ]
     },
     "execution_count": 76,
     "metadata": {},
     "output_type": "execute_result"
    }
   ],
   "source": [
    "m"
   ]
  },
  {
   "cell_type": "code",
   "execution_count": 9,
   "metadata": {
    "ExecuteTime": {
     "end_time": "2021-06-18T16:40:13.335351Z",
     "start_time": "2021-06-18T16:40:13.310920Z"
    }
   },
   "outputs": [],
   "source": [
    "times = [1,2,3,4]\n",
    "ids = [1,2,1,3]\n",
    "\n",
    "dist = set(ids)\n",
    "cost=[]\n",
    "for i in range(0,(len(ids)-len(dist))+1):\n",
    "    l1=[]\n",
    "    c=0\n",
    "    for it in range(i,len(ids)):\n",
    "        l1.append(ids[it])\n",
    "        c+=10\n",
    "        if set(l1) == dist:\n",
    "            break\n",
    "    cost.append(c)\n"
   ]
  },
  {
   "cell_type": "code",
   "execution_count": 10,
   "metadata": {
    "ExecuteTime": {
     "end_time": "2021-06-18T16:40:13.854860Z",
     "start_time": "2021-06-18T16:40:13.846859Z"
    }
   },
   "outputs": [
    {
     "data": {
      "text/plain": [
       "[40, 30]"
      ]
     },
     "execution_count": 10,
     "metadata": {},
     "output_type": "execute_result"
    }
   ],
   "source": [
    "cost"
   ]
  },
  {
   "cell_type": "code",
   "execution_count": 12,
   "metadata": {
    "ExecuteTime": {
     "end_time": "2021-06-18T16:40:51.882888Z",
     "start_time": "2021-06-18T16:40:51.874892Z"
    }
   },
   "outputs": [
    {
     "data": {
      "text/plain": [
       "True"
      ]
     },
     "execution_count": 12,
     "metadata": {},
     "output_type": "execute_result"
    }
   ],
   "source": [
    "times = [1,2,3,1]\n",
    "ids = [1,2,1,3]\n",
    "set(times)==set(ids)"
   ]
  },
  {
   "cell_type": "code",
   "execution_count": 2,
   "metadata": {
    "ExecuteTime": {
     "end_time": "2021-06-25T16:34:44.737001Z",
     "start_time": "2021-06-25T16:34:44.726007Z"
    }
   },
   "outputs": [
    {
     "data": {
      "text/plain": [
       "True"
      ]
     },
     "execution_count": 2,
     "metadata": {},
     "output_type": "execute_result"
    }
   ],
   "source": [
    "[1,2,3,4] == [1,2,3,4]"
   ]
  },
  {
   "cell_type": "code",
   "execution_count": 5,
   "metadata": {
    "ExecuteTime": {
     "end_time": "2021-06-25T16:38:00.225727Z",
     "start_time": "2021-06-25T16:38:00.199741Z"
    }
   },
   "outputs": [
    {
     "name": "stdout",
     "output_type": "stream",
     "text": [
      "['NO', 'YES', 'YES']\n"
     ]
    }
   ],
   "source": [
    "usernames = [\"foo\",\"bar\",\"baz\"]\n",
    "SL=[]\n",
    "res = False\n",
    "for it in usernames:\n",
    "    L = [ord(i) for i in it]\n",
    "    if L == sorted(L):\n",
    "        SL.append(\"NO\")\n",
    "    else:\n",
    "        SL.append(\"YES\")\n",
    "print(SL)\n"
   ]
  },
  {
   "cell_type": "code",
   "execution_count": null,
   "metadata": {},
   "outputs": [],
   "source": []
  }
 ],
 "metadata": {
  "kernelspec": {
   "display_name": "Python 3",
   "language": "python",
   "name": "python3"
  },
  "language_info": {
   "codemirror_mode": {
    "name": "ipython",
    "version": 3
   },
   "file_extension": ".py",
   "mimetype": "text/x-python",
   "name": "python",
   "nbconvert_exporter": "python",
   "pygments_lexer": "ipython3",
   "version": "3.7.4"
  }
 },
 "nbformat": 4,
 "nbformat_minor": 2
}
