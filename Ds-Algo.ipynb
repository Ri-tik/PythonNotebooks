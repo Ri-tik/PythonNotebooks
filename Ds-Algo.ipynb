{
 "cells": [
  {
   "cell_type": "markdown",
   "source": [
    "# Binary Search"
   ],
   "metadata": {}
  },
  {
   "cell_type": "code",
   "execution_count": 46,
   "source": [
    "def binsearch(l,n):\r\n",
    "    si,ei = 0,len(l)-1\r\n",
    "    while(True):\r\n",
    "        if si>ei:\r\n",
    "            return -1\r\n",
    "        mid = (si+ei)//2\r\n",
    "        if l[mid]==n:\r\n",
    "            return mid\r\n",
    "        elif l[mid]<n:\r\n",
    "            si=mid+1\r\n",
    "        else:\r\n",
    "            ei=mid-1"
   ],
   "outputs": [],
   "metadata": {
    "ExecuteTime": {
     "end_time": "2021-05-23T06:41:42.561984Z",
     "start_time": "2021-05-23T06:41:42.546006Z"
    }
   }
  },
  {
   "cell_type": "code",
   "execution_count": 47,
   "source": [
    "print(binsearch([1,2,5,7,9,15],7))"
   ],
   "outputs": [
    {
     "output_type": "stream",
     "name": "stdout",
     "text": [
      "3\n"
     ]
    }
   ],
   "metadata": {
    "ExecuteTime": {
     "end_time": "2021-05-23T06:41:42.799618Z",
     "start_time": "2021-05-23T06:41:42.783735Z"
    },
    "scrolled": true
   }
  },
  {
   "cell_type": "markdown",
   "source": [
    "# Bubble Sort"
   ],
   "metadata": {}
  },
  {
   "cell_type": "code",
   "execution_count": 37,
   "source": [
    "def bubblesort(l):\r\n",
    "    for i in range(len(l)):\r\n",
    "        for j in range(len(l)-1):\r\n",
    "            if l[j]>l[j+1]:\r\n",
    "                print(f\"{l[j]} > {l[j+1]}\")\r\n",
    "                l[j],l[j+1]=l[j+1],l[j]\r\n",
    "                print(l)"
   ],
   "outputs": [],
   "metadata": {
    "ExecuteTime": {
     "end_time": "2021-05-27T13:40:02.704596Z",
     "start_time": "2021-05-27T13:40:02.684607Z"
    },
    "scrolled": true
   }
  },
  {
   "cell_type": "code",
   "execution_count": 49,
   "source": [
    "l = [5,8,2,1,15,9]\r\n",
    "bubblesort(l)\r\n",
    "l"
   ],
   "outputs": [
    {
     "output_type": "stream",
     "name": "stdout",
     "text": [
      "8 > 2\n",
      "[5, 2, 8, 1, 15, 9]\n",
      "8 > 1\n",
      "[5, 2, 1, 8, 15, 9]\n",
      "15 > 9\n",
      "[5, 2, 1, 8, 9, 15]\n",
      "5 > 2\n",
      "[2, 5, 1, 8, 9, 15]\n",
      "5 > 1\n",
      "[2, 1, 5, 8, 9, 15]\n",
      "2 > 1\n",
      "[1, 2, 5, 8, 9, 15]\n"
     ]
    },
    {
     "output_type": "execute_result",
     "data": {
      "text/plain": [
       "[1, 2, 5, 8, 9, 15]"
      ]
     },
     "metadata": {},
     "execution_count": 49
    }
   ],
   "metadata": {
    "ExecuteTime": {
     "end_time": "2021-05-23T06:41:48.216213Z",
     "start_time": "2021-05-23T06:41:48.200214Z"
    }
   }
  },
  {
   "cell_type": "markdown",
   "source": [
    "# Selection Sort"
   ],
   "metadata": {}
  },
  {
   "cell_type": "code",
   "execution_count": 17,
   "source": [
    "def selectionsort(l):\r\n",
    "    for i in range(len(l)):\r\n",
    "        min=i\r\n",
    "        for j in range(i+1,len(l)):\r\n",
    "            if l[j]<l[min]:\r\n",
    "                print(f\"{l[j]} < {l[min]}\")\r\n",
    "                min=j\r\n",
    "        l[i],l[min]= l[min],l[i]\r\n",
    "        print(l)"
   ],
   "outputs": [],
   "metadata": {
    "ExecuteTime": {
     "end_time": "2021-05-30T06:58:16.924556Z",
     "start_time": "2021-05-30T06:58:16.900558Z"
    }
   }
  },
  {
   "cell_type": "code",
   "execution_count": 18,
   "source": [
    "l = [5,8,2,1,15,9]\r\n",
    "selectionsort(l)\r\n",
    "l"
   ],
   "outputs": [
    {
     "output_type": "stream",
     "name": "stdout",
     "text": [
      "2 < 5\n",
      "1 < 2\n",
      "[1, 8, 2, 5, 15, 9]\n",
      "2 < 8\n",
      "[1, 2, 8, 5, 15, 9]\n",
      "5 < 8\n",
      "[1, 2, 5, 8, 15, 9]\n",
      "[1, 2, 5, 8, 15, 9]\n",
      "9 < 15\n",
      "[1, 2, 5, 8, 9, 15]\n",
      "[1, 2, 5, 8, 9, 15]\n"
     ]
    },
    {
     "output_type": "execute_result",
     "data": {
      "text/plain": [
       "[1, 2, 5, 8, 9, 15]"
      ]
     },
     "metadata": {},
     "execution_count": 18
    }
   ],
   "metadata": {
    "ExecuteTime": {
     "end_time": "2021-05-30T06:58:17.918730Z",
     "start_time": "2021-05-30T06:58:17.894732Z"
    }
   }
  },
  {
   "cell_type": "markdown",
   "source": [
    "# Insertion Sort"
   ],
   "metadata": {}
  },
  {
   "cell_type": "code",
   "execution_count": 47,
   "source": [
    "def insertionsort(l):\r\n",
    "    for i in range(1,len(l)):\r\n",
    "        min = i\r\n",
    "        for j in range(i-1,-1,-1):\r\n",
    "            if l[min]<l[j]:\r\n",
    "                l[min],l[j]=l[j],l[min]\r\n",
    "                min = j \r\n",
    "        print(l)"
   ],
   "outputs": [],
   "metadata": {
    "ExecuteTime": {
     "end_time": "2021-05-26T08:26:34.217927Z",
     "start_time": "2021-05-26T08:26:34.201926Z"
    }
   }
  },
  {
   "cell_type": "code",
   "execution_count": 48,
   "source": [
    "l = [3,4,7,5,6,2,1]\r\n",
    "insertionsort(l)\r\n",
    "l"
   ],
   "outputs": [
    {
     "output_type": "stream",
     "name": "stdout",
     "text": [
      "[3, 4, 7, 5, 6, 2, 1]\n",
      "[3, 4, 7, 5, 6, 2, 1]\n",
      "[3, 4, 5, 7, 6, 2, 1]\n",
      "[3, 4, 5, 6, 7, 2, 1]\n",
      "[2, 3, 4, 5, 6, 7, 1]\n",
      "[1, 2, 3, 4, 5, 6, 7]\n"
     ]
    },
    {
     "output_type": "execute_result",
     "data": {
      "text/plain": [
       "[1, 2, 3, 4, 5, 6, 7]"
      ]
     },
     "metadata": {},
     "execution_count": 48
    }
   ],
   "metadata": {
    "ExecuteTime": {
     "end_time": "2021-05-26T08:26:35.051834Z",
     "start_time": "2021-05-26T08:26:35.035828Z"
    }
   }
  },
  {
   "cell_type": "markdown",
   "source": [
    "# Merge Sort"
   ],
   "metadata": {
    "ExecuteTime": {
     "end_time": "2021-05-23T06:39:49.444413Z",
     "start_time": "2021-05-23T06:39:49.428412Z"
    }
   }
  },
  {
   "cell_type": "code",
   "execution_count": 61,
   "source": [
    "def merge(l1,l2,l):\r\n",
    "    i=j=k=0\r\n",
    "    while i<len(l1) and j<len(l2):\r\n",
    "        if l1[i]<l2[j]:\r\n",
    "            l[k]=l1[i]\r\n",
    "            i+=1\r\n",
    "            k+=1\r\n",
    "        else:\r\n",
    "            l[k]=l2[j]\r\n",
    "            j+=1\r\n",
    "            k+=1\r\n",
    "    while i<len(l1):\r\n",
    "        l[k]=l1[i]\r\n",
    "        i+=1\r\n",
    "        k+=1\r\n",
    "    while j<len(l2):\r\n",
    "        l[k]=l2[j]\r\n",
    "        j+=1\r\n",
    "        k+=1\r\n",
    "def mergesort(l):\r\n",
    "    if len(l)>1:\r\n",
    "        mid = len(l)//2\r\n",
    "        l1 = l[:mid]\r\n",
    "        l2 = l[mid:]\r\n",
    "        mergesort(l1)\r\n",
    "        mergesort(l2)\r\n",
    "        return merge(l1,l2,l)"
   ],
   "outputs": [],
   "metadata": {
    "ExecuteTime": {
     "end_time": "2021-05-23T11:47:01.551305Z",
     "start_time": "2021-05-23T11:47:01.535306Z"
    }
   }
  },
  {
   "cell_type": "code",
   "execution_count": 63,
   "source": [
    "l = [5,8,2,1,15,9]\r\n",
    "mergesort(l)\r\n",
    "l"
   ],
   "outputs": [
    {
     "output_type": "execute_result",
     "data": {
      "text/plain": [
       "[1, 2, 5, 8, 9, 15]"
      ]
     },
     "metadata": {},
     "execution_count": 63
    }
   ],
   "metadata": {
    "ExecuteTime": {
     "end_time": "2021-05-23T11:47:15.486804Z",
     "start_time": "2021-05-23T11:47:15.470804Z"
    }
   }
  },
  {
   "cell_type": "markdown",
   "source": [
    "# Quick Sort"
   ],
   "metadata": {}
  },
  {
   "cell_type": "code",
   "execution_count": 2,
   "source": [
    "def partition(l,si,ei):\r\n",
    "    pivot = l[si]\r\n",
    "    c = 0\r\n",
    "    for i in range(si,ei+1):\r\n",
    "        if l[i]<pivot:\r\n",
    "            c+=1\r\n",
    "    l[si],l[si+c] = l[si+c],l[si] \r\n",
    "    i=si\r\n",
    "    j=ei\r\n",
    "    while i<j:\r\n",
    "        if l[i]<pivot:\r\n",
    "            i+=1\r\n",
    "        elif l[j]>pivot:\r\n",
    "            j-=1\r\n",
    "        else:\r\n",
    "            l[i],l[j] = l[j],l[i]\r\n",
    "            i+=1\r\n",
    "            j-=1\r\n",
    "    return si+c\r\n",
    "        \r\n",
    "def quicksort(l,si,ei):\r\n",
    "    if si>=ei:\r\n",
    "        return \r\n",
    "    pi = partition(l,si,ei)\r\n",
    "    quicksort(l,si,pi-1)\r\n",
    "    quicksort(l,pi+1,ei)"
   ],
   "outputs": [],
   "metadata": {
    "ExecuteTime": {
     "end_time": "2021-05-25T09:44:51.275360Z",
     "start_time": "2021-05-25T09:44:51.257376Z"
    }
   }
  },
  {
   "cell_type": "code",
   "execution_count": 5,
   "source": [
    "l = [1,5,8,2,1,15,9]\r\n",
    "quicksort(l,0,len(l)-1)\r\n",
    "l"
   ],
   "outputs": [
    {
     "output_type": "execute_result",
     "data": {
      "text/plain": [
       "[1, 1, 2, 5, 8, 9, 15]"
      ]
     },
     "metadata": {},
     "execution_count": 5
    }
   ],
   "metadata": {
    "ExecuteTime": {
     "end_time": "2021-05-25T09:45:34.431730Z",
     "start_time": "2021-05-25T09:45:34.411743Z"
    }
   }
  },
  {
   "cell_type": "markdown",
   "source": [
    "# Count Sort"
   ],
   "metadata": {}
  },
  {
   "cell_type": "code",
   "execution_count": 54,
   "source": [
    "def countsort(l):\r\n",
    "    m = max(l)\r\n",
    "    cl = []\r\n",
    "    sl = [None]*len(l)\r\n",
    "    for i in range(0,m+1):\r\n",
    "        cl.append(l.count(i))\r\n",
    "    for i in range(1,m+1):\r\n",
    "        cl[i] = cl[i-1]+cl[i]\r\n",
    "    for i in range(m+1,-1,-1):\r\n",
    "        val = l[i]\r\n",
    "        cl[val]-=1\r\n",
    "        sl[cl[val]] = val\r\n",
    "    return sl"
   ],
   "outputs": [],
   "metadata": {
    "ExecuteTime": {
     "end_time": "2021-05-26T08:54:07.508061Z",
     "start_time": "2021-05-26T08:54:07.492059Z"
    }
   }
  },
  {
   "cell_type": "code",
   "execution_count": 55,
   "source": [
    "l = [2,1,2,6,0,4,3,3]\r\n",
    "countsort(l)"
   ],
   "outputs": [
    {
     "output_type": "execute_result",
     "data": {
      "text/plain": [
       "[0, 1, 2, 2, 3, 3, 4, 6]"
      ]
     },
     "metadata": {},
     "execution_count": 55
    }
   ],
   "metadata": {
    "ExecuteTime": {
     "end_time": "2021-05-26T08:54:07.716045Z",
     "start_time": "2021-05-26T08:54:07.692048Z"
    }
   }
  },
  {
   "cell_type": "markdown",
   "source": [
    "# Radix Sort"
   ],
   "metadata": {
    "ExecuteTime": {
     "end_time": "2021-05-26T11:58:52.035575Z",
     "start_time": "2021-05-26T11:58:52.011581Z"
    }
   }
  },
  {
   "cell_type": "code",
   "execution_count": 33,
   "source": [
    "def countingsort(l,p):\r\n",
    "    m = len(l)\r\n",
    "    cl = [0]*10\r\n",
    "    sl = [0]*m\r\n",
    "    for i in range(0,m):\r\n",
    "        index = l[i]//p\r\n",
    "        cl[index % 10] += 1\r\n",
    "    for i in range(1,10):\r\n",
    "        cl[i]+= cl[i-1]\r\n",
    "    for i in range(m-1,-1,-1):\r\n",
    "        val = l[i]//p\r\n",
    "        cl[val%10]-=1\r\n",
    "        sl[cl[val%10]]=l[i]\r\n",
    "    for i in range(len(sl)):\r\n",
    "        l[i]=sl[i]\r\n",
    "        \r\n",
    "def radixsort(l):\r\n",
    "    m = max(l)\r\n",
    "    place = 1\r\n",
    "    while m//place>0:\r\n",
    "        countingsort(l,place)\r\n",
    "        place*=10"
   ],
   "outputs": [],
   "metadata": {
    "ExecuteTime": {
     "end_time": "2021-05-27T12:21:32.160905Z",
     "start_time": "2021-05-27T12:21:32.134918Z"
    }
   }
  },
  {
   "cell_type": "code",
   "execution_count": 34,
   "source": [
    "l = [121, 432, 564, 23, 1, 45, 788]\r\n",
    "radixsort(l)\r\n",
    "l"
   ],
   "outputs": [
    {
     "output_type": "execute_result",
     "data": {
      "text/plain": [
       "[1, 23, 45, 121, 432, 564, 788]"
      ]
     },
     "metadata": {},
     "execution_count": 34
    }
   ],
   "metadata": {
    "ExecuteTime": {
     "end_time": "2021-05-27T12:21:32.377547Z",
     "start_time": "2021-05-27T12:21:32.363551Z"
    }
   }
  },
  {
   "cell_type": "markdown",
   "source": [
    "Practical Use of Counting Sort"
   ],
   "metadata": {
    "ExecuteTime": {
     "end_time": "2021-05-27T14:33:10.331911Z",
     "start_time": "2021-05-27T14:33:10.313922Z"
    }
   }
  },
  {
   "cell_type": "code",
   "execution_count": 56,
   "source": [
    "arr = [['0', 'a'], ['1', 'b'], ['0', 'c'], ['1', 'd']]\r\n",
    "m = len(arr)\r\n",
    "mid = len(arr)//2\r\n",
    "cl = [0]*10\r\n",
    "sl = [[0,'0']]*m\r\n",
    "for i in range(0,mid):\r\n",
    "    arr[i][1] = '-'\r\n",
    "for l in arr:\r\n",
    "    cl[int(l[0])]+=1\r\n",
    "for i in range(1,10):\r\n",
    "    cl[i]+= cl[i-1]\r\n",
    "for i in range(m-1,-1,-1):\r\n",
    "    val = int(arr[i][0])\r\n",
    "    cl[val]-=1\r\n",
    "    sl[cl[val]] = arr[i]\r\n",
    "s = ''\r\n",
    "for i in sl:\r\n",
    "    s+=i[1]\r\n",
    "print(sl)\r\n",
    "s = ''\r\n",
    "for i in sl:\r\n",
    "    s+=i[1]\r\n",
    "s"
   ],
   "outputs": [
    {
     "output_type": "stream",
     "name": "stdout",
     "text": [
      "[['0', '-'], ['0', 'c'], ['1', '-'], ['1', 'd']]\n"
     ]
    },
    {
     "output_type": "execute_result",
     "data": {
      "text/plain": [
       "'-c-d'"
      ]
     },
     "metadata": {},
     "execution_count": 56
    }
   ],
   "metadata": {
    "ExecuteTime": {
     "end_time": "2021-05-27T14:33:18.813945Z",
     "start_time": "2021-05-27T14:33:18.782960Z"
    }
   }
  },
  {
   "cell_type": "markdown",
   "source": [
    "# Bucket Sort"
   ],
   "metadata": {
    "ExecuteTime": {
     "end_time": "2021-05-28T10:09:07.739875Z",
     "start_time": "2021-05-28T10:09:07.717888Z"
    }
   }
  },
  {
   "cell_type": "code",
   "execution_count": 177,
   "source": [
    "#For int type numbers\n",
    "import math\n",
    "def bucketsort(l):\n",
    "    num = round(math.sqrt(max(l)))+1\n",
    "    bl = [[] for i in range(num+1)]\n",
    "    for i in l:\n",
    "        bl[i//num].append(i)\n",
    "    for i in range(len(bl)):\n",
    "        bl[i] = sorted(bl[i])\n",
    "    sl = sum(bl, [])\n",
    "    for i in range(len(sl)):\n",
    "        l[i] = sl[i] "
   ],
   "outputs": [],
   "metadata": {
    "ExecuteTime": {
     "end_time": "2021-05-28T19:17:12.739305Z",
     "start_time": "2021-05-28T19:17:12.726313Z"
    }
   }
  },
  {
   "cell_type": "code",
   "execution_count": 178,
   "source": [
    "#For both float and int\r\n",
    "import math\r\n",
    "def bucketsort(l):\r\n",
    "    if type(l[0])==float:\r\n",
    "        bl = [[] for i in range(10)]\r\n",
    "        for i in l:\r\n",
    "            bl[int(i*10)].append(i)\r\n",
    "    else:\r\n",
    "        num = round(math.sqrt(max(l)))+1\r\n",
    "        bl = [[] for i in range(num+1)]\r\n",
    "        for i in l:\r\n",
    "            bl[i//num].append(i)\r\n",
    "    for i in range(len(bl)):\r\n",
    "        bl[i] = sorted(bl[i])\r\n",
    "    sl = sum(bl, [])\r\n",
    "    for i in range(len(sl)):\r\n",
    "        l[i] = sl[i]"
   ],
   "outputs": [],
   "metadata": {
    "ExecuteTime": {
     "end_time": "2021-05-28T19:17:15.352389Z",
     "start_time": "2021-05-28T19:17:15.326403Z"
    }
   }
  },
  {
   "cell_type": "code",
   "execution_count": 179,
   "source": [
    "l1 = [11,9,21,8,7,24,12,15,10,20,22,35,0,1,30,2,40]\r\n",
    "l2 = [0.5,0.1,0.4,0.8,0.9,0.7,0.0]\r\n",
    "bucketsort(l1)\r\n",
    "bucketsort(l2)\r\n",
    "print(l1)\r\n",
    "print(l2)"
   ],
   "outputs": [
    {
     "output_type": "stream",
     "name": "stdout",
     "text": [
      "[0, 1, 2, 7, 8, 9, 10, 11, 12, 15, 20, 21, 22, 24, 30, 35, 40]\n",
      "[0.0, 0.1, 0.4, 0.5, 0.7, 0.8, 0.9]\n"
     ]
    }
   ],
   "metadata": {
    "ExecuteTime": {
     "end_time": "2021-05-28T19:17:15.741863Z",
     "start_time": "2021-05-28T19:17:15.722891Z"
    }
   }
  },
  {
   "cell_type": "markdown",
   "source": [
    "# Shell Sort"
   ],
   "metadata": {
    "ExecuteTime": {
     "end_time": "2021-05-29T13:55:09.980439Z",
     "start_time": "2021-05-29T13:55:09.959438Z"
    }
   }
  },
  {
   "cell_type": "code",
   "execution_count": 15,
   "source": [
    "def shellsort(l):\r\n",
    "    gap = len(l)//2\r\n",
    "    while gap>0:\r\n",
    "        for i in range(gap,len(l)):\r\n",
    "            curent = l[i]\r\n",
    "            pos=i\r\n",
    "            while pos>=gap and curent <l[pos-gap]:\r\n",
    "                l[pos]=l[pos-gap]\r\n",
    "                pos = pos-gap\r\n",
    "            l[pos] = curent\r\n",
    "        gap = gap//2"
   ],
   "outputs": [],
   "metadata": {
    "ExecuteTime": {
     "end_time": "2021-05-29T19:30:00.373055Z",
     "start_time": "2021-05-29T19:30:00.357056Z"
    }
   }
  },
  {
   "cell_type": "code",
   "execution_count": 16,
   "source": [
    "l = [1,4,5,3,6,8,7,9,2]\r\n",
    "shellsort(l)\r\n",
    "l"
   ],
   "outputs": [
    {
     "output_type": "execute_result",
     "data": {
      "text/plain": [
       "[1, 2, 3, 4, 5, 6, 7, 8, 9]"
      ]
     },
     "metadata": {},
     "execution_count": 16
    }
   ],
   "metadata": {
    "ExecuteTime": {
     "end_time": "2021-05-29T19:30:00.597035Z",
     "start_time": "2021-05-29T19:30:00.573036Z"
    }
   }
  },
  {
   "cell_type": "markdown",
   "source": [
    "## Linked List"
   ],
   "metadata": {
    "ExecuteTime": {
     "end_time": "2021-05-31T17:08:30.556205Z",
     "start_time": "2021-05-31T17:08:30.541592Z"
    }
   }
  },
  {
   "cell_type": "markdown",
   "source": [
    "### Creating Node"
   ],
   "metadata": {}
  },
  {
   "cell_type": "code",
   "execution_count": 3,
   "source": [
    "class Node:\r\n",
    "    def __init__(self,data):\r\n",
    "        self.data = data\r\n",
    "        self.next = None\r\n",
    "a = Node(10)\r\n",
    "b= Node(20)\r\n",
    "a.next=b\r\n",
    "print(a.data)\r\n",
    "print(a.next.data)"
   ],
   "outputs": [
    {
     "output_type": "stream",
     "name": "stdout",
     "text": [
      "10\n",
      "20\n"
     ]
    }
   ],
   "metadata": {
    "ExecuteTime": {
     "end_time": "2021-06-19T21:33:25.453258Z",
     "start_time": "2021-06-19T21:33:25.437259Z"
    }
   }
  },
  {
   "cell_type": "markdown",
   "source": [
    "### Taking Input and Connecting Nodes"
   ],
   "metadata": {}
  },
  {
   "cell_type": "code",
   "execution_count": 16,
   "source": [
    "class Node:\r\n",
    "    def __init__(self,data):\r\n",
    "        self.data = data\r\n",
    "        self.next = None\r\n",
    "\r\n",
    "def connect_inputs():\r\n",
    "    L = [int(i) for i in input().split()]\r\n",
    "    head = None\r\n",
    "    for i in L:\r\n",
    "        if i==-1:\r\n",
    "            break\r\n",
    "        newNode = Node(i)\r\n",
    "        if head==None:\r\n",
    "            head=newNode\r\n",
    "        else:\r\n",
    "            current = head\r\n",
    "            while current.next is not None:\r\n",
    "                current = current.next\r\n",
    "            current.next = newNode\r\n",
    "    return head\r\n",
    "\r\n",
    "def printLL(head):\r\n",
    "    while head is not None:\r\n",
    "        print(str(head.data) + \"->\",end=\"\")\r\n",
    "        head = head.next\r\n",
    "    print('None')\r\n",
    "    return "
   ],
   "outputs": [],
   "metadata": {
    "ExecuteTime": {
     "end_time": "2021-06-19T22:41:41.341958Z",
     "start_time": "2021-06-19T22:41:41.317960Z"
    }
   }
  },
  {
   "cell_type": "code",
   "execution_count": 17,
   "source": [
    "head = connect_inputs()\r\n",
    "printLL(head)"
   ],
   "outputs": [
    {
     "output_type": "stream",
     "name": "stdout",
     "text": [
      "1 2 3 4 5 -1\n",
      "1->2->3->4->5->None\n"
     ]
    }
   ],
   "metadata": {
    "ExecuteTime": {
     "end_time": "2021-06-19T22:41:45.670506Z",
     "start_time": "2021-06-19T22:41:41.667791Z"
    }
   }
  },
  {
   "cell_type": "markdown",
   "source": [
    "## Optimized Linked List"
   ],
   "metadata": {}
  },
  {
   "cell_type": "code",
   "execution_count": 7,
   "source": [
    "class Node:\r\n",
    "    def __init__(self,data):\r\n",
    "        self.data = data\r\n",
    "        self.next = None\r\n",
    "\r\n",
    "def connect_inputs():\r\n",
    "    L = [int(i) for i in input().split()]\r\n",
    "    head,main = None,None\r\n",
    "    for i in L:\r\n",
    "        if i==-1:\r\n",
    "            break\r\n",
    "        newNode = Node(i)\r\n",
    "        if head==None:\r\n",
    "            head=newNode\r\n",
    "            main=newNode\r\n",
    "        else:\r\n",
    "            head.next = newNode\r\n",
    "            head = newNode\r\n",
    "    return main\r\n",
    "\r\n",
    "def printLL(head):\r\n",
    "    while head is not None:\r\n",
    "        print(str(head.data) + \"->\",end=\"\")\r\n",
    "        head = head.next\r\n",
    "    print('None')\r\n",
    "    return "
   ],
   "outputs": [],
   "metadata": {
    "ExecuteTime": {
     "end_time": "2021-06-25T23:54:02.128063Z",
     "start_time": "2021-06-25T23:54:02.103076Z"
    }
   }
  },
  {
   "cell_type": "code",
   "execution_count": 8,
   "source": [
    "head = connect_inputs()\n",
    "printLL(head)"
   ],
   "outputs": [
    {
     "output_type": "stream",
     "name": "stdout",
     "text": [
      "1 2 3 4 5 -1\n",
      "1->2->3->4->5->None\n"
     ]
    }
   ],
   "metadata": {
    "ExecuteTime": {
     "end_time": "2021-06-25T23:54:06.020928Z",
     "start_time": "2021-06-25T23:54:02.378946Z"
    }
   }
  },
  {
   "cell_type": "markdown",
   "source": [
    "## Inserting at i'th  position"
   ],
   "metadata": {}
  },
  {
   "cell_type": "code",
   "execution_count": 2,
   "source": [
    "class Node:\r\n",
    "    def __init__(self,data):\r\n",
    "        self.data = data\r\n",
    "        self.next = None\r\n",
    "\r\n",
    "def connect_inputs():\r\n",
    "    L = [int(i) for i in input().split()]\r\n",
    "    head,main = None,None\r\n",
    "    for i in L:\r\n",
    "        if i==-1:\r\n",
    "            break\r\n",
    "        newNode = Node(i)\r\n",
    "        if head==None:\r\n",
    "            head=newNode\r\n",
    "            main=newNode\r\n",
    "        else:\r\n",
    "            head.next = newNode\r\n",
    "            head = newNode\r\n",
    "    return main\r\n",
    "\r\n",
    "def length(head):\r\n",
    "    count = 0\r\n",
    "    while head is not None:\r\n",
    "        count+=1\r\n",
    "        head = head.next\r\n",
    "    return count\r\n",
    "    \r\n",
    "def insert(head,i,data):\r\n",
    "    if i<0 or i>length(head):\r\n",
    "        return head\r\n",
    "    count = 0 \r\n",
    "    prev = None\r\n",
    "    cur = head\r\n",
    "    while count < i:\r\n",
    "        count+=1\r\n",
    "        prev = cur\r\n",
    "        cur = cur.next\r\n",
    "    newNode = Node(data)\r\n",
    "    if prev is not None:\r\n",
    "        prev.next = newNode\r\n",
    "    else:\r\n",
    "        head = newNode\r\n",
    "    newNode.next = cur\r\n",
    "    return head\r\n",
    "    \r\n",
    "def printLL(head):\r\n",
    "    while head is not None:\r\n",
    "        print(str(head.data) + \"->\",end=\"\")\r\n",
    "        head = head.next\r\n",
    "    print('None')\r\n",
    "    return "
   ],
   "outputs": [],
   "metadata": {
    "ExecuteTime": {
     "end_time": "2021-06-28T16:16:20.304779Z",
     "start_time": "2021-06-28T16:16:20.275780Z"
    }
   }
  },
  {
   "cell_type": "code",
   "execution_count": 3,
   "source": [
    "head = connect_inputs()\r\n",
    "head = insert(head,1,11)\r\n",
    "printLL(head)\r\n",
    "head = insert(head,0,0)\r\n",
    "printLL(head)"
   ],
   "outputs": [
    {
     "output_type": "stream",
     "name": "stdout",
     "text": [
      "1 2 3 4 5 -1\n",
      "1->11->2->3->4->5->None\n",
      "0->1->11->2->3->4->5->None\n"
     ]
    }
   ],
   "metadata": {
    "ExecuteTime": {
     "end_time": "2021-06-28T16:16:25.596676Z",
     "start_time": "2021-06-28T16:16:20.731879Z"
    }
   }
  },
  {
   "cell_type": "markdown",
   "source": [
    "## Inserting Recursively"
   ],
   "metadata": {
    "ExecuteTime": {
     "end_time": "2021-06-26T22:53:30.906676Z",
     "start_time": "2021-06-26T22:53:30.892698Z"
    }
   }
  },
  {
   "cell_type": "code",
   "execution_count": 6,
   "source": [
    "class Node:\r\n",
    "    def __init__(self,data):\r\n",
    "        self.data = data\r\n",
    "        self.next = None\r\n",
    "\r\n",
    "def connect_inputs():\r\n",
    "    L = [int(i) for i in input().split()]\r\n",
    "    head,main = None,None\r\n",
    "    for i in L:\r\n",
    "        if i==-1:\r\n",
    "            break\r\n",
    "        newNode = Node(i)\r\n",
    "        if head==None:\r\n",
    "            head=newNode\r\n",
    "            main=newNode\r\n",
    "        else:\r\n",
    "            head.next = newNode\r\n",
    "            head = newNode\r\n",
    "    return main\r\n",
    "    \r\n",
    "def insert(head,i,data):\r\n",
    "    if head is None or i<0:\r\n",
    "        return head\r\n",
    "    if i==0:\r\n",
    "        newNode = Node(data)\r\n",
    "        newNode.next = head\r\n",
    "        return newNode\r\n",
    "    mainHead = insert(head.next,i-1,data)\r\n",
    "    head.next = mainHead\r\n",
    "    return head\r\n",
    "    \r\n",
    "def printLL(head):\r\n",
    "    while head is not None:\r\n",
    "        print(str(head.data) + \"->\",end=\"\")\r\n",
    "        head = head.next\r\n",
    "    print('None')\r\n",
    "    return "
   ],
   "outputs": [],
   "metadata": {
    "ExecuteTime": {
     "end_time": "2021-06-28T20:02:23.583502Z",
     "start_time": "2021-06-28T20:02:23.558461Z"
    }
   }
  },
  {
   "cell_type": "code",
   "execution_count": 5,
   "source": [
    "head = connect_inputs()\r\n",
    "head = insert(head,1,11)\r\n",
    "printLL(head)\r\n",
    "head = insert(head,0,0)\r\n",
    "printLL(head)"
   ],
   "outputs": [
    {
     "output_type": "stream",
     "name": "stdout",
     "text": [
      "1 2 3 4 5 -1\n",
      "1->11->2->3->4->5->None\n",
      "0->1->11->2->3->4->5->None\n"
     ]
    }
   ],
   "metadata": {
    "ExecuteTime": {
     "end_time": "2021-06-28T19:59:40.401295Z",
     "start_time": "2021-06-28T19:59:36.094136Z"
    }
   }
  },
  {
   "cell_type": "markdown",
   "source": [
    "## Printing ith Node"
   ],
   "metadata": {}
  },
  {
   "cell_type": "code",
   "execution_count": 13,
   "source": [
    "class Node:\r\n",
    "    def __init__(self,data):\r\n",
    "        self.data = data\r\n",
    "        self.next = None\r\n",
    "\r\n",
    "def connect_inputs():\r\n",
    "    L = [int(i) for i in input().split()]\r\n",
    "    head,main = None,None\r\n",
    "    for i in L:\r\n",
    "        if i==-1:\r\n",
    "            break\r\n",
    "        newNode = Node(i)\r\n",
    "        if head==None:\r\n",
    "            head=newNode\r\n",
    "            main=newNode\r\n",
    "        else:\r\n",
    "            head.next = newNode\r\n",
    "            head = newNode\r\n",
    "    return main\r\n",
    "\r\n",
    "def length(head):\r\n",
    "    count = 0\r\n",
    "    while head is not None:\r\n",
    "        count+=1\r\n",
    "        head = head.next\r\n",
    "    return count\r\n",
    "    \r\n",
    "\r\n",
    "def printIth(head,i):\r\n",
    "    if i<0 or i>length(head):\r\n",
    "        return None\r\n",
    "    count = 0\r\n",
    "    cur = head\r\n",
    "    while count<i:\r\n",
    "        count+=1\r\n",
    "        cur = cur.next\r\n",
    "    if count==0:\r\n",
    "        return head.data\r\n",
    "    else:\r\n",
    "        return cur.data\r\n",
    "\r\n",
    "def printLL(head):\r\n",
    "    while head is not None:\r\n",
    "        print(str(head.data) + \"->\",end=\"\")\r\n",
    "        head = head.next\r\n",
    "    print('None')\r\n",
    "    return "
   ],
   "outputs": [],
   "metadata": {
    "ExecuteTime": {
     "end_time": "2021-06-28T20:40:06.777953Z",
     "start_time": "2021-06-28T20:40:06.753955Z"
    }
   }
  },
  {
   "cell_type": "code",
   "execution_count": 16,
   "source": [
    "head = connect_inputs()\r\n",
    "printLL(head)\r\n",
    "print(\"Index 2 Node:\")\r\n",
    "print(printIth(head,2))\r\n",
    "print(\"Index 5 Node:\")\r\n",
    "print(printIth(head,5))"
   ],
   "outputs": [
    {
     "output_type": "stream",
     "name": "stdout",
     "text": [
      "1 2 3 4 -1\n",
      "1->2->3->4->None\n",
      "Index 2 Node:\n",
      "3\n",
      "Index 5 Node:\n",
      "None\n"
     ]
    }
   ],
   "metadata": {
    "ExecuteTime": {
     "end_time": "2021-06-28T20:41:58.667631Z",
     "start_time": "2021-06-28T20:41:55.052559Z"
    }
   }
  },
  {
   "cell_type": "markdown",
   "source": [
    "## Deleting Ith Node"
   ],
   "metadata": {}
  },
  {
   "cell_type": "code",
   "execution_count": 5,
   "source": [
    "class Node:\r\n",
    "    def __init__(self,data):\r\n",
    "        self.data = data\r\n",
    "        self.next = None\r\n",
    "\r\n",
    "def connect_inputs():\r\n",
    "    L = [int(i) for i in input().split()]\r\n",
    "    head,main = None,None\r\n",
    "    for i in L:\r\n",
    "        if i==-1:\r\n",
    "            break\r\n",
    "        newNode = Node(i)\r\n",
    "        if head==None:\r\n",
    "            head=newNode\r\n",
    "            main=newNode\r\n",
    "        else:\r\n",
    "            head.next = newNode\r\n",
    "            head = newNode\r\n",
    "    return main\r\n",
    "\r\n",
    "def length(head):\r\n",
    "    count = 0\r\n",
    "    while head is not None:\r\n",
    "        count+=1\r\n",
    "        head = head.next\r\n",
    "    return count\r\n",
    "    \r\n",
    "\r\n",
    "def deleteIth(head,i):\r\n",
    "    if i<0 or i>length(head):\r\n",
    "        return head\r\n",
    "    prev = None\r\n",
    "    cur = head\r\n",
    "    count = 0\r\n",
    "    while count<i:\r\n",
    "        count+=1\r\n",
    "        prev = cur\r\n",
    "        cur = cur.next\r\n",
    "    if prev is not None:\r\n",
    "        new = cur.next\r\n",
    "        prev.next = new\r\n",
    "        del cur\r\n",
    "    else:\r\n",
    "        new = head.next\r\n",
    "        del head\r\n",
    "        head = new\r\n",
    "    return head\r\n",
    "\r\n",
    "def printLL(head):\r\n",
    "    while head is not None:\r\n",
    "        print(str(head.data) + \"->\",end=\"\")\r\n",
    "        head = head.next\r\n",
    "    print('None')\r\n",
    "    return "
   ],
   "outputs": [],
   "metadata": {
    "ExecuteTime": {
     "end_time": "2021-06-29T21:03:20.190865Z",
     "start_time": "2021-06-29T21:03:20.150869Z"
    }
   }
  },
  {
   "cell_type": "code",
   "execution_count": 7,
   "source": [
    "head = connect_inputs()\r\n",
    "printLL(head)\r\n",
    "\r\n",
    "print(\"Delete Index 2 Node:\")\r\n",
    "head = deleteIth(head,2)\r\n",
    "printLL(head)\r\n",
    "\r\n",
    "print(\"Delete Index 0 Node:\")\r\n",
    "head = deleteIth(head,0)\r\n",
    "printLL(head)\r\n",
    "\r\n",
    "print(\"Delete Index 5 Node:\")\r\n",
    "head = deleteIth(head,5)\r\n",
    "printLL(head)"
   ],
   "outputs": [
    {
     "output_type": "stream",
     "name": "stdout",
     "text": [
      "1 2 3 4 5 6 -1\n",
      "1->2->3->4->5->6->None\n",
      "Delete Index 2 Node:\n",
      "1->2->4->5->6->None\n",
      "Delete Index 0 Node:\n",
      "2->4->5->6->None\n",
      "Delete Index 5 Node:\n",
      "2->4->5->6->None\n"
     ]
    }
   ],
   "metadata": {
    "ExecuteTime": {
     "end_time": "2021-06-29T21:04:15.554169Z",
     "start_time": "2021-06-29T21:04:11.526289Z"
    }
   }
  },
  {
   "cell_type": "markdown",
   "source": [
    "### Reverse Linked List Recursively"
   ],
   "metadata": {}
  },
  {
   "cell_type": "code",
   "execution_count": 10,
   "source": [
    "class Node:\r\n",
    "    def __init__(self,data):\r\n",
    "        self.data = data\r\n",
    "        self.next = None\r\n",
    "\r\n",
    "def connect_inputs():\r\n",
    "    L = [int(i) for i in input().split()]\r\n",
    "    head,main = None,None\r\n",
    "    for i in L:\r\n",
    "        if i==-1:\r\n",
    "            break\r\n",
    "        newNode = Node(i)\r\n",
    "        if head==None:\r\n",
    "            head=newNode\r\n",
    "            main=newNode\r\n",
    "        else:\r\n",
    "            head.next = newNode\r\n",
    "            head = newNode\r\n",
    "    return main\r\n",
    "\r\n",
    "def reverse(head):\r\n",
    "    if head is None or head.next is None:\r\n",
    "        return head\r\n",
    "    smallhead = reverse(head.next)\r\n",
    "    cur = smallhead\r\n",
    "    while cur.next is not None:\r\n",
    "        cur = cur.next\r\n",
    "    cur.next = head\r\n",
    "    head.next = None\r\n",
    "    return smallhead\r\n",
    "\r\n",
    "def printLL(head):\r\n",
    "    while head is not None:\r\n",
    "        print(str(head.data) + \"->\",end=\"\")\r\n",
    "        head = head.next\r\n",
    "    print('None')\r\n",
    "    return "
   ],
   "outputs": [],
   "metadata": {
    "ExecuteTime": {
     "end_time": "2021-06-29T22:58:42.773868Z",
     "start_time": "2021-06-29T22:58:42.741870Z"
    }
   }
  },
  {
   "cell_type": "code",
   "execution_count": 11,
   "source": [
    "head = connect_inputs()\r\n",
    "printLL(head)\r\n",
    "\r\n",
    "print(\"Reverse Linked List:\")\r\n",
    "head = reverse(head)\r\n",
    "printLL(head)"
   ],
   "outputs": [
    {
     "output_type": "stream",
     "name": "stdout",
     "text": [
      "1 2 3 4 5 -1\n",
      "1->2->3->4->5->None\n",
      "Reverse Linked List:\n",
      "5->4->3->2->1->None\n"
     ]
    }
   ],
   "metadata": {
    "ExecuteTime": {
     "end_time": "2021-06-29T22:58:47.640824Z",
     "start_time": "2021-06-29T22:58:43.208749Z"
    }
   }
  },
  {
   "cell_type": "markdown",
   "source": [
    "#### The above 1's Time Complexity is O(n^2)"
   ],
   "metadata": {}
  },
  {
   "cell_type": "markdown",
   "source": [
    "### Optimized 1 (Recursive LL)"
   ],
   "metadata": {}
  },
  {
   "cell_type": "code",
   "execution_count": 3,
   "source": [
    "class Node:\r\n",
    "    def __init__(self,data):\r\n",
    "        self.data = data\r\n",
    "        self.next = None\r\n",
    "\r\n",
    "def connect_inputs():\r\n",
    "    L = [int(i) for i in input().split()]\r\n",
    "    head,main = None,None\r\n",
    "    for i in L:\r\n",
    "        if i==-1:\r\n",
    "            break\r\n",
    "        newNode = Node(i)\r\n",
    "        if head==None:\r\n",
    "            head=newNode\r\n",
    "            main=newNode\r\n",
    "        else:\r\n",
    "            head.next = newNode\r\n",
    "            head = newNode\r\n",
    "    return main\r\n",
    "\r\n",
    "def reverse(head):\r\n",
    "    if head is None or head.next is None:\r\n",
    "        return head,head\r\n",
    "    smallhead,tail = reverse(head.next)\r\n",
    "    tail.next = head\r\n",
    "    head.next = None\r\n",
    "    return smallhead,head\r\n",
    "\r\n",
    "def printLL(head):\r\n",
    "    while head is not None:\r\n",
    "        print(str(head.data) + \"->\",end=\"\")\r\n",
    "        head = head.next\r\n",
    "    print('None')\r\n",
    "    return "
   ],
   "outputs": [],
   "metadata": {
    "ExecuteTime": {
     "end_time": "2021-07-04T00:20:39.413046Z",
     "start_time": "2021-07-04T00:20:39.389046Z"
    }
   }
  },
  {
   "cell_type": "code",
   "execution_count": 4,
   "source": [
    "head = connect_inputs()\r\n",
    "printLL(head)\r\n",
    "\r\n",
    "print(\"Reverse Linked List:\")\r\n",
    "head,tail = reverse(head)\r\n",
    "printLL(head)"
   ],
   "outputs": [
    {
     "output_type": "stream",
     "name": "stdout",
     "text": [
      "1 2 3 4 5 -1\n",
      "1->2->3->4->5->None\n",
      "Reverse Linked List:\n",
      "5->4->3->2->1->None\n"
     ]
    }
   ],
   "metadata": {
    "ExecuteTime": {
     "end_time": "2021-07-04T00:20:43.180242Z",
     "start_time": "2021-07-04T00:20:39.681485Z"
    }
   }
  },
  {
   "cell_type": "markdown",
   "source": [
    "#### The above 1's Time Complexity is O(n), Since we removed the while iteration"
   ],
   "metadata": {}
  },
  {
   "cell_type": "markdown",
   "source": [
    "### Best Optimization (Recursive LL)"
   ],
   "metadata": {}
  },
  {
   "cell_type": "code",
   "execution_count": 1,
   "source": [
    "class Node:\r\n",
    "    def __init__(self,data):\r\n",
    "        self.data = data\r\n",
    "        self.next = None\r\n",
    "\r\n",
    "def connect_inputs():\r\n",
    "    L = [int(i) for i in input().split()]\r\n",
    "    head,main = None,None\r\n",
    "    for i in L:\r\n",
    "        if i==-1:\r\n",
    "            break\r\n",
    "        newNode = Node(i)\r\n",
    "        if head==None:\r\n",
    "            head=newNode\r\n",
    "            main=newNode\r\n",
    "        else:\r\n",
    "            head.next = newNode\r\n",
    "            head = newNode\r\n",
    "    return main\r\n",
    "\r\n",
    "def reverse(head):\r\n",
    "    if head is None or head.next is None:\r\n",
    "        return head\r\n",
    "    smallhead = reverse(head.next)\r\n",
    "    tail = head.next\r\n",
    "    tail.next = head\r\n",
    "    head.next = None\r\n",
    "    return smallhead\r\n",
    "\r\n",
    "def printLL(head):\r\n",
    "    while head is not None:\r\n",
    "        print(str(head.data) + \"->\",end=\"\")\r\n",
    "        head = head.next\r\n",
    "    print('None')\r\n",
    "    return "
   ],
   "outputs": [],
   "metadata": {
    "ExecuteTime": {
     "end_time": "2021-07-04T05:24:16.179876Z",
     "start_time": "2021-07-04T05:24:16.155899Z"
    }
   }
  },
  {
   "cell_type": "code",
   "execution_count": 3,
   "source": [
    "head = connect_inputs()\r\n",
    "printLL(head)\r\n",
    "\r\n",
    "print(\"Reverse Linked List:\")\r\n",
    "head = reverse(head)\r\n",
    "printLL(head)"
   ],
   "outputs": [
    {
     "output_type": "stream",
     "name": "stdout",
     "text": [
      "1 2 3 4 5 -1\n",
      "1->2->3->4->5->None\n",
      "Reverse Linked List:\n",
      "5->4->3->2->1->None\n"
     ]
    }
   ],
   "metadata": {
    "ExecuteTime": {
     "end_time": "2021-07-04T05:24:37.431430Z",
     "start_time": "2021-07-04T05:24:34.209680Z"
    }
   }
  },
  {
   "cell_type": "markdown",
   "source": [
    "### Reversing Iteratively"
   ],
   "metadata": {}
  },
  {
   "cell_type": "code",
   "execution_count": 8,
   "source": [
    "class Node:\r\n",
    "    def __init__(self,data):\r\n",
    "        self.data = data\r\n",
    "        self.next = None\r\n",
    "\r\n",
    "def connect_inputs():\r\n",
    "    L = [int(i) for i in input().split()]\r\n",
    "    head,main = None,None\r\n",
    "    for i in L:\r\n",
    "        if i==-1:\r\n",
    "            break\r\n",
    "        newNode = Node(i)\r\n",
    "        if head==None:\r\n",
    "            head=newNode\r\n",
    "            main=newNode\r\n",
    "        else:\r\n",
    "            head.next = newNode\r\n",
    "            head = newNode\r\n",
    "    return main\r\n",
    "\r\n",
    "def reverse(head):\r\n",
    "    prev = None\r\n",
    "    cur = head\r\n",
    "    while cur is not None:\r\n",
    "        next = cur.next\r\n",
    "        cur.next = prev\r\n",
    "        prev = cur\r\n",
    "        cur = next\r\n",
    "    return prev\r\n",
    "\r\n",
    "def printLL(head):\r\n",
    "    while head is not None:\r\n",
    "        print(str(head.data) + \"->\",end=\"\")\r\n",
    "        head = head.next\r\n",
    "    print('None')\r\n",
    "    return "
   ],
   "outputs": [],
   "metadata": {
    "ExecuteTime": {
     "end_time": "2021-07-04T22:16:10.796683Z",
     "start_time": "2021-07-04T22:16:10.783691Z"
    }
   }
  },
  {
   "cell_type": "code",
   "execution_count": 9,
   "source": [
    "head = connect_inputs()\r\n",
    "printLL(head)\r\n",
    "\r\n",
    "print(\"Reverse Linked List:\")\r\n",
    "head = reverse(head)\r\n",
    "printLL(head)"
   ],
   "outputs": [
    {
     "output_type": "stream",
     "name": "stdout",
     "text": [
      "1 2 3 4 5 -1\n",
      "1->2->3->4->5->None\n",
      "Reverse Linked List:\n",
      "5->4->3->2->1->None\n"
     ]
    }
   ],
   "metadata": {
    "ExecuteTime": {
     "end_time": "2021-07-04T22:16:14.704114Z",
     "start_time": "2021-07-04T22:16:11.117860Z"
    }
   }
  },
  {
   "cell_type": "markdown",
   "source": [
    "### Mid Point of LL"
   ],
   "metadata": {}
  },
  {
   "cell_type": "code",
   "execution_count": 15,
   "source": [
    "class Node:\r\n",
    "    def __init__(self,data):\r\n",
    "        self.data = data\r\n",
    "        self.next = None\r\n",
    "\r\n",
    "def connect_inputs():\r\n",
    "    L = [int(i) for i in input().split()]\r\n",
    "    head,main = None,None\r\n",
    "    for i in L:\r\n",
    "        if i==-1:\r\n",
    "            break\r\n",
    "        newNode = Node(i)\r\n",
    "        if head==None:\r\n",
    "            head=newNode\r\n",
    "            main=newNode\r\n",
    "        else:\r\n",
    "            head.next = newNode\r\n",
    "            head = newNode\r\n",
    "    return main\r\n",
    "\r\n",
    "def midpoint(head):\r\n",
    "    slow,fast = head,head\r\n",
    "    while fast.next !=None and fast.next.next != None:\r\n",
    "        slow = slow.next\r\n",
    "        fast = fast.next.next\r\n",
    "    return slow\r\n",
    "\r\n",
    "def printLL(head):\r\n",
    "    while head is not None:\r\n",
    "        print(str(head.data) + \"->\",end=\"\")\r\n",
    "        head = head.next\r\n",
    "    print('None')\r\n",
    "    return "
   ],
   "outputs": [],
   "metadata": {
    "ExecuteTime": {
     "end_time": "2021-07-04T22:28:29.450506Z",
     "start_time": "2021-07-04T22:28:29.419524Z"
    }
   }
  },
  {
   "cell_type": "code",
   "execution_count": 16,
   "source": [
    "head = connect_inputs()\r\n",
    "printLL(head)\r\n",
    "\r\n",
    "print(\"Mid Point of Linked List:\")\r\n",
    "mid = midpoint(head)\r\n",
    "print(mid.data)"
   ],
   "outputs": [
    {
     "output_type": "stream",
     "name": "stdout",
     "text": [
      "1 2 3 4 5 -1\n",
      "1->2->3->4->5->None\n",
      "Mid Point of Linked List:\n",
      "3\n"
     ]
    }
   ],
   "metadata": {
    "ExecuteTime": {
     "end_time": "2021-07-04T22:28:33.713517Z",
     "start_time": "2021-07-04T22:28:29.705343Z"
    }
   }
  },
  {
   "cell_type": "markdown",
   "source": [
    "### Merge Sort On Linked List"
   ],
   "metadata": {}
  },
  {
   "cell_type": "code",
   "execution_count": 17,
   "source": [
    "class Node:\r\n",
    "    def __init__(self,data):\r\n",
    "        self.data = data\r\n",
    "        self.next = None\r\n",
    "\r\n",
    "def connect_inputs():\r\n",
    "    L = [int(i) for i in input().split()]\r\n",
    "    head,main = None,None\r\n",
    "    for i in L:\r\n",
    "        if i==-1:\r\n",
    "            break\r\n",
    "        newNode = Node(i)\r\n",
    "        if head==None:\r\n",
    "            head=newNode\r\n",
    "            main=newNode\r\n",
    "        else:\r\n",
    "            head.next = newNode\r\n",
    "            head = newNode\r\n",
    "    return main\r\n",
    "\r\n",
    "\r\n",
    "def mergeLL(h1,h2):\r\n",
    "    main=None\r\n",
    "    new_head = None\r\n",
    "    if not h1:\r\n",
    "        return h2\r\n",
    "    if not h2:\r\n",
    "        return h1\r\n",
    "    if h1 and h2:\r\n",
    "        if h1.data<=h2.data:\r\n",
    "            main=h1\r\n",
    "            h1 = main.next\r\n",
    "        else:\r\n",
    "            main = h2\r\n",
    "            h2 = main.next\r\n",
    "        new_head = main\r\n",
    "    while h1 and h2:\r\n",
    "        if h1.data<=h2.data:\r\n",
    "            main.next = h1\r\n",
    "            main = h1\r\n",
    "            h1 = h1.next\r\n",
    "        else:\r\n",
    "            main.next = h2\r\n",
    "            main = h2\r\n",
    "            h2 = main.next\r\n",
    "    if not h1:\r\n",
    "        main.next = h2\r\n",
    "    if not h2:\r\n",
    "        main.next = h1\r\n",
    "    return new_head\r\n",
    "    \r\n",
    "\r\n",
    "def printLL(head):\r\n",
    "    while head is not None:\r\n",
    "        print(str(head.data) + \"->\",end=\"\")\r\n",
    "        head = head.next\r\n",
    "    print('None')\r\n",
    "    return "
   ],
   "outputs": [],
   "metadata": {
    "ExecuteTime": {
     "end_time": "2021-07-05T01:14:23.306950Z",
     "start_time": "2021-07-05T01:14:23.270951Z"
    }
   }
  },
  {
   "cell_type": "code",
   "execution_count": 19,
   "source": [
    "head1 = connect_inputs()\r\n",
    "head2 = connect_inputs()\r\n",
    "\r\n",
    "printLL(head1)\r\n",
    "printLL(head2)\r\n",
    "\r\n",
    "merge_head = mergeLL(head1,head2)\r\n",
    "print(\"Sorted Linked List:\")\r\n",
    "printLL(merge_head)"
   ],
   "outputs": [
    {
     "output_type": "stream",
     "name": "stdout",
     "text": [
      "1 2 3 4 -1\n",
      "5 6 7 8 9 -1\n",
      "1->2->3->4->None\n",
      "5->6->7->8->9->None\n",
      "Sorted Linked List:\n",
      "1->2->3->4->5->6->7->8->9->None\n"
     ]
    }
   ],
   "metadata": {
    "ExecuteTime": {
     "end_time": "2021-07-05T01:14:56.023228Z",
     "start_time": "2021-07-05T01:14:43.740032Z"
    }
   }
  },
  {
   "cell_type": "markdown",
   "source": [
    "## Stack Using Array/List"
   ],
   "metadata": {}
  },
  {
   "cell_type": "code",
   "execution_count": 3,
   "source": [
    "class Stack:\r\n",
    "    def __init__(self):\r\n",
    "        self.__data = []\r\n",
    "    \r\n",
    "    def push(self,item):\r\n",
    "        self.__data.append(item)\r\n",
    "        \r\n",
    "    def pop(self):\r\n",
    "        if self.isEmpty():\r\n",
    "            print(\"Stack Is Empty\")\r\n",
    "            return\r\n",
    "        return self.__data.pop()\r\n",
    "    \r\n",
    "    def top(self):\r\n",
    "        if self.isEmpty():\r\n",
    "            print(\"Stack Is Empty\")\r\n",
    "            return\r\n",
    "        return self.__data[len(self.__data)-1]\r\n",
    "    \r\n",
    "    def size(self):\r\n",
    "        return len(self.__data)\r\n",
    "    \r\n",
    "    def isEmpty(self):\r\n",
    "        return self.size()==0"
   ],
   "outputs": [],
   "metadata": {
    "ExecuteTime": {
     "end_time": "2021-07-10T14:03:43.659464Z",
     "start_time": "2021-07-10T14:03:43.643456Z"
    }
   }
  },
  {
   "cell_type": "code",
   "execution_count": 6,
   "source": [
    "s = Stack()\r\n",
    "s.push(10)\r\n",
    "s.push(11)\r\n",
    "s.push(12)\r\n",
    "s.push(13)\r\n",
    "print(\"Top Of Stack:\")\r\n",
    "print(s.top())\r\n",
    "print(\"Size Of Stack:\")\r\n",
    "print(s.size())\r\n",
    "while not s.isEmpty():\r\n",
    "    s.pop()\r\n",
    "print(s.isEmpty())"
   ],
   "outputs": [
    {
     "output_type": "stream",
     "name": "stdout",
     "text": [
      "Top Of Stack:\n",
      "13\n",
      "Size Of Stack:\n",
      "4\n",
      "True\n"
     ]
    }
   ],
   "metadata": {
    "ExecuteTime": {
     "end_time": "2021-07-10T14:05:37.772570Z",
     "start_time": "2021-07-10T14:05:37.756570Z"
    }
   }
  },
  {
   "cell_type": "markdown",
   "source": [
    "## Stack Using Linked List"
   ],
   "metadata": {}
  },
  {
   "cell_type": "code",
   "execution_count": 9,
   "source": [
    "class Node:\r\n",
    "    def __init__(self,data):\r\n",
    "        self.data = data \r\n",
    "        self.next = None\r\n",
    "        \r\n",
    "class Stack2:\r\n",
    "    def __init__(self):\r\n",
    "        self.__head = None \r\n",
    "        self.__count = 0\r\n",
    "    \r\n",
    "    def push(self,item):\r\n",
    "        self.__count+=1\r\n",
    "        new = Node(item)\r\n",
    "        new.next = self.__head\r\n",
    "        self.__head = new\r\n",
    "        \r\n",
    "    def pop(self):\r\n",
    "        if self.isEmpty():\r\n",
    "            print(\"Stack Is Empty\")\r\n",
    "            return\r\n",
    "        self.__count-=1\r\n",
    "        data = self.__head.data\r\n",
    "        self.__head = self.__head.next\r\n",
    "        return data\r\n",
    "    \r\n",
    "    def top(self):\r\n",
    "        if self.isEmpty():\r\n",
    "            print(\"Stack Is Empty\")\r\n",
    "            return\r\n",
    "        return self.__head.data\r\n",
    "    \r\n",
    "    def size(self):\r\n",
    "        return self.__count\r\n",
    "        \r\n",
    "    def isEmpty(self):\r\n",
    "        return self.size()==0"
   ],
   "outputs": [],
   "metadata": {
    "ExecuteTime": {
     "end_time": "2021-07-10T15:02:33.906720Z",
     "start_time": "2021-07-10T15:02:33.882716Z"
    }
   }
  },
  {
   "cell_type": "code",
   "execution_count": 10,
   "source": [
    "s = Stack2()\r\n",
    "s.push(10)\r\n",
    "s.push(11)\r\n",
    "s.push(12)\r\n",
    "s.push(13)\r\n",
    "print(\"Top Of Stack:\")\r\n",
    "print(s.top())\r\n",
    "print(\"Size Of Stack:\")\r\n",
    "print(s.size())\r\n",
    "while not s.isEmpty():\r\n",
    "    s.pop()\r\n",
    "print(s.isEmpty())"
   ],
   "outputs": [
    {
     "output_type": "stream",
     "name": "stdout",
     "text": [
      "Top Of Stack:\n",
      "13\n",
      "Size Of Stack:\n",
      "4\n",
      "True\n"
     ]
    }
   ],
   "metadata": {
    "ExecuteTime": {
     "end_time": "2021-07-10T15:02:34.210685Z",
     "start_time": "2021-07-10T15:02:34.194712Z"
    }
   }
  },
  {
   "cell_type": "markdown",
   "source": [
    "## Inbuilt Stack"
   ],
   "metadata": {}
  },
  {
   "cell_type": "code",
   "execution_count": 12,
   "source": [
    "from queue import LifoQueue as stack\r\n",
    "s = stack()\r\n",
    "s.put(1)\r\n",
    "s.put(2)\r\n",
    "s.put(3)\r\n",
    "s.put(4)\r\n",
    "while not s.empty():\r\n",
    "    print(s.get())"
   ],
   "outputs": [
    {
     "output_type": "stream",
     "name": "stdout",
     "text": [
      "4\n",
      "3\n",
      "2\n",
      "1\n"
     ]
    }
   ],
   "metadata": {
    "ExecuteTime": {
     "end_time": "2021-07-10T15:11:38.699691Z",
     "start_time": "2021-07-10T15:11:38.675695Z"
    }
   }
  },
  {
   "cell_type": "markdown",
   "source": [
    "## Balanced Paranthesis Using Stack"
   ],
   "metadata": {}
  },
  {
   "cell_type": "code",
   "execution_count": 3,
   "source": [
    "def isBalanced(string):\r\n",
    "    stack=[]\r\n",
    "    for char in string:\r\n",
    "        if char in '{([':\r\n",
    "            stack.append(char)\r\n",
    "        elif char is ')':\r\n",
    "            if(not stack or stack[-1]!='('):\r\n",
    "                return 'Is Not Balanced'\r\n",
    "            stack.pop()\r\n",
    "        elif char is '}':\r\n",
    "            if(not stack or stack[-1]!='{'):\r\n",
    "                return 'Is Not Balanced'\r\n",
    "            stack.pop()\r\n",
    "        elif char is ']':\r\n",
    "            if(not stack or stack[-1]!='['):\r\n",
    "                return 'Is Not Balanced'\r\n",
    "            stack.pop()\r\n",
    "    if (not stack):\r\n",
    "        return 'Balanced Paranthesis'\r\n",
    "    return 'Is Not Balanced'\r\n",
    "    \r\n",
    "print(isBalanced(input()))\r\n",
    "print(isBalanced(input()))"
   ],
   "outputs": [
    {
     "output_type": "stream",
     "name": "stdout",
     "text": [
      "{a+b*(c*d)+[p+q]}\n",
      "Balanced Paranthesis\n",
      "{a+b+(a*b)]\n",
      "Is Not Balanced\n"
     ]
    }
   ],
   "metadata": {
    "ExecuteTime": {
     "end_time": "2021-07-11T05:49:58.173918Z",
     "start_time": "2021-07-11T05:49:38.143878Z"
    }
   }
  },
  {
   "cell_type": "markdown",
   "source": [
    "### Check Redundant Brackets\n",
    "Example1: (a+b) or (a*b(a+b)) is not redundant.\n",
    "\n",
    "Example2: ((a+b)) is Redundant."
   ],
   "metadata": {}
  },
  {
   "cell_type": "code",
   "execution_count": 6,
   "source": [
    "def isRedundant(string):\r\n",
    "    stack = []\r\n",
    "    count = 0\r\n",
    "    for char in string:\r\n",
    "        count=0\r\n",
    "        if char not in ')]}':\r\n",
    "            stack.append(char)\r\n",
    "        else:\r\n",
    "            while len(stack)!=0 and stack[-1] not in '([{':\r\n",
    "                count+=1\r\n",
    "                stack.pop()\r\n",
    "            stack.pop()\r\n",
    "    if count == 0:\r\n",
    "        return \"Redundant\"\r\n",
    "    else:\r\n",
    "        return \"Not Redundant\"\r\n",
    "\r\n",
    "print(isRedundant(input()))\r\n",
    "print(isRedundant(input()))\r\n",
    "print(isRedundant(input()))"
   ],
   "outputs": [
    {
     "output_type": "stream",
     "name": "stdout",
     "text": [
      "(a+b)\n",
      "Not Redundant\n",
      "((a+b))\n",
      "Redundant\n",
      "(a+(b+c))\n",
      "Not Redundant\n"
     ]
    }
   ],
   "metadata": {
    "ExecuteTime": {
     "end_time": "2021-07-12T05:16:58.179738Z",
     "start_time": "2021-07-12T05:16:38.429555Z"
    }
   }
  },
  {
   "cell_type": "markdown",
   "source": [
    "## Queue Using Array/List"
   ],
   "metadata": {}
  },
  {
   "cell_type": "code",
   "execution_count": 9,
   "source": [
    "class Queue:\r\n",
    "    def __init__(self):\r\n",
    "        self.__arr=[]\r\n",
    "        self.__count=0\r\n",
    "        self.__front=0\r\n",
    "    def dequeue(self):\r\n",
    "        if self.__count==0:\r\n",
    "            return \"Queue Is Empty\"\r\n",
    "        element = self.__arr[self.__front]\r\n",
    "        self.__front+=1\r\n",
    "        self.__count-=1\r\n",
    "        return element\r\n",
    "    def enqueue(self,data):\r\n",
    "        self.__arr.append(data)\r\n",
    "        self.__count+=1\r\n",
    "    def front(self):\r\n",
    "        if self.__count==0:\r\n",
    "            return \"Queue Is Empty\"\r\n",
    "        return self.__arr[self.__front]\r\n",
    "    def size(self):\r\n",
    "        return self.__count\r\n",
    "    def isEmpty(self):\r\n",
    "        return self.size()==0"
   ],
   "outputs": [],
   "metadata": {
    "ExecuteTime": {
     "end_time": "2021-07-12T07:00:50.319721Z",
     "start_time": "2021-07-12T07:00:50.287766Z"
    }
   }
  },
  {
   "cell_type": "code",
   "execution_count": 10,
   "source": [
    "q = Queue()\r\n",
    "q.enqueue(1)\r\n",
    "q.enqueue(2)\r\n",
    "q.enqueue(3)\r\n",
    "print(\"Size of Queue:\",q.size())\r\n",
    "print(\"Printing And Dequeueing Elements\")\r\n",
    "while not q.isEmpty():\r\n",
    "    print(q.front())\r\n",
    "    q.dequeue()\r\n",
    "q.dequeue()"
   ],
   "outputs": [
    {
     "output_type": "stream",
     "name": "stdout",
     "text": [
      "Size of Queue: 3\n",
      "Printing And Dequeueing Elements\n",
      "1\n",
      "2\n",
      "3\n"
     ]
    },
    {
     "output_type": "execute_result",
     "data": {
      "text/plain": [
       "'Queue Is Empty'"
      ]
     },
     "metadata": {},
     "execution_count": 10
    }
   ],
   "metadata": {
    "ExecuteTime": {
     "end_time": "2021-07-12T07:02:57.277380Z",
     "start_time": "2021-07-12T07:02:57.241402Z"
    }
   }
  },
  {
   "cell_type": "markdown",
   "source": [
    "## Queue Using Linked List"
   ],
   "metadata": {}
  },
  {
   "cell_type": "code",
   "execution_count": 11,
   "source": [
    "class Node:\r\n",
    "    def __init__(self,data):\r\n",
    "        self.data = data\r\n",
    "        self.next = None\r\n",
    "class Queue:\r\n",
    "    def __init__(self):\r\n",
    "        self.__head=None\r\n",
    "        self.__count=0\r\n",
    "        self.__tail=None\r\n",
    "        \r\n",
    "    def enqueue(self,data):\r\n",
    "        new = Node(data)\r\n",
    "        if self.__head is None:\r\n",
    "            self.__head = new\r\n",
    "        else:\r\n",
    "            self.__tail.next = new\r\n",
    "        self.__tail = new\r\n",
    "        self.__count+=1\r\n",
    "        \r\n",
    "    def dequeue(self):\r\n",
    "        if self.__count==0:\r\n",
    "            return \"Queue Is Empty\"\r\n",
    "        element = self.__head.data\r\n",
    "        self.__head = self.__head.next\r\n",
    "        self.__count-=1\r\n",
    "        return element \r\n",
    "        \r\n",
    "    def front(self):\r\n",
    "        if self.__count==0:\r\n",
    "            return \"Queue Is Empty\"\r\n",
    "        return self.__head.data\r\n",
    "    \r\n",
    "    def size(self):\r\n",
    "        return self.__count\r\n",
    "    \r\n",
    "    def isEmpty(self):\r\n",
    "        return self.size()==0"
   ],
   "outputs": [],
   "metadata": {
    "ExecuteTime": {
     "end_time": "2021-07-12T16:40:28.931462Z",
     "start_time": "2021-07-12T16:40:28.891485Z"
    }
   }
  },
  {
   "cell_type": "code",
   "execution_count": 13,
   "source": [
    "q = Queue()\r\n",
    "q.enqueue(1)\r\n",
    "q.enqueue(2)\r\n",
    "q.enqueue(3)\r\n",
    "q.enqueue(4)\r\n",
    "print(\"Size of Queue:\",q.size())\r\n",
    "print(\"Printing And Dequeueing Elements\")\r\n",
    "while not q.isEmpty():\r\n",
    "    print(q.front())\r\n",
    "    q.dequeue()\r\n",
    "q.dequeue()"
   ],
   "outputs": [
    {
     "output_type": "stream",
     "name": "stdout",
     "text": [
      "Size of Queue: 4\n",
      "Printing And Dequeueing Elements\n",
      "1\n",
      "2\n",
      "3\n",
      "4\n"
     ]
    },
    {
     "output_type": "execute_result",
     "data": {
      "text/plain": [
       "'Queue Is Empty'"
      ]
     },
     "metadata": {},
     "execution_count": 13
    }
   ],
   "metadata": {
    "ExecuteTime": {
     "end_time": "2021-07-12T16:40:41.491927Z",
     "start_time": "2021-07-12T16:40:41.462944Z"
    }
   }
  },
  {
   "cell_type": "markdown",
   "source": [
    "## Inbuilt Queue"
   ],
   "metadata": {}
  },
  {
   "cell_type": "code",
   "execution_count": 7,
   "source": [
    "from queue import Queue as queue\r\n",
    "q = queue()\r\n",
    "q.put(1)\r\n",
    "q.put(2)\r\n",
    "q.put(3)\r\n",
    "q.put(4)\r\n",
    "while not q.empty():\r\n",
    "    print(q.get())"
   ],
   "outputs": [
    {
     "output_type": "stream",
     "name": "stdout",
     "text": [
      "1\n",
      "2\n",
      "3\n",
      "4\n"
     ]
    }
   ],
   "metadata": {
    "ExecuteTime": {
     "end_time": "2021-07-12T06:33:07.194520Z",
     "start_time": "2021-07-12T06:33:07.145298Z"
    }
   }
  },
  {
   "cell_type": "markdown",
   "source": [
    "## Queue Using Two Stacks\n",
    "Enqueue : O(n)<br>\n",
    "Dequeue : O(1)"
   ],
   "metadata": {}
  },
  {
   "cell_type": "code",
   "execution_count": 4,
   "source": [
    "class Qby2Stacks:\r\n",
    "    def __init__(self):\r\n",
    "        self.__s1=[]\r\n",
    "        self.__s2=[]\r\n",
    "    \r\n",
    "    def enqueue(self,data):\r\n",
    "        while(len(self.__s1)!=0):\r\n",
    "            self.__s2.append(self.__s1.pop())\r\n",
    "        self.__s1.append(data)\r\n",
    "        while(len(self.__s2)!=0):\r\n",
    "            self.__s1.append(self.__s2.pop())\r\n",
    "        return \r\n",
    "\r\n",
    "    def dequeue(self):\r\n",
    "        if len(self.__s1)==0:\r\n",
    "            return \"Queue Is Empty\"\r\n",
    "        return self.__s1.pop()\r\n",
    "        \r\n",
    "    def front(self):\r\n",
    "        if len(self.__s1)==0:\r\n",
    "            return \"Queue Is Empty\"\r\n",
    "        return self.__s1[-1]\r\n",
    "    \r\n",
    "    def size(self):\r\n",
    "        return len(self.__s1)\r\n",
    "    \r\n",
    "    def isEmpty(self):\r\n",
    "        return self.size()==0"
   ],
   "outputs": [],
   "metadata": {
    "ExecuteTime": {
     "end_time": "2021-07-13T12:20:39.112736Z",
     "start_time": "2021-07-13T12:20:39.084752Z"
    }
   }
  },
  {
   "cell_type": "code",
   "execution_count": 5,
   "source": [
    "q = Qby2Stacks()\r\n",
    "q.enqueue(1)\r\n",
    "q.enqueue(2)\r\n",
    "q.enqueue(3)\r\n",
    "q.enqueue(4)\r\n",
    "print(\"Size of Queue:\",q.size())\r\n",
    "print(\"Printing And Dequeueing Elements\")\r\n",
    "while not q.isEmpty():\r\n",
    "    print(q.front())\r\n",
    "    q.dequeue()\r\n",
    "q.dequeue()"
   ],
   "outputs": [
    {
     "output_type": "stream",
     "name": "stdout",
     "text": [
      "Size of Queue: 4\n",
      "Printing And Dequeueing Elements\n",
      "1\n",
      "2\n",
      "3\n",
      "4\n"
     ]
    },
    {
     "output_type": "execute_result",
     "data": {
      "text/plain": [
       "'Queue Is Empty'"
      ]
     },
     "metadata": {},
     "execution_count": 5
    }
   ],
   "metadata": {
    "ExecuteTime": {
     "end_time": "2021-07-13T12:20:39.451294Z",
     "start_time": "2021-07-13T12:20:39.413314Z"
    }
   }
  },
  {
   "cell_type": "markdown",
   "source": [
    "### OR\n",
    "Enqueue : O(1)<br>\n",
    "Dequeue : O(n)<br>\n",
    "Front : O(n)"
   ],
   "metadata": {}
  },
  {
   "cell_type": "code",
   "execution_count": 7,
   "source": [
    "class Qby2Stacks2:\r\n",
    "    def __init__(self):\r\n",
    "        self.__s1=[]\r\n",
    "        self.__s2=[]\r\n",
    "    \r\n",
    "    def enqueue(self,data):\r\n",
    "        self.__s1.append(data)\r\n",
    "        return \r\n",
    "\r\n",
    "    def dequeue(self):\r\n",
    "        if len(self.__s1)==0:\r\n",
    "            return \"Queue Is Empty\"\r\n",
    "        while(len(self.__s1)!=1):\r\n",
    "            self.__s2.append(self.__s1.pop())\r\n",
    "        data = self.__s1.pop()\r\n",
    "        while(len(self.__s2)!=0):\r\n",
    "            self.__s1.append(self.__s2.pop())\r\n",
    "        return data\r\n",
    "        \r\n",
    "    def front(self):\r\n",
    "        if len(self.__s1)==0:\r\n",
    "            return \"Queue Is Empty\"\r\n",
    "        while(len(self.__s1)!=1):\r\n",
    "            self.__s2.append(self.__s1.pop())\r\n",
    "        data = self.__s1[0]\r\n",
    "        while(len(self.__s2)!=0):\r\n",
    "            self.__s1.append(self.__s2.pop())\r\n",
    "        return data\r\n",
    "    \r\n",
    "    def size(self):\r\n",
    "        return len(self.__s1)\r\n",
    "    \r\n",
    "    def isEmpty(self):\r\n",
    "        return self.size()==0"
   ],
   "outputs": [],
   "metadata": {
    "ExecuteTime": {
     "end_time": "2021-07-13T12:29:46.913455Z",
     "start_time": "2021-07-13T12:29:46.889489Z"
    }
   }
  },
  {
   "cell_type": "code",
   "execution_count": 9,
   "source": [
    "q = Qby2Stacks2()\r\n",
    "q.enqueue(1)\r\n",
    "q.enqueue(2)\r\n",
    "q.enqueue(3)\r\n",
    "print(\"Size of Queue:\",q.size())\r\n",
    "print(\"Printing And Dequeueing Elements\")\r\n",
    "while not q.isEmpty():\r\n",
    "    print(q.front())\r\n",
    "    q.dequeue()\r\n",
    "q.dequeue()"
   ],
   "outputs": [
    {
     "output_type": "stream",
     "name": "stdout",
     "text": [
      "Size of Queue: 3\n",
      "Printing And Dequeueing Elements\n",
      "1\n",
      "2\n",
      "3\n"
     ]
    },
    {
     "output_type": "execute_result",
     "data": {
      "text/plain": [
       "'Queue Is Empty'"
      ]
     },
     "metadata": {},
     "execution_count": 9
    }
   ],
   "metadata": {
    "ExecuteTime": {
     "end_time": "2021-07-13T12:29:58.165136Z",
     "start_time": "2021-07-13T12:29:58.133515Z"
    }
   }
  },
  {
   "cell_type": "markdown",
   "source": [
    "## Binary Tree Creation And Printing"
   ],
   "metadata": {}
  },
  {
   "cell_type": "code",
   "execution_count": 3,
   "source": [
    "class BinaryTree:\r\n",
    "    def __init__(self,data):\r\n",
    "        self.data = data\r\n",
    "        self.left = None\r\n",
    "        self.right = None\r\n",
    "def printTree(root):\r\n",
    "    if root == None:\r\n",
    "        return \r\n",
    "    print(root.data,\":\",end=\"\")\r\n",
    "    if root.left !=None:\r\n",
    "        print(\"L\",root.left.data,end=\",\")\r\n",
    "    if root.right !=None:\r\n",
    "        print(\"R\",root.right.data,end=\"\")\r\n",
    "    print()\r\n",
    "    printTree(root.left)\r\n",
    "    printTree(root.right)"
   ],
   "outputs": [],
   "metadata": {}
  },
  {
   "cell_type": "code",
   "execution_count": 6,
   "source": [
    "bt1 = BinaryTree(10)\r\n",
    "bt2 = BinaryTree(12)\r\n",
    "bt3 = BinaryTree(13)\r\n",
    "bt4 = BinaryTree(14)\r\n",
    "bt5 = BinaryTree(15)\r\n",
    "\r\n",
    "bt1.left = bt2\r\n",
    "bt1.right = bt3\r\n",
    "bt2.left = bt4\r\n",
    "bt2.right = bt5\r\n",
    "\r\n",
    "printTree(bt1)"
   ],
   "outputs": [
    {
     "output_type": "stream",
     "name": "stdout",
     "text": [
      "10 :L 12,R 13\n",
      "12 :L 14,R 15\n",
      "14 :\n",
      "15 :\n",
      "13 :\n"
     ]
    }
   ],
   "metadata": {}
  },
  {
   "cell_type": "markdown",
   "source": [
    "## Connecting Binary Tree Inputs"
   ],
   "metadata": {}
  },
  {
   "cell_type": "code",
   "execution_count": 4,
   "source": [
    "def treeInput():\r\n",
    "    rootData = int(input())\r\n",
    "    if rootData == -1:\r\n",
    "        return None\r\n",
    "    root = BinaryTree(rootData)\r\n",
    "    leftTree = treeInput()\r\n",
    "    rightTree = treeInput()\r\n",
    "    root.left = leftTree\r\n",
    "    root.right = rightTree\r\n",
    "    return root"
   ],
   "outputs": [],
   "metadata": {}
  },
  {
   "cell_type": "code",
   "execution_count": 6,
   "source": [
    "root = treeInput()\r\n",
    "printTree(root)\r\n",
    "#Input = 1 2 4 -1 -1 5 -1 -1 3 -1 -1"
   ],
   "outputs": [
    {
     "output_type": "stream",
     "name": "stdout",
     "text": [
      "1 :L 2,R 3\n",
      "2 :L 4,R 5\n",
      "4 :\n",
      "5 :\n",
      "3 :\n"
     ]
    }
   ],
   "metadata": {}
  },
  {
   "cell_type": "markdown",
   "source": [
    "## Counting Nodes"
   ],
   "metadata": {}
  },
  {
   "cell_type": "code",
   "execution_count": 9,
   "source": [
    "def numNodes(root):\r\n",
    "    if root == None:\r\n",
    "        return 0\r\n",
    "    leftCount = numNodes(root.left)\r\n",
    "    rightCount = numNodes(root.right)\r\n",
    "    return leftCount + rightCount + 1"
   ],
   "outputs": [],
   "metadata": {}
  },
  {
   "cell_type": "code",
   "execution_count": 10,
   "source": [
    "root = treeInput()\r\n",
    "printTree(root)\r\n",
    "print(\"Node Counts:\",numNodes(root))\r\n",
    "#Input = 1 2 4 -1 -1 5 -1 -1 3 -1 -1"
   ],
   "outputs": [
    {
     "output_type": "stream",
     "name": "stdout",
     "text": [
      "1 :L 2,R 3\n",
      "2 :L 4,R 5\n",
      "4 :\n",
      "5 :\n",
      "3 :\n",
      "Node Counts: 5\n"
     ]
    }
   ],
   "metadata": {}
  },
  {
   "cell_type": "markdown",
   "source": [
    "## Preorder Printing\n",
    "ROOT LEFT RIGHT<Br>\n",
    "Just Like Above as we were usually following<Br>\n",
    "1 :L 2,R 3<Br>\n",
    "2 :L 4,R 5<Br>\n",
    "4 :<Br>\n",
    "5 :<Br>\n",
    "3 :<Br>"
   ],
   "metadata": {}
  },
  {
   "cell_type": "markdown",
   "source": [
    "## Postorder Printing\n",
    "LEFT RIGHT ROOT<Br>"
   ],
   "metadata": {}
  },
  {
   "cell_type": "code",
   "execution_count": 13,
   "source": [
    "class BinaryTree:\r\n",
    "    def __init__(self,data):\r\n",
    "        self.data = data\r\n",
    "        self.left = None\r\n",
    "        self.right = None\r\n",
    "def printTree(root):\r\n",
    "    if root == None:\r\n",
    "        return \r\n",
    "    printTree(root.left)\r\n",
    "    printTree(root.right)\r\n",
    "    print(\"Root:\",root.data)"
   ],
   "outputs": [],
   "metadata": {}
  },
  {
   "cell_type": "code",
   "execution_count": 14,
   "source": [
    "bt1 = BinaryTree(10)\r\n",
    "bt2 = BinaryTree(12)\r\n",
    "bt3 = BinaryTree(13)\r\n",
    "bt4 = BinaryTree(14)\r\n",
    "bt5 = BinaryTree(15)\r\n",
    "\r\n",
    "bt1.left = bt2\r\n",
    "bt1.right = bt3\r\n",
    "bt2.left = bt4\r\n",
    "bt2.right = bt5\r\n",
    "\r\n",
    "printTree(bt1)\r\n",
    "#postorder(bt1)"
   ],
   "outputs": [
    {
     "output_type": "stream",
     "name": "stdout",
     "text": [
      "Root: 14\n",
      "Root: 15\n",
      "Root: 12\n",
      "Root: 13\n",
      "Root: 10\n"
     ]
    }
   ],
   "metadata": {}
  },
  {
   "cell_type": "markdown",
   "source": [
    "## Inorder Printing\n",
    "LEFT ROOT RIGHT"
   ],
   "metadata": {}
  },
  {
   "cell_type": "code",
   "execution_count": 15,
   "source": [
    "class BinaryTree:\r\n",
    "    def __init__(self,data):\r\n",
    "        self.data = data\r\n",
    "        self.left = None\r\n",
    "        self.right = None\r\n",
    "def printTree(root):\r\n",
    "    if root == None:\r\n",
    "        return \r\n",
    "    printTree(root.left)\r\n",
    "    print(\"Root:\",root.data)\r\n",
    "    printTree(root.right)"
   ],
   "outputs": [],
   "metadata": {}
  },
  {
   "cell_type": "code",
   "execution_count": 16,
   "source": [
    "bt1 = BinaryTree(10)\r\n",
    "bt2 = BinaryTree(12)\r\n",
    "bt3 = BinaryTree(13)\r\n",
    "bt4 = BinaryTree(14)\r\n",
    "bt5 = BinaryTree(15)\r\n",
    "\r\n",
    "bt1.left = bt2\r\n",
    "bt1.right = bt3\r\n",
    "bt2.left = bt4\r\n",
    "bt2.right = bt5\r\n",
    "\r\n",
    "printTree(bt1)\r\n",
    "#postorder(bt1)"
   ],
   "outputs": [
    {
     "output_type": "stream",
     "name": "stdout",
     "text": [
      "Root: 14\n",
      "Root: 12\n",
      "Root: 15\n",
      "Root: 10\n",
      "Root: 13\n"
     ]
    }
   ],
   "metadata": {}
  },
  {
   "cell_type": "markdown",
   "source": [
    "## Largest Value in Tree"
   ],
   "metadata": {}
  },
  {
   "cell_type": "code",
   "execution_count": 31,
   "source": [
    "class BinaryTree:\r\n",
    "    def __init__(self,data):\r\n",
    "        self.data = data\r\n",
    "        self.left = None\r\n",
    "        self.right = None\r\n",
    "def printTree(root):\r\n",
    "    if root == None:\r\n",
    "        return \r\n",
    "    print(root.data,\":\",end=\"\")\r\n",
    "    if root.left !=None:\r\n",
    "        print(\"L\",root.left.data,end=\",\")\r\n",
    "    if root.right !=None:\r\n",
    "        print(\"R\",root.right.data,end=\"\")\r\n",
    "    print()\r\n",
    "    printTree(root.left)\r\n",
    "    printTree(root.right)\r\n",
    "    \r\n",
    "def largest(root):\r\n",
    "    if root==None:\r\n",
    "        return -1\r\n",
    "    lef = largest(root.left)\r\n",
    "    rig = largest(root.right)\r\n",
    "    return max(root.data,lef,rig)"
   ],
   "outputs": [],
   "metadata": {}
  },
  {
   "cell_type": "code",
   "execution_count": 32,
   "source": [
    "bt1 = BinaryTree(10)\r\n",
    "bt2 = BinaryTree(12)\r\n",
    "bt3 = BinaryTree(13)\r\n",
    "bt4 = BinaryTree(14)\r\n",
    "bt5 = BinaryTree(15)\r\n",
    "\r\n",
    "bt1.left = bt2\r\n",
    "bt1.right = bt3\r\n",
    "bt2.left = bt4\r\n",
    "bt2.right = bt5\r\n",
    "\r\n",
    "printTree(bt1)\r\n",
    "print(\"Largest Value =\",largest(bt1))"
   ],
   "outputs": [
    {
     "output_type": "stream",
     "name": "stdout",
     "text": [
      "10 :L 12,R 13\n",
      "12 :L 14,R 15\n",
      "14 :\n",
      "15 :\n",
      "13 :\n",
      "Largest Value = 15\n"
     ]
    }
   ],
   "metadata": {}
  },
  {
   "cell_type": "markdown",
   "source": [
    "## Sum of all Nodes"
   ],
   "metadata": {}
  },
  {
   "cell_type": "code",
   "execution_count": 33,
   "source": [
    "class BinaryTree:\r\n",
    "    def __init__(self,data):\r\n",
    "        self.data = data\r\n",
    "        self.left = None\r\n",
    "        self.right = None\r\n",
    "def printTree(root):\r\n",
    "    if root == None:\r\n",
    "        return \r\n",
    "    print(root.data,\":\",end=\"\")\r\n",
    "    if root.left !=None:\r\n",
    "        print(\"L\",root.left.data,end=\",\")\r\n",
    "    if root.right !=None:\r\n",
    "        print(\"R\",root.right.data,end=\"\")\r\n",
    "    print()\r\n",
    "    printTree(root.left)\r\n",
    "    printTree(root.right)\r\n",
    "    \r\n",
    "def sumnodes(root):\r\n",
    "    if root==None:\r\n",
    "        return 0\r\n",
    "    lef = sumnodes(root.left)\r\n",
    "    rig = sumnodes(root.right)\r\n",
    "    return root.data+lef+rig"
   ],
   "outputs": [],
   "metadata": {}
  },
  {
   "cell_type": "code",
   "execution_count": 34,
   "source": [
    "bt1 = BinaryTree(10)\r\n",
    "bt2 = BinaryTree(12)\r\n",
    "bt3 = BinaryTree(13)\r\n",
    "bt4 = BinaryTree(14)\r\n",
    "bt5 = BinaryTree(15)\r\n",
    "\r\n",
    "bt1.left = bt2\r\n",
    "bt1.right = bt3\r\n",
    "bt2.left = bt4\r\n",
    "bt2.right = bt5\r\n",
    "\r\n",
    "printTree(bt1)\r\n",
    "#Sum = 64\r\n",
    "print(\"Sum Of All Nodes =\",sumnodes(bt1))"
   ],
   "outputs": [
    {
     "output_type": "stream",
     "name": "stdout",
     "text": [
      "10 :L 12,R 13\n",
      "12 :L 14,R 15\n",
      "14 :\n",
      "15 :\n",
      "13 :\n",
      "Sum Of All Nodes = 64\n"
     ]
    }
   ],
   "metadata": {}
  },
  {
   "cell_type": "markdown",
   "source": [
    "## Height Of Tree (No. of Levels)"
   ],
   "metadata": {}
  },
  {
   "cell_type": "code",
   "execution_count": 35,
   "source": [
    "class BinaryTree:\r\n",
    "    def __init__(self,data):\r\n",
    "        self.data = data\r\n",
    "        self.left = None\r\n",
    "        self.right = None\r\n",
    "def printTree(root):\r\n",
    "    if root == None:\r\n",
    "        return \r\n",
    "    print(root.data,\":\",end=\"\")\r\n",
    "    if root.left !=None:\r\n",
    "        print(\"L\",root.left.data,end=\",\")\r\n",
    "    if root.right !=None:\r\n",
    "        print(\"R\",root.right.data,end=\"\")\r\n",
    "    print()\r\n",
    "    printTree(root.left)\r\n",
    "    printTree(root.right)\r\n",
    "    \r\n",
    "def height(root):\r\n",
    "    if root==None:\r\n",
    "        return 0\r\n",
    "    lefDepth = height(root.left)\r\n",
    "    rigDepth = height(root.right)\r\n",
    "    if lefDepth>rigDepth:\r\n",
    "        return lefDepth+1\r\n",
    "    else:\r\n",
    "        return rigDepth+1"
   ],
   "outputs": [],
   "metadata": {}
  },
  {
   "cell_type": "code",
   "execution_count": 38,
   "source": [
    "bt1 = BinaryTree(10)\r\n",
    "bt2 = BinaryTree(12)\r\n",
    "bt3 = BinaryTree(13)\r\n",
    "bt4 = BinaryTree(14)\r\n",
    "bt5 = BinaryTree(15)\r\n",
    "bt1.left = bt2\r\n",
    "bt1.right = bt3\r\n",
    "bt2.left = bt4\r\n",
    "bt2.right = bt5\r\n",
    "\r\n",
    "printTree(bt1)\r\n",
    "\r\n",
    "print(\"Height of Tree =\",height(bt1))"
   ],
   "outputs": [
    {
     "output_type": "stream",
     "name": "stdout",
     "text": [
      "10 :L 12,R 13\n",
      "12 :L 14,R 15\n",
      "14 :\n",
      "15 :\n",
      "13 :\n",
      "Height of Tree = 3\n"
     ]
    }
   ],
   "metadata": {}
  },
  {
   "cell_type": "markdown",
   "source": [
    "## Number Of Leaf Nodes"
   ],
   "metadata": {}
  },
  {
   "cell_type": "code",
   "execution_count": 3,
   "source": [
    "class BinaryTree:\r\n",
    "    def __init__(self,data):\r\n",
    "        self.data = data\r\n",
    "        self.left = None\r\n",
    "        self.right = None\r\n",
    "\r\n",
    "def printTree(root):\r\n",
    "    if root == None:\r\n",
    "        return \r\n",
    "    print(root.data,\":\",end=\"\")\r\n",
    "    if root.left !=None:\r\n",
    "        print(\"L\",root.left.data,end=\",\")\r\n",
    "    if root.right !=None:\r\n",
    "        print(\"R\",root.right.data,end=\"\")\r\n",
    "    print()\r\n",
    "    printTree(root.left)\r\n",
    "    printTree(root.right)\r\n",
    "\r\n",
    "def treeInput():\r\n",
    "    rootData = int(input())\r\n",
    "    if rootData == -1:\r\n",
    "        return None\r\n",
    "    root = BinaryTree(rootData)\r\n",
    "    leftTree = treeInput()\r\n",
    "    rightTree = treeInput()\r\n",
    "    root.left = leftTree\r\n",
    "    root.right = rightTree\r\n",
    "    return root\r\n",
    "\r\n",
    "def leaf(root):\r\n",
    "    if root==None:\r\n",
    "        return 0\r\n",
    "    if root.left == None and root.right == None:\r\n",
    "        return 1\r\n",
    "    leftleaf = leaf(root.left)\r\n",
    "    rightleaf = leaf(root.right)\r\n",
    "    return leftleaf+rightleaf\r\n",
    "\r\n",
    "root = treeInput()\r\n",
    "printTree(root)\r\n",
    "print(\"Number of leaf nodes:\",leaf(root))"
   ],
   "outputs": [
    {
     "output_type": "stream",
     "name": "stdout",
     "text": [
      "1 :L 2,R 3\n",
      "2 :L 4,R 5\n",
      "4 :\n",
      "5 :\n",
      "3 :L 6,R 7\n",
      "6 :\n",
      "7 :\n",
      "Number of leaf nodes: 4\n"
     ]
    }
   ],
   "metadata": {}
  },
  {
   "cell_type": "markdown",
   "source": [
    "## Print Nodes At Depth K"
   ],
   "metadata": {}
  },
  {
   "cell_type": "code",
   "execution_count": 41,
   "source": [
    "class BinaryTree:\r\n",
    "    def __init__(self,data):\r\n",
    "        self.data = data\r\n",
    "        self.left = None\r\n",
    "        self.right = None\r\n",
    "\r\n",
    "def printTree(root):\r\n",
    "    if root == None:\r\n",
    "        return \r\n",
    "    print(root.data,\":\",end=\"\")\r\n",
    "    if root.left !=None:\r\n",
    "        print(\"L\",root.left.data,end=\",\")\r\n",
    "    if root.right !=None:\r\n",
    "        print(\"R\",root.right.data,end=\"\")\r\n",
    "    print()\r\n",
    "    printTree(root.left)\r\n",
    "    printTree(root.right)\r\n",
    "\r\n",
    "def treeInput():\r\n",
    "    rootData = int(input())\r\n",
    "    if rootData == -1:\r\n",
    "        return None\r\n",
    "    root = BinaryTree(rootData)\r\n",
    "    leftTree = treeInput()\r\n",
    "    rightTree = treeInput()\r\n",
    "    root.left = leftTree\r\n",
    "    root.right = rightTree\r\n",
    "    return root\r\n",
    "\r\n",
    "def printDepth(root,k):\r\n",
    "    if root==None:\r\n",
    "        return \r\n",
    "    if k==0:\r\n",
    "        print(root.data)\r\n",
    "        return \r\n",
    "    printDepth(root.left,k-1)\r\n",
    "    printDepth(root.right,k-1)\r\n",
    "\r\n",
    "root = treeInput()\r\n",
    "printTree(root)\r\n",
    "print(\"Nodes At Depth 2:\",printDepth(root,2))"
   ],
   "outputs": [
    {
     "output_type": "stream",
     "name": "stdout",
     "text": [
      "1 :L 2,R 3\n",
      "2 :L 4,R 5\n",
      "4 :\n",
      "5 :\n",
      "3 :L 6,\n",
      "6 :\n",
      "4\n",
      "5\n",
      "6\n",
      "Nodes At Depth 2: None\n"
     ]
    }
   ],
   "metadata": {}
  },
  {
   "cell_type": "markdown",
   "source": [
    "## Remove Leaf Nodes"
   ],
   "metadata": {}
  },
  {
   "cell_type": "code",
   "execution_count": 4,
   "source": [
    "class BinaryTree:\r\n",
    "    def __init__(self,data):\r\n",
    "        self.data = data\r\n",
    "        self.left = None\r\n",
    "        self.right = None\r\n",
    "\r\n",
    "def printTree(root):\r\n",
    "    if root == None:\r\n",
    "        return \r\n",
    "    print(root.data,\":\",end=\"\")\r\n",
    "    if root.left !=None:\r\n",
    "        print(\"L\",root.left.data,end=\",\")\r\n",
    "    if root.right !=None:\r\n",
    "        print(\"R\",root.right.data,end=\"\")\r\n",
    "    print()\r\n",
    "    printTree(root.left)\r\n",
    "    printTree(root.right)\r\n",
    "\r\n",
    "def treeInput():\r\n",
    "    rootData = int(input())\r\n",
    "    if rootData == -1:\r\n",
    "        return None\r\n",
    "    root = BinaryTree(rootData)\r\n",
    "    leftTree = treeInput()\r\n",
    "    rightTree = treeInput()\r\n",
    "    root.left = leftTree\r\n",
    "    root.right = rightTree\r\n",
    "    return root\r\n",
    "\r\n",
    "def removeLeaf(root):\r\n",
    "    if root==None:\r\n",
    "        return None\r\n",
    "    if root.left == None and root.right==None:\r\n",
    "        return None\r\n",
    "    root.left = removeLeaf(root.left)\r\n",
    "    root.right = removeLeaf(root.right)\r\n",
    "    return root\r\n",
    "root = treeInput()\r\n",
    "printTree(root)\r\n",
    "print(\"Deleting Leaf Nodes....\")\r\n",
    "root = removeLeaf(root)\r\n",
    "printTree(root)"
   ],
   "outputs": [
    {
     "output_type": "stream",
     "name": "stdout",
     "text": [
      "1 :L 2,R 3\n",
      "2 :L 4,R 5\n",
      "4 :\n",
      "5 :\n",
      "3 :\n",
      "Deleting Leaf Nodes....\n",
      "1 :L 2,\n",
      "2 :\n"
     ]
    }
   ],
   "metadata": {}
  },
  {
   "cell_type": "markdown",
   "source": [
    "## Check if tree is balanced or not\n",
    "Balanced tree means having height difference not more than 1 in each nodes"
   ],
   "metadata": {}
  },
  {
   "cell_type": "code",
   "execution_count": 9,
   "source": [
    "class BinaryTree:\r\n",
    "    def __init__(self,data):\r\n",
    "        self.data = data\r\n",
    "        self.left = None\r\n",
    "        self.right = None\r\n",
    "\r\n",
    "def printTree(root):\r\n",
    "    if root == None:\r\n",
    "        return \r\n",
    "    print(root.data,\":\",end=\"\")\r\n",
    "    if root.left !=None:\r\n",
    "        print(\"L\",root.left.data,end=\",\")\r\n",
    "    if root.right !=None:\r\n",
    "        print(\"R\",root.right.data,end=\"\")\r\n",
    "    print()\r\n",
    "    printTree(root.left)\r\n",
    "    printTree(root.right)\r\n",
    "\r\n",
    "def treeInput():\r\n",
    "    rootData = int(input())\r\n",
    "    if rootData == -1:\r\n",
    "        return None\r\n",
    "    root = BinaryTree(rootData)\r\n",
    "    leftTree = treeInput()\r\n",
    "    rightTree = treeInput()\r\n",
    "    root.left = leftTree\r\n",
    "    root.right = rightTree\r\n",
    "    return root\r\n",
    "\r\n",
    "def height(root):\r\n",
    "    if root == None:\r\n",
    "        return 0\r\n",
    "    return 1 + max(height(root.left),height(root.right))\r\n",
    "\r\n",
    "def isBalanced(root):\r\n",
    "    if root==None:\r\n",
    "        return True\r\n",
    "    lh = height(root.left)\r\n",
    "    rh = height(root.right)\r\n",
    "    if lh-rh > 1 or rh-lh > 1:\r\n",
    "        return False\r\n",
    "    lB = isBalanced(root.left)\r\n",
    "    rB = isBalanced(root.right)\r\n",
    "    if lB and rB:\r\n",
    "        return True\r\n",
    "    else:\r\n",
    "        return False\r\n",
    "\r\n",
    "root = treeInput()\r\n",
    "printTree(root)\r\n",
    "print(\"Tree Balnced =\",isBalanced(root))"
   ],
   "outputs": [
    {
     "output_type": "stream",
     "name": "stdout",
     "text": [
      "1 :L 2,R 3\n",
      "2 :L 4,\n",
      "4 :L 6,\n",
      "6 :\n",
      "3 :L 5,\n",
      "5 :\n",
      "Tree Balnced = False\n"
     ]
    }
   ],
   "metadata": {}
  },
  {
   "cell_type": "markdown",
   "source": [
    "## Take Tree Inputs Level-Wise Iteratively (Looks Better Than Recursion)"
   ],
   "metadata": {}
  },
  {
   "cell_type": "code",
   "execution_count": 6,
   "source": [
    "class BinaryTree:\r\n",
    "    def __init__(self,data):\r\n",
    "        self.data = data\r\n",
    "        self.left = None\r\n",
    "        self.right = None\r\n",
    "\r\n",
    "def printTree(root):\r\n",
    "    if root == None:\r\n",
    "        return \r\n",
    "    print(root.data,\":\",end=\"\")\r\n",
    "    if root.left !=None:\r\n",
    "        print(\"L\",root.left.data,end=\",\")\r\n",
    "    if root.right !=None:\r\n",
    "        print(\"R\",root.right.data,end=\"\")\r\n",
    "    print()\r\n",
    "    printTree(root.left)\r\n",
    "    printTree(root.right)\r\n",
    "import queue \r\n",
    "def TreeInput():\r\n",
    "    root = BinaryTree(int(input(\"Enter Root Node\")))\r\n",
    "    Q = queue.Queue()\r\n",
    "    Q.put(root)\r\n",
    "    while (not Q.empty()):\r\n",
    "        current = Q.get()\r\n",
    "        leftChildData = int(input(f\"Enter Left child of {current.data}\"))\r\n",
    "        if leftChildData != -1:\r\n",
    "            leftchild = BinaryTree(leftChildData)\r\n",
    "            current.left = leftchild\r\n",
    "            Q.put(leftchild)\r\n",
    "        rightChildData = int(input(f\"Enter Right child of {current.data}\"))\r\n",
    "        if rightChildData != -1:\r\n",
    "            rightChild = BinaryTree(rightChildData)\r\n",
    "            current.right = rightChild\r\n",
    "            Q.put(rightChild)\r\n",
    "    return root\r\n",
    "\r\n",
    "root = TreeInput()\r\n",
    "printTree(root)"
   ],
   "outputs": [
    {
     "output_type": "stream",
     "name": "stdout",
     "text": [
      "10 :L 11,R 12\n",
      "11 :L 13,R 14\n",
      "13 :\n",
      "14 :\n",
      "12 :L 15,R 16\n",
      "15 :\n",
      "16 :\n"
     ]
    }
   ],
   "metadata": {}
  },
  {
   "cell_type": "markdown",
   "source": [
    "## Print Tree Level-Wise Iteratively"
   ],
   "metadata": {}
  },
  {
   "cell_type": "code",
   "execution_count": 13,
   "source": [
    "class BinaryTree:\r\n",
    "    def __init__(self,data):\r\n",
    "        self.data = data\r\n",
    "        self.left = None\r\n",
    "        self.right = None\r\n",
    "\r\n",
    "import queue \r\n",
    "def TreeInput():\r\n",
    "    root = BinaryTree(int(input(\"Enter Root Node\")))\r\n",
    "    Q = queue.Queue()\r\n",
    "    Q.put(root)\r\n",
    "    while (not Q.empty()):\r\n",
    "        current = Q.get()\r\n",
    "        leftChildData = int(input(f\"Enter Left child of {current.data}\"))\r\n",
    "        if leftChildData != -1:\r\n",
    "            leftchild = BinaryTree(leftChildData)\r\n",
    "            current.left = leftchild\r\n",
    "            Q.put(leftchild)\r\n",
    "        rightChildData = int(input(f\"Enter Right child of {current.data}\"))\r\n",
    "        if rightChildData != -1:\r\n",
    "            rightChild = BinaryTree(rightChildData)\r\n",
    "            current.right = rightChild\r\n",
    "            Q.put(rightChild)\r\n",
    "    return root\r\n",
    "\r\n",
    "def printTree(root):\r\n",
    "    Q = queue.Queue()\r\n",
    "    Q.put(root)\r\n",
    "    while (not Q.empty()):\r\n",
    "        current = Q.get()\r\n",
    "        print(f\"Root-{current.data}:\",end=\" \")\r\n",
    "        leftChild = current.left\r\n",
    "        rightChild = current.right\r\n",
    "        if leftChild != None:\r\n",
    "            Q.put(leftChild)\r\n",
    "            print(f\"Left-{leftChild.data}\",end=\" \")\r\n",
    "        if rightChild !=None:\r\n",
    "            Q.put(rightChild)\r\n",
    "            print(f\"Right-{rightChild.data}\",end=\"\")\r\n",
    "        print()\r\n",
    "\r\n",
    "root = TreeInput()\r\n",
    "printTree(root)"
   ],
   "outputs": [
    {
     "output_type": "stream",
     "name": "stdout",
     "text": [
      "1: L2 R3\n",
      "2: L4 R5\n",
      "3: 4: 5: "
     ]
    }
   ],
   "metadata": {}
  },
  {
   "cell_type": "markdown",
   "source": [
    "## Binary Search Tree"
   ],
   "metadata": {}
  },
  {
   "cell_type": "markdown",
   "source": [
    "### Searching For An Element"
   ],
   "metadata": {}
  },
  {
   "cell_type": "code",
   "execution_count": 1,
   "source": [
    "class BinaryTree:\r\n",
    "    def __init__(self,data):\r\n",
    "        self.data = data\r\n",
    "        self.left = None\r\n",
    "        self.right = None\r\n",
    "\r\n",
    "import queue \r\n",
    "def TreeInput():\r\n",
    "    root = BinaryTree(int(input(\"Enter Root Node\")))\r\n",
    "    Q = queue.Queue()\r\n",
    "    Q.put(root)\r\n",
    "    while (not Q.empty()):\r\n",
    "        current = Q.get()\r\n",
    "        leftChildData = int(input(f\"Enter Left child of {current.data}\"))\r\n",
    "        if leftChildData != -1:\r\n",
    "            leftchild = BinaryTree(leftChildData)\r\n",
    "            current.left = leftchild\r\n",
    "            Q.put(leftchild)\r\n",
    "        rightChildData = int(input(f\"Enter Right child of {current.data}\"))\r\n",
    "        if rightChildData != -1:\r\n",
    "            rightChild = BinaryTree(rightChildData)\r\n",
    "            current.right = rightChild\r\n",
    "            Q.put(rightChild)\r\n",
    "    return root\r\n",
    "\r\n",
    "def printTree(root):\r\n",
    "    Q = queue.Queue()\r\n",
    "    Q.put(root)\r\n",
    "    while (not Q.empty()):\r\n",
    "        current = Q.get()\r\n",
    "        print(f\"Root-{current.data}:\",end=\" \")\r\n",
    "        leftChild = current.left\r\n",
    "        rightChild = current.right\r\n",
    "        if leftChild != None:\r\n",
    "            Q.put(leftChild)\r\n",
    "            print(f\"Left-{leftChild.data}\",end=\" \")\r\n",
    "        if rightChild !=None:\r\n",
    "            Q.put(rightChild)\r\n",
    "            print(f\"Right-{rightChild.data}\",end=\"\")\r\n",
    "        print()\r\n",
    "\r\n",
    "#BST Search\r\n",
    "def search(root,x):\r\n",
    "    if root == None:\r\n",
    "        return False\r\n",
    "    if root.data == x:\r\n",
    "        return True\r\n",
    "    elif root.data>x:\r\n",
    "        return search(root.left,x)\r\n",
    "    else:\r\n",
    "        return search(root.right,x)\r\n",
    "\r\n",
    "root = TreeInput()\r\n",
    "printTree(root)\r\n",
    "print(search(root,2))"
   ],
   "outputs": [],
   "metadata": {}
  },
  {
   "cell_type": "markdown",
   "source": [
    "## Print Between K1 & K2"
   ],
   "metadata": {}
  },
  {
   "cell_type": "code",
   "execution_count": 5,
   "source": [
    "def btwn_k1k2(root,k1,k2):\r\n",
    "    if root == None:\r\n",
    "        return \r\n",
    "    if root.data > k2:\r\n",
    "        btwn_k1k2(root.left,k1,k2)\r\n",
    "    elif root.data < k1:\r\n",
    "        btwn_k1k2(root.right,k1,k2)\r\n",
    "    else:\r\n",
    "        print(root.data, end=\" \")\r\n",
    "        btwn_k1k2(root.left,k1,k2)\r\n",
    "        btwn_k1k2(root.right,k1,k2)\r\n",
    "\r\n",
    "root = TreeInput()\r\n",
    "printTree(root)\r\n",
    "print(btwn_k1k2(root,5,10))"
   ],
   "outputs": [
    {
     "output_type": "stream",
     "name": "stdout",
     "text": [
      "Root-4: Left-2 Right-10\n",
      "Root-2: Left-1 Right-3\n",
      "Root-10: Left-7 Right-12\n",
      "Root-1: \n",
      "Root-3: \n",
      "Root-7: Left-5 Right-6\n",
      "Root-12: Left-11 Right-18\n",
      "Root-5: \n",
      "Root-6: \n",
      "Root-11: \n",
      "Root-18: \n",
      "10 7 5 6 None\n"
     ]
    }
   ],
   "metadata": {}
  },
  {
   "cell_type": "markdown",
   "source": [
    "## Check if tree is BST"
   ],
   "metadata": {}
  },
  {
   "cell_type": "code",
   "execution_count": 8,
   "source": [
    "def mintree(root):\r\n",
    "    if root == None:\r\n",
    "        return 10000\r\n",
    "    leftMin = mintree(root.left)\r\n",
    "    rightMin = mintree(root.right)\r\n",
    "    return min(leftMin,rightMin,root.data)\r\n",
    "\r\n",
    "def maxtree(root):\r\n",
    "    if root == None:\r\n",
    "        return -10000\r\n",
    "    leftMax = maxtree(root.left)\r\n",
    "    rightMax = maxtree(root.right)\r\n",
    "    return max(leftMax,rightMax,root.data)\r\n",
    "\r\n",
    "def isBST(root):\r\n",
    "    if root == None:\r\n",
    "        return True\r\n",
    "    LeftMax = maxtree(root.left)\r\n",
    "    RightMin = mintree(root.right)\r\n",
    "    if root.data > RightMin or root.data < LeftMax:\r\n",
    "        return False\r\n",
    "    isLeftBST = isBST(root.left)\r\n",
    "    isRightBST = isBST(root.right)\r\n",
    "    return isLeftBST and isRightBST\r\n",
    "\r\n",
    "root = TreeInput()\r\n",
    "printTree(root)\r\n",
    "print(\"Is It A BST: \")\r\n",
    "print(isBST(root))\r\n",
    "    "
   ],
   "outputs": [
    {
     "output_type": "stream",
     "name": "stdout",
     "text": [
      "Root-4: Left-2 Right-6\n",
      "Root-2: Left-1 Right-3\n",
      "Root-6: Left-5 Right-7\n",
      "Root-1: \n",
      "Root-3: \n",
      "Root-5: \n",
      "Root-7: \n",
      "Is It A BST: \n",
      "False\n"
     ]
    }
   ],
   "metadata": {}
  },
  {
   "cell_type": "markdown",
   "source": [
    "## Print All Element From Node To Root"
   ],
   "metadata": {}
  },
  {
   "cell_type": "code",
   "execution_count": 3,
   "source": [
    "def nodeToRoot(root,s):\r\n",
    "    if root == None:\r\n",
    "        return None\r\n",
    "    if root.data == s:\r\n",
    "        l = list()\r\n",
    "        l.append(root.data)\r\n",
    "        return l\r\n",
    "    leftOutput = nodeToRoot(root.left,s)\r\n",
    "    if leftOutput!=None:\r\n",
    "        leftOutput.append(root.data)\r\n",
    "        return leftOutput\r\n",
    "    rightOutput = nodeToRoot(root.right,s)\r\n",
    "    if rightOutput!=None:\r\n",
    "        rightOutput.append(root.data)\r\n",
    "        return rightOutput\r\n",
    "    else:\r\n",
    "        return None\r\n",
    "\r\n",
    "root = TreeInput()\r\n",
    "printTree(root)\r\n",
    "print(\"Node To Root Elements: \")\r\n",
    "print(nodeToRoot(root,5))"
   ],
   "outputs": [
    {
     "output_type": "stream",
     "name": "stdout",
     "text": [
      "Root-1: Left-2 Right-3\n",
      "Root-2: \n",
      "Root-3: Left-4 Right-6\n",
      "Root-4: \n",
      "Root-6: Left-5 Right-9\n",
      "Root-5: \n",
      "Root-9: \n",
      "Node To Root Elements: \n",
      "[5, 6, 3, 1]\n"
     ]
    }
   ],
   "metadata": {}
  },
  {
   "cell_type": "markdown",
   "source": [
    "## Generic Tree"
   ],
   "metadata": {}
  },
  {
   "cell_type": "code",
   "execution_count": 1,
   "source": [
    "class generic:\r\n",
    "    def __init__(self,data):\r\n",
    "        self.data = data\r\n",
    "        self.children = list()\r\n",
    "\r\n",
    "n0 = generic(5)\r\n",
    "n1 = generic(2)\r\n",
    "n2 = generic(9)\r\n",
    "n3 = generic(8)\r\n",
    "n4 = generic(7)\r\n",
    "n5 = generic(15)\r\n",
    "n6 = generic(1)\r\n",
    "\r\n",
    "n0.children.append(n1)\r\n",
    "n0.children.append(n2)\r\n",
    "n0.children.append(n3)\r\n",
    "n0.children.append(n4)\r\n",
    "\r\n",
    "n2.children.append(n5)\r\n",
    "n2.children.append(n6)"
   ],
   "outputs": [],
   "metadata": {}
  },
  {
   "cell_type": "code",
   "execution_count": 3,
   "source": [
    "def printGeneric(root):\r\n",
    "    if root == None:\r\n",
    "        return\r\n",
    "    print(root.data,end=': ')\r\n",
    "    for child in root.children:\r\n",
    "        print(child.data,end=\"  \")\r\n",
    "    print()\r\n",
    "    for child in root.children:\r\n",
    "        printGeneric(child)\r\n",
    "printGeneric(n0)"
   ],
   "outputs": [
    {
     "output_type": "stream",
     "name": "stdout",
     "text": [
      "5: 2  9  8  7  \n",
      "2: \n",
      "9: 15  1  \n",
      "15: \n",
      "1: \n",
      "8: \n",
      "7: \n"
     ]
    }
   ],
   "metadata": {}
  },
  {
   "cell_type": "code",
   "execution_count": 7,
   "source": [
    "def genericInput():\r\n",
    "    rootData = int(input(\"Enter Root Data\"))\r\n",
    "    if rootData == -1:\r\n",
    "        return None\r\n",
    "    root = generic(rootData)\r\n",
    "    childCount = int(input(f\"How Many Child for {root.data}\"))\r\n",
    "    for i in range(childCount):\r\n",
    "        child = genericInput()\r\n",
    "        root.children.append(child)\r\n",
    "    return root\r\n",
    "\r\n",
    "r = genericInput()\r\n",
    "printGeneric(r)"
   ],
   "outputs": [
    {
     "output_type": "stream",
     "name": "stdout",
     "text": [
      "5: 2  9  8  7  \n",
      "2: \n",
      "9: \n",
      "8: 15  1  \n",
      "15: \n",
      "1: \n",
      "7: \n"
     ]
    }
   ],
   "metadata": {}
  },
  {
   "cell_type": "markdown",
   "source": [
    "## Number of Nodes in Generic Tree"
   ],
   "metadata": {}
  },
  {
   "cell_type": "code",
   "execution_count": 8,
   "source": [
    "def numNodes(root):\r\n",
    "    count = 1\r\n",
    "    for child in root.children:\r\n",
    "        count+=numNodes(child)\r\n",
    "    return count\r\n",
    "\r\n",
    "r = genericInput()\r\n",
    "printGeneric(r)\r\n",
    "print(\"Number of nodes : \",numNodes(r))"
   ],
   "outputs": [
    {
     "output_type": "stream",
     "name": "stdout",
     "text": [
      "1: 2  3  4  \n",
      "2: \n",
      "3: \n",
      "4: 5  6  \n",
      "5: \n",
      "6: 7  8  9  \n",
      "7: \n",
      "8: \n",
      "9: \n",
      "Number of nodes :  9\n"
     ]
    }
   ],
   "metadata": {}
  },
  {
   "cell_type": "markdown",
   "source": [
    "## Dictionaries And Hashmaps"
   ],
   "metadata": {}
  },
  {
   "cell_type": "code",
   "execution_count": 13,
   "source": [
    "# Converting List of tuple to dictionary\r\n",
    "l = [('A',1),('B',2),('C',3)]\r\n",
    "d = dict(l)\r\n",
    "d"
   ],
   "outputs": [
    {
     "output_type": "execute_result",
     "data": {
      "text/plain": [
       "{'A': 1, 'B': 2, 'C': 3}"
      ]
     },
     "metadata": {},
     "execution_count": 13
    }
   ],
   "metadata": {}
  },
  {
   "cell_type": "code",
   "execution_count": 15,
   "source": [
    "#creating dictionary from only keys\r\n",
    "d = dict.fromkeys(d.keys())\r\n",
    "d"
   ],
   "outputs": [
    {
     "output_type": "execute_result",
     "data": {
      "text/plain": [
       "{'A': None, 'B': None, 'C': None}"
      ]
     },
     "metadata": {},
     "execution_count": 15
    }
   ],
   "metadata": {}
  },
  {
   "cell_type": "code",
   "execution_count": 16,
   "source": [
    "#creating dictionary from only keys having default value\r\n",
    "d = dict.fromkeys(d.keys(),'default')\r\n",
    "d"
   ],
   "outputs": [
    {
     "output_type": "execute_result",
     "data": {
      "text/plain": [
       "{'A': 'default', 'B': 'default', 'C': 'default'}"
      ]
     },
     "metadata": {},
     "execution_count": 16
    }
   ],
   "metadata": {}
  },
  {
   "cell_type": "code",
   "execution_count": 21,
   "source": [
    "s = 'This is a string also this is a sentence'\r\n",
    "l = s.split()\r\n",
    "d = dict.fromkeys(l,0)\r\n",
    "d"
   ],
   "outputs": [
    {
     "output_type": "execute_result",
     "data": {
      "text/plain": [
       "{'This': 0, 'is': 0, 'a': 0, 'string': 0, 'also': 0, 'this': 0, 'sentence': 0}"
      ]
     },
     "metadata": {},
     "execution_count": 21
    }
   ],
   "metadata": {}
  },
  {
   "cell_type": "code",
   "execution_count": 25,
   "source": [
    "d.clear()\r\n",
    "for w in l:\r\n",
    "    d[w]=d.get(w,0)+1\r\n",
    "d"
   ],
   "outputs": [
    {
     "output_type": "execute_result",
     "data": {
      "text/plain": [
       "{'This': 1, 'is': 2, 'a': 2, 'string': 1, 'also': 1, 'this': 1, 'sentence': 1}"
      ]
     },
     "metadata": {},
     "execution_count": 25
    }
   ],
   "metadata": {}
  },
  {
   "cell_type": "markdown",
   "source": [
    "## Hashmap"
   ],
   "metadata": {}
  },
  {
   "cell_type": "markdown",
   "source": [
    "#### Insert Function"
   ],
   "metadata": {}
  },
  {
   "cell_type": "code",
   "execution_count": 30,
   "source": [
    "class MapNode:\r\n",
    "    def __init__(self,key,value):\r\n",
    "        self.key = key\r\n",
    "        self.value = value\r\n",
    "        self.next = None\r\n",
    "\r\n",
    "class Map:\r\n",
    "    def __init__(self):\r\n",
    "        self.bucketSize = 10\r\n",
    "        self.buckets = [None for i in range(self.bucketSize)]\r\n",
    "        self.count = 0\r\n",
    "\r\n",
    "    def size(self):\r\n",
    "        return self.count\r\n",
    "\r\n",
    "    def getIndex(self,hc):\r\n",
    "        return (abs(hc)%(self.bucketSize))\r\n",
    "    \r\n",
    "    def insert(self,key,value):\r\n",
    "        hc = hash(key)\r\n",
    "        ix = self.getIndex(hc)\r\n",
    "        head = self.buckets[ix]\r\n",
    "        while head is not None:\r\n",
    "            if head.key == key:\r\n",
    "                head.value = value\r\n",
    "                return\r\n",
    "            head = head.next\r\n",
    "        newNode = MapNode(key,value)\r\n",
    "        newNode.next = head\r\n",
    "        self.buckets[ix]=newNode\r\n",
    "        self.count+=1\r\n",
    "\r\n",
    "m = Map()\r\n",
    "m.insert('Rit',7)\r\n",
    "print(m.size())\r\n",
    "m.insert('Ritik',1)\r\n",
    "print(m.size())\r\n",
    "m.insert('Rit',2)\r\n",
    "print(m.size())"
   ],
   "outputs": [
    {
     "output_type": "stream",
     "name": "stdout",
     "text": [
      "1\n",
      "2\n",
      "2\n"
     ]
    }
   ],
   "metadata": {}
  },
  {
   "cell_type": "markdown",
   "source": [
    "#### GetValue & Delete Function"
   ],
   "metadata": {}
  },
  {
   "cell_type": "code",
   "execution_count": 17,
   "source": [
    "class MapNode:\r\n",
    "    def __init__(self,key,value):\r\n",
    "        self.key = key\r\n",
    "        self.value = value\r\n",
    "        self.next = None\r\n",
    "\r\n",
    "class Map:\r\n",
    "    def __init__(self):\r\n",
    "        self.bucketSize = 10\r\n",
    "        self.buckets = [None for i in range(self.bucketSize)]\r\n",
    "        self.count = 0\r\n",
    "\r\n",
    "    def size(self):\r\n",
    "        return self.count\r\n",
    "\r\n",
    "    def getIndex(self,hc):\r\n",
    "        return (abs(hc)%(self.bucketSize))\r\n",
    "    \r\n",
    "    def insert(self,key,value):\r\n",
    "        hc = hash(key)\r\n",
    "        ix = self.getIndex(hc)\r\n",
    "        head = self.buckets[ix]\r\n",
    "        while head is not None:\r\n",
    "            if head.key == key:\r\n",
    "                head.value = value\r\n",
    "                return\r\n",
    "            head = head.next\r\n",
    "        head = self.buckets[ix]\r\n",
    "        newNode = MapNode(key,value)\r\n",
    "        newNode.next = head\r\n",
    "        self.buckets[ix]=newNode\r\n",
    "        self.count+=1\r\n",
    "\r\n",
    "    def getValue(self,key):\r\n",
    "        hc = hash(key)\r\n",
    "        ix = self.getIndex(hc)\r\n",
    "        head = self.buckets[ix]\r\n",
    "        while head is not None:\r\n",
    "            if head.key == key:\r\n",
    "                return head.value\r\n",
    "            head = head.next\r\n",
    "        return head\r\n",
    "\r\n",
    "    def delete(self,key):\r\n",
    "        hc = hash(key)\r\n",
    "        ix = self.getIndex(hc)\r\n",
    "        head = self.buckets[ix]\r\n",
    "        prev = None\r\n",
    "        while head is not None:\r\n",
    "            if head.key == key:\r\n",
    "                if prev is None:\r\n",
    "                    self.buckets[ix]=head.next\r\n",
    "                    self.count-=1\r\n",
    "                    return\r\n",
    "                else:\r\n",
    "                    prev.next = head.next\r\n",
    "                    self.count-=1\r\n",
    "                    return head.value\r\n",
    "            prev = head\r\n",
    "            head = head.next\r\n",
    "        return None\r\n",
    "\r\n",
    "\r\n",
    "m = Map()\r\n",
    "m.insert('Rit',7)\r\n",
    "print(\"Size:\",m.size())\r\n",
    "m.insert('Ritik',1)\r\n",
    "print(\"Size:\",m.size())\r\n",
    "m.insert('Rit',2)\r\n",
    "print(\"Size:\",m.size())\r\n",
    "print(\"Value:\",m.getValue('Ritik'))\r\n",
    "print(\"Value:\",m.getValue('Rit'))\r\n",
    "m.delete('Rit')\r\n",
    "print(\"Size:\",m.size())\r\n",
    "print(\"Value:\",m.getValue('Rit'))"
   ],
   "outputs": [
    {
     "output_type": "stream",
     "name": "stdout",
     "text": [
      "Size: 1\n",
      "Size: 2\n",
      "Size: 2\n",
      "Value: 1\n",
      "Value: 2\n",
      "Size: 1\n",
      "Value: None\n"
     ]
    }
   ],
   "metadata": {}
  },
  {
   "cell_type": "markdown",
   "source": [
    "## Priority Queue\r\n",
    "<br><b>Max Priority Queue</b> - Elements with max priority will be removed first\r\n",
    "<br><b>Functions</b>: Insert, RemoveMax, GetMax\r\n",
    "<br><b>Min Priority Queue</b> - Elements with min priority will be removed first\r\n",
    "<br><b>Functions</b>: Insert, RemoveMin, GetMin"
   ],
   "metadata": {}
  },
  {
   "cell_type": "markdown",
   "source": [
    "Priority Queue Can be implemented easily using Heaps\r\n",
    "<br>\r\n",
    "<ul>\r\n",
    "<li>Heap is a Complete Binary Tree</li>\r\n",
    "<li>It consist of Heap Order Property: Min Heap, Max Heap</li>\r\n",
    "</ul>\r\n",
    "\r\n",
    "<ul>\r\n",
    "<li>Complete Binary Tree Should be completely filled except the last level</li>\r\n",
    "\r\n",
    "<li>Elements should be inserted from Left to Right in each level</li>\r\n",
    "</ul>"
   ],
   "metadata": {}
  },
  {
   "cell_type": "markdown",
   "source": [
    "### Heap Using List"
   ],
   "metadata": {}
  },
  {
   "cell_type": "code",
   "execution_count": 1,
   "source": [
    "class PriorityQNode:\r\n",
    "    def __init__(self,value,priority):\r\n",
    "        self.value = value\r\n",
    "        self.priority = priority\r\n",
    "\r\n",
    "class PriorityQueue:\r\n",
    "    def __init__(self):\r\n",
    "        self.pq = [] \r\n",
    "    \r\n",
    "    def getSize(self):\r\n",
    "        return len(self.pq)\r\n",
    "\r\n",
    "    def isEmpty(self):\r\n",
    "        return self.getSize()==0\r\n",
    "\r\n",
    "    def getMin(self):\r\n",
    "        if self.isEmpty():\r\n",
    "            return None\r\n",
    "        return self.pq[0].value\r\n",
    "\r\n",
    "    def __percolateUp(self):\r\n",
    "        childIndex = self.getSize()-1\r\n",
    "        while childIndex > 0:\r\n",
    "            parentIndex = (childIndex-1)//2\r\n",
    "            if self.pq[childIndex].priority < self.pq[parentIndex].priority:\r\n",
    "                self.pq[childIndex],self.pq[parentIndex] = self.pq[parentIndex],self.pq[childIndex]\r\n",
    "                childIndex = parentIndex\r\n",
    "            else:\r\n",
    "                break\r\n",
    "    \r\n",
    "    def insert(self,value,priority):\r\n",
    "        pqNode = PriorityQNode(value,priority)\r\n",
    "        self.pq.append(pqNode)\r\n",
    "        self.__percolateUp()\r\n",
    "\r\n",
    "    def __percolateDown(self):\r\n",
    "        root = 0\r\n",
    "        lc,rc = 2*root+1,2*root+2\r\n",
    "        while lc < self.getSize():\r\n",
    "            minIx = root\r\n",
    "            if self.pq[lc].priority<self.pq[minIx].priority:\r\n",
    "                minIx = lc\r\n",
    "            if rc<self.getSize() and self.pq[rc].priority<self.pq[minIx].priority:\r\n",
    "                minIx = rc\r\n",
    "            if minIx == root:\r\n",
    "                break\r\n",
    "            self.pq[minIx],self.pq[root] = self.pq[root],self.pq[minIx]\r\n",
    "            root = minIx\r\n",
    "            lc,rc = 2*root+1,2*root+2\r\n",
    "    \r\n",
    "    def removeMin(self):\r\n",
    "        if self.isEmpty():\r\n",
    "            return None\r\n",
    "        lastIndex = self.getSize()-1\r\n",
    "        ans = self.pq[0].value\r\n",
    "        self.pq[0] = self.pq[lastIndex]\r\n",
    "        self.pq.pop()\r\n",
    "        self.__percolateDown()\r\n",
    "        return ans\r\n",
    "        "
   ],
   "outputs": [],
   "metadata": {}
  },
  {
   "cell_type": "code",
   "execution_count": 3,
   "source": [
    "pq = PriorityQueue()\r\n",
    "pq.insert('A',10)\r\n",
    "pq.insert('C',5)\r\n",
    "pq.insert('B',19)\r\n",
    "pq.insert('D',4)\r\n",
    "#All Elements Removed According To Their Min Priority\r\n",
    "for i in range(4):\r\n",
    "    print(pq.removeMin())"
   ],
   "outputs": [
    {
     "output_type": "stream",
     "name": "stdout",
     "text": [
      "D\n",
      "C\n",
      "A\n",
      "B\n"
     ]
    }
   ],
   "metadata": {}
  },
  {
   "cell_type": "markdown",
   "source": [
    "## Heap Sort"
   ],
   "metadata": {}
  },
  {
   "cell_type": "code",
   "execution_count": 3,
   "source": [
    "def down_heapify(arr,i,n):\r\n",
    "    rootIx = i\r\n",
    "    leftIx,rightIx = 2*rootIx+1, 2*rootIx+2\r\n",
    "    while leftIx < n:\r\n",
    "        minIx = rootIx\r\n",
    "        if arr[minIx]>arr[leftIx]:\r\n",
    "            minIx = leftIx\r\n",
    "        if rightIx < n and arr[minIx] > arr[rightIx]:\r\n",
    "            minIx = rightIx\r\n",
    "        if minIx == rootIx:\r\n",
    "            return\r\n",
    "        arr[minIx],arr[rootIx] = arr[rootIx],arr[minIx]\r\n",
    "        rootIx = minIx\r\n",
    "        leftIx,rightIx = 2*rootIx+1, 2*rootIx+2\r\n",
    "    return\r\n",
    "\r\n",
    "def heapSort(arr):\r\n",
    "    n = len(arr)\r\n",
    "    for i in range(n//2-1,-1,-1):\r\n",
    "        down_heapify(arr,i,n)\r\n",
    "\r\n",
    "    for i in range(n-1,0,-1):\r\n",
    "        arr[0],arr[i] = arr[i],arr[0]\r\n",
    "        down_heapify(arr,0,i)\r\n",
    "    return\r\n",
    "\r\n",
    "arr = [int(i) for i in input().split()]\r\n",
    "print(arr)\r\n",
    "heapSort(arr)\r\n",
    "for i in arr[::-1]:\r\n",
    "    print(i,end = \" \")"
   ],
   "outputs": [
    {
     "output_type": "stream",
     "name": "stdout",
     "text": [
      "[10, 5, 11, 2, 3, 7, 12, 1, 6]\n",
      "1 2 3 5 6 7 10 11 12 "
     ]
    }
   ],
   "metadata": {}
  },
  {
   "cell_type": "code",
   "execution_count": null,
   "source": [],
   "outputs": [],
   "metadata": {}
  }
 ],
 "metadata": {
  "interpreter": {
   "hash": "4af90f45c7792a747df031fcfb3e75fbadd5ecde1f96328d33556550aaa66aac"
  },
  "kernelspec": {
   "name": "python3",
   "display_name": "Python 3.8.3 32-bit"
  },
  "language_info": {
   "codemirror_mode": {
    "name": "ipython",
    "version": 3
   },
   "file_extension": ".py",
   "mimetype": "text/x-python",
   "name": "python",
   "nbconvert_exporter": "python",
   "pygments_lexer": "ipython3",
   "version": "3.8.3"
  }
 },
 "nbformat": 4,
 "nbformat_minor": 2
}