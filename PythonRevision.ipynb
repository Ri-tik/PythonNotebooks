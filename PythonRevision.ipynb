{
 "cells": [
  {
   "cell_type": "code",
   "execution_count": 5,
   "source": [
    "s={1,2,3,4,5}\n",
    "s.add(6)\n",
    "s.remove(3)\n",
    "s"
   ],
   "outputs": [
    {
     "output_type": "execute_result",
     "data": {
      "text/plain": [
       "{1, 2, 4, 5, 6}"
      ]
     },
     "metadata": {},
     "execution_count": 5
    }
   ],
   "metadata": {}
  },
  {
   "cell_type": "code",
   "execution_count": 7,
   "source": [
    "fs=frozenset(s)\n",
    "fs"
   ],
   "outputs": [
    {
     "output_type": "execute_result",
     "data": {
      "text/plain": [
       "frozenset({1, 2, 4, 5, 6})"
      ]
     },
     "metadata": {},
     "execution_count": 7
    }
   ],
   "metadata": {}
  },
  {
   "cell_type": "code",
   "execution_count": 8,
   "source": [
    "fs.add(7)"
   ],
   "outputs": [
    {
     "output_type": "error",
     "ename": "AttributeError",
     "evalue": "'frozenset' object has no attribute 'add'",
     "traceback": [
      "\u001b[0;31m---------------------------------------------------------------------------\u001b[0m",
      "\u001b[0;31mAttributeError\u001b[0m                            Traceback (most recent call last)",
      "\u001b[0;32m<ipython-input-8-f01a67cf301e>\u001b[0m in \u001b[0;36m<module>\u001b[0;34m\u001b[0m\n\u001b[0;32m----> 1\u001b[0;31m \u001b[0mfs\u001b[0m\u001b[0;34m.\u001b[0m\u001b[0madd\u001b[0m\u001b[0;34m(\u001b[0m\u001b[0;36m7\u001b[0m\u001b[0;34m)\u001b[0m\u001b[0;34m\u001b[0m\u001b[0;34m\u001b[0m\u001b[0m\n\u001b[0m",
      "\u001b[0;31mAttributeError\u001b[0m: 'frozenset' object has no attribute 'add'"
     ]
    }
   ],
   "metadata": {}
  },
  {
   "cell_type": "code",
   "execution_count": 13,
   "source": [
    "a,b=10,20\n",
    "x= True if a<b else False\n",
    "x"
   ],
   "outputs": [
    {
     "output_type": "execute_result",
     "data": {
      "text/plain": [
       "True"
      ]
     },
     "metadata": {},
     "execution_count": 13
    }
   ],
   "metadata": {}
  },
  {
   "cell_type": "code",
   "execution_count": 17,
   "source": [
    "a,b,c=30,20,10\n",
    "min = a if a<b and a<c else b if b<a and b<c else c\n",
    "min"
   ],
   "outputs": [
    {
     "output_type": "execute_result",
     "data": {
      "text/plain": [
       "10"
      ]
     },
     "metadata": {},
     "execution_count": 17
    }
   ],
   "metadata": {}
  },
  {
   "cell_type": "code",
   "execution_count": 18,
   "source": [
    "a,b=[int(x) for x in input(\"Enter Number\").split()]\n",
    "a,b"
   ],
   "outputs": [
    {
     "output_type": "execute_result",
     "data": {
      "text/plain": [
       "(5, 10)"
      ]
     },
     "metadata": {},
     "execution_count": 18
    }
   ],
   "metadata": {}
  },
  {
   "cell_type": "code",
   "execution_count": 22,
   "source": [
    "x = eval(\"10*5+5\")\n",
    "x\n",
    "type(x)"
   ],
   "outputs": [
    {
     "output_type": "execute_result",
     "data": {
      "text/plain": [
       "int"
      ]
     },
     "metadata": {},
     "execution_count": 22
    }
   ],
   "metadata": {}
  },
  {
   "cell_type": "code",
   "execution_count": 21,
   "source": [
    "print(eval(input(\"Enter Expression To Evaluate\")))"
   ],
   "outputs": [
    {
     "output_type": "stream",
     "name": "stdout",
     "text": [
      "50\n"
     ]
    }
   ],
   "metadata": {}
  },
  {
   "cell_type": "code",
   "execution_count": 26,
   "source": [
    "print(eval(input(\"Enter 2 List\")))"
   ],
   "outputs": [
    {
     "output_type": "stream",
     "name": "stdout",
     "text": [
      "[1, 2, 3, 4]\n"
     ]
    }
   ],
   "metadata": {}
  },
  {
   "cell_type": "code",
   "execution_count": 28,
   "source": [
    "a,b,c=1,2,3\n",
    "print(a,b,c,sep=\"-\")"
   ],
   "outputs": [
    {
     "output_type": "stream",
     "name": "stdout",
     "text": [
      "1-2-3\n"
     ]
    }
   ],
   "metadata": {}
  },
  {
   "cell_type": "code",
   "execution_count": 38,
   "source": [
    "print(\"Ritik\",end=\" \")\n",
    "print(\"Shukla\")"
   ],
   "outputs": [
    {
     "output_type": "stream",
     "name": "stdout",
     "text": [
      "Ritik Shukla\n"
     ]
    }
   ],
   "metadata": {}
  },
  {
   "cell_type": "code",
   "execution_count": 49,
   "source": [
    "print(\"First Way : a is\",a,\",b is\",b,\",c is \",c)\n",
    "print(\"Second Way : a is %d, b is %d and c is %d\"%(a,b,c))\n",
    "print(f\"Third Way : a is {a}, b is {b}, c is {c}\")\n",
    "print(\"Fourth Way : a is {}, b is {}, c is {}\".format(a,b,c))"
   ],
   "outputs": [
    {
     "output_type": "stream",
     "name": "stdout",
     "text": [
      "First Way : a is 1 ,b is 2 ,c is  3\n",
      "Second Way : a is 1, b is 2 and c is 3\n",
      "Third Way : a is 1, b is 2, c is 3\n",
      "Fourth Way : a is 1, b is 2, c is 3\n"
     ]
    }
   ],
   "metadata": {}
  },
  {
   "cell_type": "code",
   "execution_count": 52,
   "source": [
    "s=\"Hello World\"\n",
    "for i,e in enumerate(s):\n",
    "    print(f\"At {i+1} is {e}\")"
   ],
   "outputs": [
    {
     "output_type": "stream",
     "name": "stdout",
     "text": [
      "At 1 is H\n",
      "At 2 is e\n",
      "At 3 is l\n",
      "At 4 is l\n",
      "At 5 is o\n",
      "At 6 is  \n",
      "At 7 is W\n",
      "At 8 is o\n",
      "At 9 is r\n",
      "At 10 is l\n",
      "At 11 is d\n"
     ]
    }
   ],
   "metadata": {}
  },
  {
   "cell_type": "code",
   "execution_count": 80,
   "source": [
    "s=\"Hello World\"\n",
    "for i,e in enumerate(s):\n",
    "    print(f\"At {i} or {i-len(s)} is {e}\")"
   ],
   "outputs": [
    {
     "output_type": "stream",
     "name": "stdout",
     "text": [
      "At 0 or -11 is H\n",
      "At 1 or -10 is e\n",
      "At 2 or -9 is l\n",
      "At 3 or -8 is l\n",
      "At 4 or -7 is o\n",
      "At 5 or -6 is  \n",
      "At 6 or -5 is W\n",
      "At 7 or -4 is o\n",
      "At 8 or -3 is r\n",
      "At 9 or -2 is l\n",
      "At 10 or -1 is d\n"
     ]
    }
   ],
   "metadata": {}
  },
  {
   "cell_type": "code",
   "execution_count": 66,
   "source": [
    "for i in range(1,7):\n",
    "    for j in range(1,i+1):\n",
    "        print(\"*\",end=\" \")\n",
    "    print()"
   ],
   "outputs": [
    {
     "output_type": "stream",
     "name": "stdout",
     "text": [
      "* \n",
      "* * \n",
      "* * * \n",
      "* * * * \n",
      "* * * * * \n",
      "* * * * * * \n"
     ]
    }
   ],
   "metadata": {}
  },
  {
   "cell_type": "code",
   "execution_count": 71,
   "source": [
    "for i in range(1,7):\n",
    "    print(\"* \"*i,end=\" \")\n",
    "    print(\"\")"
   ],
   "outputs": [
    {
     "output_type": "stream",
     "name": "stdout",
     "text": [
      "*  \n",
      "* *  \n",
      "* * *  \n",
      "* * * *  \n",
      "* * * * *  \n",
      "* * * * * *  \n"
     ]
    }
   ],
   "metadata": {}
  },
  {
   "cell_type": "code",
   "execution_count": 79,
   "source": [
    "n=7\n",
    "for i in range(1,n):\n",
    "    print(\" \"*(n-i),\"* \"*i)\n",
    "    print()"
   ],
   "outputs": [
    {
     "output_type": "stream",
     "name": "stdout",
     "text": [
      "       * \n",
      "\n",
      "      * * \n",
      "\n",
      "     * * * \n",
      "\n",
      "    * * * * \n",
      "\n",
      "   * * * * * \n",
      "\n",
      "  * * * * * * \n",
      "\n"
     ]
    }
   ],
   "metadata": {}
  },
  {
   "cell_type": "code",
   "execution_count": 3,
   "source": [
    "s1=\"   Hello   \"\n",
    "s2=\"***Hello***\"\n",
    "print(s1.strip())\n",
    "print(s1.lstrip())\n",
    "print(s1.rstrip())\n",
    "print(s2.strip(\"*\"))\n",
    "print(s2.lstrip(\"*\"))\n",
    "print(s2.rstrip(\"*\"))"
   ],
   "outputs": [
    {
     "output_type": "stream",
     "name": "stdout",
     "text": [
      "Hello\n",
      "Hello   \n",
      "   Hello\n",
      "Hello\n",
      "Hello***\n",
      "***Hello\n"
     ]
    }
   ],
   "metadata": {}
  },
  {
   "cell_type": "code",
   "execution_count": 15,
   "source": [
    "#for forward direction\n",
    "s=\"I love you and I love Python\"\n",
    "print(\"Forward Direction:\",s.find(\"love\"))\n",
    "print(\"Backward Direction:\",s.rfind(\"love\"))\n",
    "print(\"Forward Direction:\",s.index(\"love\"))\n",
    "print(\"Backward Direction:\",s.rindex(\"love\"))\n",
    "print(\"\\nDifference\")\n",
    "print(\"Find Returns -1 if not found:\",s.find(\"Hola\"))\n",
    "print(\"Index Returns Error if not found:\")\n",
    "#print(s.index(\"Hola\"))"
   ],
   "outputs": [
    {
     "output_type": "stream",
     "name": "stdout",
     "text": [
      "Forward Direction: 2\n",
      "Backward Direction: 17\n",
      "Forward Direction: 2\n",
      "Backward Direction: 17\n",
      "\n",
      "Difference\n",
      "Find Returns -1 if not found: -1\n",
      "Index Returns Error if not found:\n"
     ]
    }
   ],
   "metadata": {}
  },
  {
   "cell_type": "code",
   "execution_count": 26,
   "source": [
    "s=\"abracadabra\"\n",
    "s.count(\"a\",3,7)#from index 3 to 7"
   ],
   "outputs": [
    {
     "output_type": "execute_result",
     "data": {
      "text/plain": [
       "2"
      ]
     },
     "metadata": {},
     "execution_count": 26
    }
   ],
   "metadata": {}
  },
  {
   "cell_type": "code",
   "execution_count": 25,
   "source": [
    "s=\"ha elloh ha ha ha haha\"\n",
    "sub=\"ha\"\n",
    "n=len(sub)\n",
    "for i,it in enumerate(s):\n",
    "    if s[i:i+n]==sub:\n",
    "        print(f\"At index {i}\")"
   ],
   "outputs": [
    {
     "output_type": "stream",
     "name": "stdout",
     "text": [
      "At index 0\n",
      "At index 9\n",
      "At index 12\n",
      "At index 15\n",
      "At index 18\n",
      "At index 20\n"
     ]
    }
   ],
   "metadata": {}
  },
  {
   "cell_type": "code",
   "execution_count": 34,
   "source": [
    "s=\"Python is hard, like really hard\"\n",
    "s1=s.replace(\"hard\",\"easy\")\n",
    "print(s,\"\\n\",s1)\n",
    "#As string is immutable, it will not affect the original string"
   ],
   "outputs": [
    {
     "output_type": "stream",
     "name": "stdout",
     "text": [
      "Python is hard, like really hard \n",
      " Python is easy, like really easy\n"
     ]
    }
   ],
   "metadata": {}
  },
  {
   "cell_type": "code",
   "execution_count": 38,
   "source": [
    "s=\"Naruto Itachi Hinata Kakashi\"\n",
    "splited_1ist=s.split(\" \")\n",
    "print(splited_1ist)\n",
    "Joining_List=\"-\".join(splited_1ist)\n",
    "print(Joining_List)"
   ],
   "outputs": [
    {
     "output_type": "stream",
     "name": "stdout",
     "text": [
      "['Naruto', 'Itachi', 'Hinata', 'Kakashi']\n",
      "Naruto-Itachi-Hinata-Kakashi\n"
     ]
    }
   ],
   "metadata": {}
  },
  {
   "cell_type": "code",
   "execution_count": 40,
   "source": [
    "s=\"heLLoo World wassup\"\n",
    "print(s.swapcase()) #Upper to lower and lower to upper\n",
    "print(s.title()) #only first letter of each word\n",
    "print(s.capitalize()) #only first letter of a sentence"
   ],
   "outputs": [
    {
     "output_type": "stream",
     "name": "stdout",
     "text": [
      "HEllOO wORLD WASSUP\n",
      "Helloo World Wassup\n",
      "Helloo world wassup\n"
     ]
    }
   ],
   "metadata": {}
  },
  {
   "cell_type": "code",
   "execution_count": 47,
   "source": [
    "s=\"heLLoo World wassup\"\n",
    "print(s.startswith('hell'))\n",
    "print(s.startswith('heLL'))\n",
    "print(s.startswith('heLLoo'))"
   ],
   "outputs": [
    {
     "output_type": "stream",
     "name": "stdout",
     "text": [
      "False\n",
      "True\n",
      "True\n"
     ]
    }
   ],
   "metadata": {}
  },
  {
   "cell_type": "code",
   "execution_count": 48,
   "source": [
    "print(s.endswith('Sup'))\n",
    "print(s.endswith('sup'))\n",
    "print(s.endswith('wassup'))"
   ],
   "outputs": [
    {
     "output_type": "stream",
     "name": "stdout",
     "text": [
      "False\n",
      "True\n",
      "True\n"
     ]
    }
   ],
   "metadata": {}
  },
  {
   "cell_type": "code",
   "execution_count": 51,
   "source": [
    "s1=\"    H    \"\n",
    "s2=\"    \"\n",
    "print(s1.isspace())\n",
    "print(s2.isspace()) #Used to check if the string contains only space"
   ],
   "outputs": [
    {
     "output_type": "stream",
     "name": "stdout",
     "text": [
      "False\n",
      "True\n"
     ]
    }
   ],
   "metadata": {}
  },
  {
   "cell_type": "code",
   "execution_count": 62,
   "source": [
    "s=\"Hello World How Are You\"\n",
    "print(\" \".join(s.split()[::-1]))"
   ],
   "outputs": [
    {
     "output_type": "stream",
     "name": "stdout",
     "text": [
      "You Are How World Hello\n"
     ]
    }
   ],
   "metadata": {}
  },
  {
   "cell_type": "code",
   "execution_count": 63,
   "source": [
    "s=\"Hello World How Are You\"\n",
    "for it in s.split():\n",
    "    print(it[::-1],end=\" \")"
   ],
   "outputs": [
    {
     "output_type": "stream",
     "name": "stdout",
     "text": [
      "olleH dlroW woH erA uoY "
     ]
    }
   ],
   "metadata": {}
  },
  {
   "cell_type": "code",
   "execution_count": 78,
   "source": [
    "a=\"Super\"\n",
    "b=\"Man\"\n",
    "print(zip(a,b)) #creates zipped object in form of tuple\n",
    "print(*zip(a,b)) # * is used to unpack elements \n",
    "print(*a,*b)"
   ],
   "outputs": [
    {
     "output_type": "stream",
     "name": "stdout",
     "text": [
      "<zip object at 0x7f860c065940>\n",
      "('S', 'M') ('u', 'a') ('p', 'n')\n",
      "S u p e r M a n\n"
     ]
    }
   ],
   "metadata": {}
  },
  {
   "cell_type": "code",
   "execution_count": 79,
   "source": [
    "s1=\"Hello\"\n",
    "s2=\"World\"\n",
    "for it in zip(s1,s2):\n",
    "    print(it[0]+it[1],end=\"\")"
   ],
   "outputs": [
    {
     "output_type": "stream",
     "name": "stdout",
     "text": [
      "HWeolrllod"
     ]
    }
   ],
   "metadata": {}
  },
  {
   "cell_type": "code",
   "execution_count": 87,
   "source": [
    "n=\"B4A1D3\"\n",
    "tn=td=\"\"\n",
    "for it in n:\n",
    "    if it.isalpha():\n",
    "        tn+=it\n",
    "    else:\n",
    "        td+=it\n",
    "print(\"\".join(sorted(tn)+sorted(td)))"
   ],
   "outputs": [
    {
     "output_type": "stream",
     "name": "stdout",
     "text": [
      "ABD134\n"
     ]
    }
   ],
   "metadata": {}
  },
  {
   "cell_type": "code",
   "execution_count": 89,
   "source": [
    "x=\"a4b3c2\"\n",
    "for i in range(0,len(x),2):\n",
    "    print(x[i]*int(x[i+1]),end=\"\")"
   ],
   "outputs": [
    {
     "output_type": "stream",
     "name": "stdout",
     "text": [
      "aaaabbbcc"
     ]
    }
   ],
   "metadata": {}
  },
  {
   "cell_type": "code",
   "execution_count": 101,
   "source": [
    "print(chr(97))\n",
    "print(ord(\"a\"))"
   ],
   "outputs": [
    {
     "output_type": "stream",
     "name": "stdout",
     "text": [
      "a\n",
      "97\n"
     ]
    }
   ],
   "metadata": {}
  },
  {
   "cell_type": "code",
   "execution_count": 104,
   "source": [
    "# input=\"a4k3b2\"\n",
    "# output=\"aeknbd\"\n",
    "x=\"a4k3b2\"\n",
    "for it in range(0,len(x)):\n",
    "    if x[it].isalpha():\n",
    "        print(x[it],end=\"\")\n",
    "    else:\n",
    "        print(chr(ord(x[it-1])+int(x[it])),end=\"\")"
   ],
   "outputs": [
    {
     "output_type": "stream",
     "name": "stdout",
     "text": [
      "aeknbd"
     ]
    }
   ],
   "metadata": {}
  },
  {
   "cell_type": "code",
   "execution_count": 105,
   "source": [
    "x=\"ABCDABBCDABBBCCCDDEEEF\"\n",
    "l=[]\n",
    "for i in x:\n",
    "    if i not in l:\n",
    "        l.append(i)\n",
    "print(\"\".join(l))"
   ],
   "outputs": [
    {
     "output_type": "stream",
     "name": "stdout",
     "text": [
      "ABCDEF\n"
     ]
    }
   ],
   "metadata": {}
  },
  {
   "cell_type": "code",
   "execution_count": 17,
   "source": [
    "print(\"Number is {:d}\".format(125))\n",
    "print(\"Number is {}\".format(12.1234))\n",
    "print(\"Number is {:f}\".format(12.1234))#6 precision\n",
    "print(\"Number is {:08.3f}\".format(12.12345)) #total 8 position should be there\n",
    "print(\"Number is {:08.3f}\".format(12.12)) # and if not add 0 instead"
   ],
   "outputs": [
    {
     "output_type": "stream",
     "name": "stdout",
     "text": [
      "Number is 125\n",
      "Number is 12.1234\n",
      "Number is 12.123400\n",
      "Number is 0012.123\n",
      "Number is 0012.120\n"
     ]
    }
   ],
   "metadata": {}
  },
  {
   "cell_type": "code",
   "execution_count": 15,
   "source": [
    "print(\"Decimal to binary - {0:b}, to octal - {0:o}, to hexadecimal - {0:x}\".format(123,123,123))"
   ],
   "outputs": [
    {
     "output_type": "stream",
     "name": "stdout",
     "text": [
      "Decimal to binary - 1111011, to octal - 173, to hexadecimal - 7b\n"
     ]
    }
   ],
   "metadata": {}
  },
  {
   "cell_type": "code",
   "execution_count": 21,
   "source": [
    "print(\"Number with positive sign : {:+d}, \\n+ sign in front of negative will not effect like this number : {:+d}\".format(55,-55))"
   ],
   "outputs": [
    {
     "output_type": "stream",
     "name": "stdout",
     "text": [
      "Number with positive sign : +55, \n",
      "+ sign in front of negative will not effect like this number : -55\n"
     ]
    }
   ],
   "metadata": {}
  },
  {
   "cell_type": "code",
   "execution_count": 28,
   "source": [
    "person={'age':20,'name':\"Ritik\"}\n",
    "print(\"Info : {},{}\".format(person['name'],person['age']))\n",
    "print(\"Info : {p[name]},{p[age]}\".format(p=person))\n",
    "print(\"Info : {name},{age}\".format(**person))"
   ],
   "outputs": [
    {
     "output_type": "stream",
     "name": "stdout",
     "text": [
      "Info : Ritik,20\n",
      "Info : Ritik,20\n",
      "Info : Ritik,20\n"
     ]
    }
   ],
   "metadata": {}
  },
  {
   "cell_type": "code",
   "execution_count": 29,
   "source": [
    "class person:\n",
    "    age=50\n",
    "    name=\"Lolo\"\n",
    "\n",
    "print(\"Info of class : {p.age}, {p.name}\".format(p=person()))"
   ],
   "outputs": [
    {
     "output_type": "stream",
     "name": "stdout",
     "text": [
      "Info of class : 50, Lolo\n"
     ]
    }
   ],
   "metadata": {}
  },
  {
   "cell_type": "code",
   "execution_count": 30,
   "source": [
    "string=\"{:{fill}{align}{width}}\"\n",
    "print(string.format('cat',fill='*',align='^',width=5))\n",
    "print(string.format('cat',fill='*',align='^',width=6))\n",
    "print(string.format('cat',fill='*',align='<',width=6))\n",
    "print(string.format('cat',fill='*',align='>',width=6))"
   ],
   "outputs": [
    {
     "output_type": "stream",
     "name": "stdout",
     "text": [
      "*cat*\n",
      "*cat**\n",
      "cat***\n",
      "***cat\n"
     ]
    }
   ],
   "metadata": {}
  },
  {
   "cell_type": "code",
   "execution_count": 32,
   "source": [
    "num=\"{:{align}{width}.{prec}f}\"\n",
    "print(num.format(12.2345,align='<',width=5,prec=1))"
   ],
   "outputs": [
    {
     "output_type": "stream",
     "name": "stdout",
     "text": [
      "12.2 \n"
     ]
    }
   ],
   "metadata": {}
  },
  {
   "cell_type": "code",
   "execution_count": 34,
   "source": [
    "import datetime as dt\n",
    "date=dt.datetime.now()\n",
    "print(\"It's Now : {:%d/%m/%Y %H:%M:%S}\".format(date))"
   ],
   "outputs": [
    {
     "output_type": "stream",
     "name": "stdout",
     "text": [
      "It's Now : 28/12/2020 20:15:08\n"
     ]
    }
   ],
   "metadata": {}
  },
  {
   "cell_type": "code",
   "execution_count": 36,
   "source": [
    "cN =1+2j\n",
    "print(\"Real Part: {0.real} and Imaginary: {0.imag}\".format(cN))"
   ],
   "outputs": [
    {
     "output_type": "stream",
     "name": "stdout",
     "text": [
      "Real Part: 1.0 and Imaginary: 2.0\n"
     ]
    }
   ],
   "metadata": {}
  },
  {
   "cell_type": "code",
   "execution_count": 50,
   "source": [
    "l=input() #--->[1,2,3] will be treated as string\n",
    "print(type(l))\n",
    "l1=eval(input()) #--->[1,2,3] will be treated as list as eval used to evaluate the input, since there is no calculation expression and just a list input, it will take the input as a list instead of string.\n",
    "print(type(l1))"
   ],
   "outputs": [
    {
     "output_type": "stream",
     "name": "stdout",
     "text": [
      "<class 'str'>\n",
      "<class 'list'>\n"
     ]
    }
   ],
   "metadata": {}
  },
  {
   "cell_type": "code",
   "execution_count": 2,
   "source": [
    "l2=list(range(0,10,2))\n",
    "print(l2)\n",
    "l3=list(\"HELLO\")\n",
    "print(l3)"
   ],
   "outputs": [
    {
     "output_type": "stream",
     "name": "stdout",
     "text": [
      "[0, 2, 4, 6, 8]\n",
      "['H', 'E', 'L', 'L', 'O']\n"
     ]
    }
   ],
   "metadata": {}
  },
  {
   "cell_type": "code",
   "execution_count": 6,
   "source": [
    "n=[0,1,2,3,4,5,6,7,8,9]\n",
    "print(n[5::]) # 5 to end\n",
    "print(n[:5]) # start upto 5-1\n",
    "print(n[::2]) # start to end with step 2\n",
    "print(n[::]) # Whole\n",
    "print(n[::-1]) # reversed (start to end with -1 step)\n",
    "print(n[2:8:2]) # 2 to end with step 2\n",
    "print(n[8:2:-1]) # reversed with step 1 i.e start with 8 and end to 2 with step 1\n",
    "print(n[2::2]) # 2 to end with step 2\n",
    "print(n[8::-2]) # start at 8 and end with 0 with step 2"
   ],
   "outputs": [
    {
     "output_type": "stream",
     "name": "stdout",
     "text": [
      "[5, 6, 7, 8, 9]\n",
      "[0, 1, 2, 3, 4]\n",
      "[0, 2, 4, 6, 8]\n",
      "[0, 1, 2, 3, 4, 5, 6, 7, 8, 9]\n",
      "[9, 8, 7, 6, 5, 4, 3, 2, 1, 0]\n",
      "[2, 4, 6]\n",
      "[8, 7, 6, 5, 4, 3]\n",
      "[2, 4, 6, 8]\n",
      "[8, 6, 4, 2, 0]\n"
     ]
    }
   ],
   "metadata": {}
  },
  {
   "cell_type": "code",
   "execution_count": 21,
   "source": [
    "l=[10,20,30,40]\n",
    "print(l)\n",
    "print(\"Length:\",len(l))\n",
    "print(\"10 counts:\",l.count(10))\n",
    "print(\"Index of element 20:\",l.index(20))"
   ],
   "outputs": [
    {
     "output_type": "stream",
     "name": "stdout",
     "text": [
      "[10, 20, 30, 40]\n",
      "Length: 4\n",
      "10 counts: 1\n",
      "Index of element 20: 1\n"
     ]
    }
   ],
   "metadata": {}
  },
  {
   "cell_type": "code",
   "execution_count": 22,
   "source": [
    "print(\"50 appended\")\n",
    "l.append(50)\n",
    "print(l)\n",
    "print(\"15 inserted at index 1\")\n",
    "l.insert(1,15)\n",
    "print(l)\n",
    "print(\"List Extended by adding [55,60,65]\")\n",
    "l.extend([55,60,65])\n",
    "print(l)"
   ],
   "outputs": [
    {
     "output_type": "stream",
     "name": "stdout",
     "text": [
      "50 appended\n",
      "[10, 20, 30, 40, 50]\n",
      "15 inserted at index 1\n",
      "[10, 15, 20, 30, 40, 50]\n",
      "List Extended by adding [55,60,65]\n",
      "[10, 15, 20, 30, 40, 50, 55, 60, 65]\n"
     ]
    }
   ],
   "metadata": {}
  },
  {
   "cell_type": "code",
   "execution_count": 23,
   "source": [
    "print(\"Element 15 removed\")\n",
    "l.remove(15)\n",
    "print(l)\n",
    "print(\"\\nLast element popped\")\n",
    "print(\"Popped item\",l.pop())\n",
    "print(l)\n",
    "print(\"\\nElement at index 4 popped\")\n",
    "print(\"Popped Item\",l.pop(4))\n",
    "print(l)"
   ],
   "outputs": [
    {
     "output_type": "stream",
     "name": "stdout",
     "text": [
      "Element 15 removed\n",
      "[10, 20, 30, 40, 50, 55, 60, 65]\n",
      "\n",
      "Last element popped\n",
      "Popped item 65\n",
      "[10, 20, 30, 40, 50, 55, 60]\n",
      "\n",
      "Element at index 4 popped\n",
      "Popped Item 50\n",
      "[10, 20, 30, 40, 55, 60]\n"
     ]
    }
   ],
   "metadata": {}
  },
  {
   "cell_type": "code",
   "execution_count": 25,
   "source": [
    "l.reverse()\n",
    "print(\"List reversed\\n\",l)\n",
    "l.sort()\n",
    "print(\"List Sorted\\n\",l)\n",
    "l.sort(reverse=True)\n",
    "print(\"List Sorted in Reverse Order\\n\",l)"
   ],
   "outputs": [
    {
     "output_type": "stream",
     "name": "stdout",
     "text": [
      "List reversed\n",
      " [60, 55, 40, 30, 20, 10]\n",
      "List Sorted\n",
      " [10, 20, 30, 40, 55, 60]\n",
      "List Sorted in Reverse Order\n",
      " [60, 55, 40, 30, 20, 10]\n"
     ]
    }
   ],
   "metadata": {}
  },
  {
   "cell_type": "code",
   "execution_count": 29,
   "source": [
    "x=[1,2,3]\n",
    "y=x\n",
    "print(\"X =\",x,\"& Y =\",y)\n",
    "y[0]=10\n",
    "print(f\"Changed Y List value of index 1 to 10 \\nY = {y}\\nX = {x}\")\n",
    "print(\"But Both x and y changed this is called as aliasing\")"
   ],
   "outputs": [
    {
     "output_type": "stream",
     "name": "stdout",
     "text": [
      "X = [1, 2, 3] & Y = [1, 2, 3]\n",
      "Changed Y List value of index 1 to 10 \n",
      "Y = [10, 2, 3]\n",
      "X = [10, 2, 3]\n",
      "But Both x and y changed this is called as aliasing\n"
     ]
    }
   ],
   "metadata": {}
  },
  {
   "cell_type": "code",
   "execution_count": 34,
   "source": [
    "print(\"In order to use the same content values without changes, we can use slice[::] or copy()\")\n",
    "x=[1,2,3]\n",
    "y=x[::]\n",
    "print(\"X =\",x,\"\\nY =\",y)\n",
    "y[0]=10\n",
    "print(f\"Changed Y List value of index 0 to 10 \\nY = {y}\\nX = {x}\")\n",
    "print(\"\\nBy using copy() Method\")\n",
    "y=x.copy()\n",
    "y[1]=20\n",
    "print(f\"Changed Y List value of index 1 to 20 \\nY = {y}\\nX = {x}\")\n",
    "print(\"Now this approach is called as cloning\")"
   ],
   "outputs": [
    {
     "output_type": "stream",
     "name": "stdout",
     "text": [
      "In order to use the same content values without changes, we can use slice[::] or copy()\n",
      "X = [1, 2, 3] \n",
      "Y = [1, 2, 3]\n",
      "Changed Y List value of index 0 to 10 \n",
      "Y = [10, 2, 3]\n",
      "X = [1, 2, 3]\n",
      "\n",
      "By using copy() Method\n",
      "Changed Y List value of index 1 to 20 \n",
      "Y = [1, 20, 3]\n",
      "X = [1, 2, 3]\n",
      "Now this approach is called as cloning\n"
     ]
    }
   ],
   "metadata": {}
  },
  {
   "cell_type": "code",
   "execution_count": 73,
   "source": [
    "a=[1,3,5,7]\n",
    "b=[2,4,6,8]\n",
    "print(\"a =\",a,\"\\nb =\",b)\n",
    "print(\"Combining both list using + operator\")\n",
    "a=a+b\n",
    "print(a)\n",
    "print(\"Similarly you can do using extend\")\n",
    "a.extend(b)\n",
    "print(a)\n",
    "print(\"List * 2\\n\",b*2)"
   ],
   "outputs": [
    {
     "output_type": "stream",
     "name": "stdout",
     "text": [
      "a = [1, 3, 5, 7] \n",
      "b = [2, 4, 6, 8]\n",
      "Combining both list using + operator\n",
      "[1, 3, 5, 7, 2, 4, 6, 8]\n",
      "Similarly you can do using extend\n",
      "[1, 3, 5, 7, 2, 4, 6, 8, 2, 4, 6, 8]\n",
      "List * 2\n",
      " [2, 4, 6, 8, 2, 4, 6, 8]\n"
     ]
    }
   ],
   "metadata": {}
  },
  {
   "cell_type": "code",
   "execution_count": 54,
   "source": [
    "print(\"a =\",a)\n",
    "a.clear()\n",
    "print(\"After clearing a =\",a)"
   ],
   "outputs": [
    {
     "output_type": "stream",
     "name": "stdout",
     "text": [
      "a = [1, 3, 5, 7, 2, 4, 6, 8]\n",
      "After clearing a = []\n"
     ]
    }
   ],
   "metadata": {}
  },
  {
   "cell_type": "code",
   "execution_count": 56,
   "source": [
    "n=[[10,20,30],[40,50,60],[70,80,90]]\n",
    "for i in range(len(n)):\n",
    "    for j in range(len(n)):\n",
    "        print(n[i][j],end=\"\\t\")\n",
    "    print(\"\")"
   ],
   "outputs": [
    {
     "output_type": "stream",
     "name": "stdout",
     "text": [
      "10\t20\t30\t\n",
      "40\t50\t60\t\n",
      "70\t80\t90\t\n"
     ]
    }
   ],
   "metadata": {}
  },
  {
   "cell_type": "code",
   "execution_count": 63,
   "source": [
    "a=[1,3,5,6,2,8]\n",
    "b=[1,2,4,6,3,9]\n",
    "c=[x for x in a if x not in b]\n",
    "print(\"Present in a but not in b :\",c)\n",
    "d=[n for n in a if n in b]\n",
    "print(\"Present in both :\",d)"
   ],
   "outputs": [
    {
     "output_type": "stream",
     "name": "stdout",
     "text": [
      "Present in a but not in b : [5, 8]\n",
      "Present in both : [1, 3, 6, 2]\n"
     ]
    }
   ],
   "metadata": {}
  },
  {
   "cell_type": "code",
   "execution_count": 67,
   "source": [
    "t1=10,20,30\n",
    "print(t1,\"Type:\",type(t1))\n",
    "t2=(10) # It will be considered as integer\n",
    "print(t2,\"Type:\",type(t2))\n",
    "t3=(10,) # Put , in last to make it into tuple\n",
    "print(t3,\"Type:\",type(t3))"
   ],
   "outputs": [
    {
     "output_type": "stream",
     "name": "stdout",
     "text": [
      "(10, 20, 30) Type: <class 'tuple'>\n",
      "10 Type: <class 'int'>\n",
      "(10,) Type: <class 'tuple'>\n"
     ]
    }
   ],
   "metadata": {}
  },
  {
   "cell_type": "code",
   "execution_count": 75,
   "source": [
    "# we cannot change contents of a tuple but we can use it to create another tuple by using + or * operator \n",
    "t1=(1,2,3)\n",
    "t2=(4,5,6)\n",
    "t3=t1+t2\n",
    "print(t3)\n",
    "t4=t1*2\n",
    "print(t4)"
   ],
   "outputs": [
    {
     "output_type": "stream",
     "name": "stdout",
     "text": [
      "(1, 2, 3, 4, 5, 6)\n",
      "(1, 2, 3, 1, 2, 3)\n"
     ]
    }
   ],
   "metadata": {}
  },
  {
   "cell_type": "code",
   "execution_count": 76,
   "source": [
    "print(\"Tuple Functions are same as of lists except the ones which can modify the contents like append,remove,pop,extend, etc\")\n",
    "print(\"Except these the other functions can be used in tuple like:\\nlen(), count(), index()\")"
   ],
   "outputs": [
    {
     "output_type": "stream",
     "name": "stdout",
     "text": [
      "Tuple Functions are same as of lists except the ones which can modify the contents like append,remove,pop,extend, etc\n",
      "Except these the other functions can be used in tuple like:\n",
      "len(), count(), index()\n"
     ]
    }
   ],
   "metadata": {}
  },
  {
   "cell_type": "code",
   "execution_count": 90,
   "source": [
    "t1=(20,30,10,50,40)\n",
    "print(\"Since tuples are immutable and we cannot apply sort function \\nbut we can sort and store it into another variable by using sorted() function....\\nbut it will return list type content\")\n",
    "t2=sorted(t1)\n",
    "print(\"\\nOriginal Tuple T1:\",t1)\n",
    "print(\"Sorted Tuple T2:\",t2)\n",
    "print(\"Type:\",type(t2))\n",
    "#Instead we can do this:\n",
    "t3=tuple(sorted(t1))\n",
    "print(t3)\n",
    "print(type(t3))"
   ],
   "outputs": [
    {
     "output_type": "stream",
     "name": "stdout",
     "text": [
      "Since tuples are immutable and we cannot apply sort function \n",
      "but we can sort and store it into another variable by using sorted() function....\n",
      "but it will return list type content\n",
      "\n",
      "Original Tuple T1: (20, 30, 10, 50, 40)\n",
      "Sorted Tuple T2: [10, 20, 30, 40, 50]\n",
      "Type: <class 'list'>\n",
      "(10, 20, 30, 40, 50)\n",
      "<class 'tuple'>\n"
     ]
    }
   ],
   "metadata": {}
  },
  {
   "cell_type": "code",
   "execution_count": 100,
   "source": [
    "a,b,c,d = 1,2,3,4\n",
    "print(f\"a-{a},b-{b},c-{c},d-{d}\")\n",
    "print(\"Tuple Packing\")\n",
    "t=a,b,c,d # or t=(a,b,c,d)\n",
    "print(\"t =\",t)\n",
    "print(\"Tuple Unpacking\")\n",
    "w,x,y,z = t\n",
    "print(f\"w-{w},x-{x},y-{y},z-{z}\")"
   ],
   "outputs": [
    {
     "output_type": "stream",
     "name": "stdout",
     "text": [
      "a-1,b-2,c-3,d-4\n",
      "Tuple Packing\n",
      "t = (1, 2, 3, 4)\n",
      "Tuple Unpacking\n",
      "w-1,x-2,y-3,z-4\n"
     ]
    }
   ],
   "metadata": {}
  },
  {
   "cell_type": "code",
   "execution_count": 102,
   "source": [
    "# Tuple comprehension is simiar to as of list\n",
    "t = (x for x in range(0,10,2))\n",
    "# But as in list we were able to produce output but we cannot in tuple as it's not supported but python3 creates the generator object instead...\n",
    "print(t)\n",
    "for i in t:\n",
    "    print(i)"
   ],
   "outputs": [
    {
     "output_type": "stream",
     "name": "stdout",
     "text": [
      "<generator object <genexpr> at 0x7f26974edf90>\n",
      "0\n",
      "2\n",
      "4\n",
      "6\n",
      "8\n"
     ]
    }
   ],
   "metadata": {}
  },
  {
   "cell_type": "code",
   "execution_count": 204,
   "source": [
    "print(\"Set is also similar to List but it doesn't allow duplicate elements and doesn't support indexing and slicing since it's unordered.\\nWe can use other functions such as pop, remove,etc \\nBut Set is also having its own unique functions which is not similar to list\\nIt includes add() instead of append(), update() instead of extend() etc....\")"
   ],
   "outputs": [
    {
     "output_type": "stream",
     "name": "stdout",
     "text": [
      "Set is also similar to List but it doesn't allow duplicate elements and doesn't support indexing and slicing since it's unordered.\n",
      "We can use other functions such as pop, remove,etc \n",
      "But Set is also having its own unique functions which is not similar to list\n",
      "It includes add() instead of append(), update() instead of extend() etc....\n"
     ]
    }
   ],
   "metadata": {}
  },
  {
   "cell_type": "code",
   "execution_count": 125,
   "source": [
    "s={}\n",
    "print(s,type(s)) #Treated as a dictionary\n",
    "print(\"\\nTo create empty set:\")\n",
    "print(\"We must use set()\\n\")\n",
    "s=set()\n",
    "print(s,type(s))"
   ],
   "outputs": [
    {
     "output_type": "stream",
     "name": "stdout",
     "text": [
      "{} <class 'dict'>\n",
      "\n",
      "To create empty set:\n",
      "We must use set()\n",
      "\n",
      "set() <class 'set'>\n"
     ]
    }
   ],
   "metadata": {}
  },
  {
   "cell_type": "code",
   "execution_count": 129,
   "source": [
    "s={1,2,3}\n",
    "print(\"4 added\")\n",
    "s.add(4)\n",
    "print(s)"
   ],
   "outputs": [
    {
     "output_type": "stream",
     "name": "stdout",
     "text": [
      "4 added\n",
      "{1, 2, 3, 4}\n"
     ]
    }
   ],
   "metadata": {}
  },
  {
   "cell_type": "code",
   "execution_count": 130,
   "source": [
    "#update function is used for \n",
    "print(\"To add multiple items, use update(x,y,z)\")\n",
    "l=[5,6,7]\n",
    "print(l)\n",
    "print(\"This list will be added to set\")\n",
    "s.update(l)\n",
    "print(s)"
   ],
   "outputs": [
    {
     "output_type": "stream",
     "name": "stdout",
     "text": [
      "To add multiple items, use update(x,y,z)\n",
      "[5, 6, 7]\n",
      "This list will be added to set\n",
      "{1, 2, 3, 4, 5, 6, 7}\n"
     ]
    }
   ],
   "metadata": {}
  },
  {
   "cell_type": "code",
   "execution_count": 132,
   "source": [
    "print(\"We can add multiple set of items like this\")\n",
    "s={10,20,30}\n",
    "print(\"Set :\",s)\n",
    "l=[40,50,60]\n",
    "print(\"This List will be added:\",l)\n",
    "print(\"And Numbers from 0 to 3 range(0,4) will also be added to set\")\n",
    "print(\"\\ns.update(l,range(4))\")\n",
    "s.update(l,range(4))\n",
    "print(s)"
   ],
   "outputs": [
    {
     "output_type": "stream",
     "name": "stdout",
     "text": [
      "We can add multiple set of items like this\n",
      "Set : {10, 20, 30}\n",
      "This List will be added: [40, 50, 60]\n",
      "And Numbers from 0 to 3 range(0,4) will also be added to set\n",
      "\n",
      "s.update(l,range(4))\n",
      "{0, 1, 2, 3, 40, 10, 50, 20, 60, 30}\n"
     ]
    }
   ],
   "metadata": {}
  },
  {
   "cell_type": "code",
   "execution_count": 145,
   "source": [
    "s={10,20,30,40,50,60}\n",
    "print(s)\n",
    "print(\"Pop some random element\")\n",
    "print(\"Element Popped\",s.pop())\n",
    "print(s)\n",
    "print(\"\\nRemove 60 by remove() method\")\n",
    "s.remove(60)\n",
    "print(s)\n",
    "print(\"\\nRemove 50 by discard() method\")\n",
    "s.discard(50)\n",
    "print(s)\n",
    "print(\"\\nThe diff btwn remove and discard is that in remove() method if the element which we r removing is not present then it'll show error, but in discard even if the element which we are discarding is not present, it'll not show any error\")\n",
    "print(\"s.remove(70) <-- Error\")\n",
    "print(\"s.discard(70)) <-- No Error\")"
   ],
   "outputs": [
    {
     "output_type": "stream",
     "name": "stdout",
     "text": [
      "{40, 10, 50, 20, 60, 30}\n",
      "Pop some random element\n",
      "Element Popped 40\n",
      "{10, 50, 20, 60, 30}\n",
      "\n",
      "Remove 60 by remove() method\n",
      "{10, 50, 20, 30}\n",
      "\n",
      "Remove 50 by discard() method\n",
      "{10, 20, 30}\n",
      "\n",
      "The diff btwn remove and discard is that in remove() method if the element which we r removing is not present then it'll show error, but in discard even if the element which we are discarding is not present, it'll not show any error\n",
      "s.remove(70) <-- Error\n",
      "s.discard(70)) <-- No Error\n"
     ]
    }
   ],
   "metadata": {}
  },
  {
   "cell_type": "code",
   "execution_count": 156,
   "source": [
    "#Set Comprehension\n",
    "s1 = {it*it for it in range(6,1,-1)}\n",
    "print(s1)\n",
    "print(\"You cannot sort set as it's unordered\")\n",
    "print(set(sorted(s1)))"
   ],
   "outputs": [
    {
     "output_type": "stream",
     "name": "stdout",
     "text": [
      "{36, 4, 9, 16, 25}\n",
      "You cannot sort set as it's unordered\n",
      "{4, 36, 9, 16, 25}\n"
     ]
    }
   ],
   "metadata": {}
  },
  {
   "cell_type": "code",
   "execution_count": 160,
   "source": [
    "print(\"Dictionaries are in a key:value format\\nDuplicate keys are not allowed but values can be duplicate\\nIt is unordered therefore doesn't support indexing and slicing\\nIt is mutable and dynamic\")"
   ],
   "outputs": [
    {
     "output_type": "stream",
     "name": "stdout",
     "text": [
      "Dictionaries ar in a key:value format\n",
      "Duplicate keys are not allowed but values can be duplicate\n",
      "It is unordered therefore doesn't support indexing and slicing\n",
      "It is mutable and dynamic\n"
     ]
    }
   ],
   "metadata": {}
  },
  {
   "cell_type": "code",
   "execution_count": 164,
   "source": [
    "print(\"Empty Dict.\")\n",
    "d={}\n",
    "print(d)\n",
    "print(\"Adding Key:Values- 10:'A',20:'B',30:'C'\")\n",
    "d[10]='A'\n",
    "d[20]='B'\n",
    "d[30]='C'\n",
    "print(d)\n",
    "print(\"Accessing Individual Item: d[10]\")\n",
    "print(d[10])"
   ],
   "outputs": [
    {
     "output_type": "stream",
     "name": "stdout",
     "text": [
      "Empty Dict.\n",
      "{}\n",
      "Adding Key:Values- 10:'A',20:'B',30:'C'\n",
      "{10: 'A', 20: 'B', 30: 'C'}\n",
      "Accessing Individual Item: d[10]\n",
      "A\n"
     ]
    }
   ],
   "metadata": {}
  },
  {
   "cell_type": "code",
   "execution_count": 166,
   "source": [
    "print(\"Check if key is present we can use 'in' operator\")\n",
    "print(\"Checking if key 20 is present: 20 in d\")\n",
    "print((20 in d))"
   ],
   "outputs": [
    {
     "output_type": "stream",
     "name": "stdout",
     "text": [
      "Check if key is present we can use 'in' operator\n",
      "Checking if key 20 is present: 20 in d\n",
      "True\n"
     ]
    }
   ],
   "metadata": {}
  },
  {
   "cell_type": "code",
   "execution_count": 169,
   "source": [
    "records={}\n",
    "for it in range(int(input(\"Number of Students To Add\"))):\n",
    "    name=input(\"Enter Name\")\n",
    "    age=int(input(\"Enter Age\"))\n",
    "    records[name]=age\n",
    "print(records)"
   ],
   "outputs": [
    {
     "output_type": "stream",
     "name": "stdout",
     "text": [
      "{'Rit': 20, 'Rin': 19}\n",
      "Rit\n",
      "Rin\n"
     ]
    }
   ],
   "metadata": {}
  },
  {
   "cell_type": "code",
   "execution_count": 191,
   "source": [
    "print(\"Ways To Print Elements\\nKey In Normal Way\")\n",
    "for k in records:\n",
    "    print(\"Key:\",k)\n",
    "\n",
    "print(\"\\nBy .keys()\")\n",
    "for k in records.keys():\n",
    "    print(\"Key:\",k)"
   ],
   "outputs": [
    {
     "output_type": "stream",
     "name": "stdout",
     "text": [
      "Ways To Print Elements\n",
      "Key In Normal Way\n",
      "Key: Rit\n",
      "Key: Rin\n",
      "\n",
      "By .keys()\n",
      "Key: Rit\n",
      "Key: Rin\n"
     ]
    }
   ],
   "metadata": {}
  },
  {
   "cell_type": "code",
   "execution_count": 192,
   "source": [
    "print(\"\\nValues By dict[key]\")\n",
    "for v in records:\n",
    "    print(\"Value:\",records[v])\n",
    "\n",
    "print(\"\\nValues By d.get(key)\")#Returns None if key isn't present\n",
    "for v in records:\n",
    "    print(\"Value:\",records.get(v))\n",
    "\n",
    "print(\"\\nValues By .values()\")\n",
    "for v in records.values():\n",
    "    print(\"Value:\",v)"
   ],
   "outputs": [
    {
     "output_type": "stream",
     "name": "stdout",
     "text": [
      "\n",
      "Values By dict[key]\n",
      "Value: 20\n",
      "Value: 19\n",
      "\n",
      "Values By d.get(key)\n",
      "Value: 20\n",
      "Value: 19\n",
      "\n",
      "Values By .values()\n",
      "Value: 20\n",
      "Value: 19\n"
     ]
    }
   ],
   "metadata": {}
  },
  {
   "cell_type": "code",
   "execution_count": 193,
   "source": [
    "print(\"\\nKey:Value Normal Way\")\n",
    "for kv in records:\n",
    "    print(f\"Key: {kv}, Value:{records[kv]}\")\n",
    "\n",
    "print(\"\\nKey:Value By .items()\")\n",
    "for k,v in records.items():\n",
    "    print(f\"Key: {k}, Value: {v}\")"
   ],
   "outputs": [
    {
     "output_type": "stream",
     "name": "stdout",
     "text": [
      "\n",
      "Key:Value Normal Way\n",
      "Key: Rit, Value:20\n",
      "Key: Rin, Value:19\n",
      "\n",
      "Key:Value By .items()\n",
      "Key: Rit, Value: 20\n",
      "Key: Rin, Value: 19\n"
     ]
    }
   ],
   "metadata": {}
  },
  {
   "cell_type": "code",
   "execution_count": 213,
   "source": [
    "print(\"get() allows us to specify which value must be returned if the element isn't present\")\n",
    "d1={1:'A',2:'B',3:'C'}\n",
    "print(d1)\n",
    "print(d1.get(4))\n",
    "print(\"4 not present but instead of returning None it'll now return the specified value in get()\")\n",
    "print(d1.get(4,'D'))"
   ],
   "outputs": [
    {
     "output_type": "stream",
     "name": "stdout",
     "text": [
      "get() allows us to specify which value must be returned if the element isn't present\n",
      "{1: 'A', 2: 'B', 3: 'C'}\n",
      "None\n",
      "4 not present but instead of returning None it'll now return the specified value in get()\n",
      "D\n"
     ]
    }
   ],
   "metadata": {}
  },
  {
   "cell_type": "code",
   "execution_count": 185,
   "source": [
    "d={1:\"Rit\",2:\"Nil\",3:\"Tom\"}\n",
    "print(d)\n",
    "print(\"->Update/Replace Dict\")\n",
    "d[2]=\"Annie\"\n",
    "print(d)\n",
    "print(\"->Delete Element\")\n",
    "del d[3]\n",
    "print(d)\n",
    "print(\"->Delete All Elements\")\n",
    "d.clear()\n",
    "print(d)\n",
    "print(\"del d -> Deletes The Dict. Object\")"
   ],
   "outputs": [
    {
     "output_type": "stream",
     "name": "stdout",
     "text": [
      "{1: 'Rit', 2: 'Nil', 3: 'Tom'}\n",
      "->Update/Replace Dict\n",
      "{1: 'Rit', 2: 'Annie', 3: 'Tom'}\n",
      "->Delete Element\n",
      "{1: 'Rit', 2: 'Annie'}\n",
      "->Delete All Elements\n",
      "{}\n",
      "del d -> Deletes The Dict. Object\n"
     ]
    }
   ],
   "metadata": {}
  },
  {
   "cell_type": "code",
   "execution_count": 189,
   "source": [
    "print(\"Turn Tuple To Dictionary\")\n",
    "d=dict([(1,\"A\"),(2,\"B\"),(3,\"C\"),(4,\"D\")]) \n",
    "#Input all tuple into list since dict() function takes only 1 input\n",
    "print(d)"
   ],
   "outputs": [
    {
     "output_type": "stream",
     "name": "stdout",
     "text": [
      "Turn Tuple To Dictionary\n",
      "{1: 'A', 2: 'B', 3: 'C', 4: 'D'}\n"
     ]
    }
   ],
   "metadata": {}
  },
  {
   "cell_type": "code",
   "execution_count": 197,
   "source": [
    "d={1:'A',2:'B',3:'C'}\n",
    "print(d)\n",
    "print(\"Pop Dict. Element, Not by index but by key name\")\n",
    "print(\"pop() method in dictionary, Returns the keys value\")\n",
    "print(\"Pop Element Key 2:\",d.pop(2))\n",
    "print(d)"
   ],
   "outputs": [
    {
     "output_type": "stream",
     "name": "stdout",
     "text": [
      "{1: 'A', 2: 'B', 3: 'C'}\n",
      "Pop Dict. Element, Not by index but by key name\n",
      "pop() method in dictionary, Returns the keys value\n",
      "Pop Element Key 2: B\n",
      "{1: 'A', 3: 'C'}\n"
     ]
    }
   ],
   "metadata": {}
  },
  {
   "cell_type": "code",
   "execution_count": 199,
   "source": [
    "print(\"To Pop the last element without specifying the key name, we can use popitem()\")\n",
    "d={1:'A',2:'B',3:'C'}\n",
    "print(d)\n",
    "print(\"We are popping last item -> 3:'C'\")\n",
    "d.popitem()\n",
    "print(d)"
   ],
   "outputs": [
    {
     "output_type": "stream",
     "name": "stdout",
     "text": [
      "To Pop the last element without specifying the key name, we can use popitem()\n",
      "{1: 'A', 2: 'B', 3: 'C'}\n",
      "We are popping last item -> 3:'C'\n",
      "{1: 'A', 2: 'B'}\n"
     ]
    }
   ],
   "metadata": {}
  },
  {
   "cell_type": "code",
   "execution_count": 203,
   "source": [
    "d1={1:'A',2:'B',3:'C'}\n",
    "d2={4:'D',5:'E',6:'F'}\n",
    "print(f\"d1 = {d1}\\nd2 = {d2}\")\n",
    "print(\"To Extend the dictionary you can use update()\")\n",
    "d1.update(d2)\n",
    "print(d1)"
   ],
   "outputs": [
    {
     "output_type": "stream",
     "name": "stdout",
     "text": [
      "d1 = {1: 'A', 2: 'B', 3: 'C'}\n",
      "d2 = {4: 'D', 5: 'E', 6: 'F'}\n",
      "To Extend the dictionary you can use update()\n",
      "{1: 'A', 2: 'B', 3: 'C', 4: 'D', 5: 'E', 6: 'F'}\n"
     ]
    }
   ],
   "metadata": {}
  },
  {
   "cell_type": "code",
   "execution_count": 223,
   "source": [
    "print(\"You can use setdefault() to add items to dictionary, if the value is already present then it won't change that item, but if the item is not present then it would add the items in the dictionary\")\n",
    "d={1:'A',2:'B',3:'C'}\n",
    "print(f\"d =\",d)\n",
    "print(\"Trying to add 3:'CC'\")\n",
    "d.setdefault(3,'CC')\n",
    "print(\"No Change/Replacement d =\",d)\n",
    "print(\"Trying to add 4:'D\")\n",
    "d.setdefault(4,'D')\n",
    "print(\"Added Successfully d=\",d)"
   ],
   "outputs": [
    {
     "output_type": "stream",
     "name": "stdout",
     "text": [
      "You can use setdefault() to add items to dictionary, if the value is already present then it won't change that item, but if the item is not present then it would add the items in the dictionary\n",
      "d = {1: 'A', 2: 'B', 3: 'C'}\n",
      "Trying to add 3:'CC'\n",
      "No Change/Replacement d = {1: 'A', 2: 'B', 3: 'C'}\n",
      "Trying to add 4:'D\n",
      "Added Successfully d= {1: 'A', 2: 'B', 3: 'C', 4: 'D'}\n"
     ]
    }
   ],
   "metadata": {}
  },
  {
   "cell_type": "code",
   "execution_count": 206,
   "source": [
    "d1={'A':1,'B':2,'C':3}\n",
    "print(sum(d1.values()))"
   ],
   "outputs": [
    {
     "output_type": "stream",
     "name": "stdout",
     "text": [
      "6\n"
     ]
    }
   ],
   "metadata": {}
  },
  {
   "cell_type": "code",
   "execution_count": 218,
   "source": [
    "w=\"ritikikr\"\n",
    "d={}\n",
    "for l in w:\n",
    "    d[l]=d.get(l,0)+1\n",
    "d"
   ],
   "outputs": [
    {
     "output_type": "execute_result",
     "data": {
      "text/plain": [
       "{'r': 2, 'i': 3, 't': 1, 'k': 2}"
      ]
     },
     "metadata": {},
     "execution_count": 218
    }
   ],
   "metadata": {}
  },
  {
   "cell_type": "code",
   "execution_count": 215,
   "source": [
    "word=input(\"Enter any word\")\n",
    "d={}\n",
    "for l in word:\n",
    "    if l in \"aeiou\":\n",
    "        d[l]=d.get(l,0)+1\n",
    "d"
   ],
   "outputs": [
    {
     "output_type": "execute_result",
     "data": {
      "text/plain": [
       "{'a': 1, 'i': 1, 'o': 1}"
      ]
     },
     "metadata": {},
     "execution_count": 215
    }
   ],
   "metadata": {}
  },
  {
   "cell_type": "code",
   "execution_count": 224,
   "source": [
    "print(\"Dict. Comprehension\")\n",
    "squares={x:x*x for x in range(2,11,2)}\n",
    "print(squares)"
   ],
   "outputs": [
    {
     "output_type": "stream",
     "name": "stdout",
     "text": [
      "Dict. Comprehension\n",
      "{2: 4, 4: 16, 6: 36, 8: 64, 10: 100}\n"
     ]
    }
   ],
   "metadata": {}
  },
  {
   "cell_type": "code",
   "execution_count": 225,
   "source": [
    "print(\"----------FUNCTIONS----------\")"
   ],
   "outputs": [
    {
     "output_type": "stream",
     "name": "stdout",
     "text": [
      "----------FUNCTIONS----------\n"
     ]
    }
   ],
   "metadata": {}
  },
  {
   "cell_type": "code",
   "execution_count": 226,
   "source": [
    "print(\"Positional Argument\")\n",
    "def add(a,b):\n",
    "    print(a+b)\n",
    "add(2,4)"
   ],
   "outputs": [
    {
     "output_type": "stream",
     "name": "stdout",
     "text": [
      "Positional Argument\n",
      "6\n"
     ]
    }
   ],
   "metadata": {}
  },
  {
   "cell_type": "code",
   "execution_count": 227,
   "source": [
    "print(\"Keyword Argument\")\n",
    "def greet(name,age):\n",
    "    print(f\"{name}'s Age is {age}\")\n",
    "greet(age=10,name=\"tim\") #order is not imp."
   ],
   "outputs": [
    {
     "output_type": "stream",
     "name": "stdout",
     "text": [
      "Keyword Argument\n",
      "tim's Age is 10\n"
     ]
    }
   ],
   "metadata": {}
  },
  {
   "cell_type": "code",
   "execution_count": 231,
   "source": [
    "print(\"Default Argument\")\n",
    "def greet(name=\"A\",age=2):\n",
    "    print(f\"{name}'s Age is {age}\")\n",
    "print(\"No parameters details are provided so default value will be used\")\n",
    "greet()\n",
    "print(\"If given:\")\n",
    "greet('Rit',20)"
   ],
   "outputs": [
    {
     "output_type": "stream",
     "name": "stdout",
     "text": [
      "Default Argument\n",
      "No parameters details are provided so default value will be used\n",
      "A's Age is 2\n",
      "If given:\n",
      "Rit's Age is 20\n"
     ]
    }
   ],
   "metadata": {}
  },
  {
   "cell_type": "code",
   "execution_count": 239,
   "source": [
    "print(\"Variable Length Argument\")\n",
    "#We can pass any number of arguments\n",
    "def add(*n):\n",
    "    print(sum(n))\n",
    "add()\n",
    "add(10)\n",
    "add(10,20)\n",
    "add(10,20,30)"
   ],
   "outputs": [
    {
     "output_type": "stream",
     "name": "stdout",
     "text": [
      "Variable Length Argument\n",
      "0\n",
      "10\n",
      "30\n",
      "60\n"
     ]
    }
   ],
   "metadata": {}
  },
  {
   "cell_type": "code",
   "execution_count": 242,
   "source": [
    "print(\"Mixing Positional with variable length: add2(n1,*n):\\n\")\n",
    "def add2(n1,*n):\n",
    "    print(n1*sum(n))\n",
    "add2(2,10,20)\n",
    "print(\"\\nWe cannot put positional after variable length argument like this: add2(*n,n1)\\nFor that you need to do it in keyword argument\\n\")\n",
    "def add3(*n,n1):\n",
    "    print(n1*sum(n))\n",
    "add3(20,10,n1=2)"
   ],
   "outputs": [
    {
     "output_type": "stream",
     "name": "stdout",
     "text": [
      "Mixing Positional with variable length: add2(n1,*n):\n",
      "\n",
      "60\n",
      "\n",
      "We cannot put positional after variable length argument like this: add2(*n,n1)\n",
      "For that you need to do it in keyword argument\n",
      "\n",
      "60\n"
     ]
    }
   ],
   "metadata": {}
  },
  {
   "cell_type": "code",
   "execution_count": 249,
   "source": [
    "print(\"**kwargs is used for any number of arguments but will be stored in a dictionary form\")\n",
    "def info(**n):\n",
    "    print(\"\\nThe Details In Dict. Form Are\\nInfo =\",n)\n",
    "info(Rit=20,Grogu=70)\n",
    "info(n1=1,n2=2,n3=3,n4=5)"
   ],
   "outputs": [
    {
     "output_type": "stream",
     "name": "stdout",
     "text": [
      "**kwargs is used for any number of arguments but will be stored in a dictionary form\n",
      "\n",
      "The Details In Dict. Form Are\n",
      "Info = {'Rit': 20, 'Grogu': 70}\n",
      "\n",
      "The Details In Dict. Form Are\n",
      "Info = {'n1': 1, 'n2': 2, 'n3': 3, 'n4': 5}\n"
     ]
    }
   ],
   "metadata": {}
  },
  {
   "cell_type": "code",
   "execution_count": 251,
   "source": [
    "name=\"Alen\"\n",
    "print(\"Calling Global Variable inside function\")\n",
    "def say():\n",
    "    print(name)\n",
    "say()\n",
    "\n",
    "print(\"\\nChanging Global variable value inside function, but no changes will be made to it\")\n",
    "def say():\n",
    "    name=\"Ritik\"\n",
    "    print(name)\n",
    "say()\n",
    "print(f\"No change, Name={name}\")\n",
    "\n",
    "print(\"\\nTo change Access Global Variable by global keyword\")\n",
    "def say():\n",
    "    global name\n",
    "    name = \"Ritik\"\n",
    "    print(name)\n",
    "say()\n",
    "print(\"Name =\",name)"
   ],
   "outputs": [
    {
     "output_type": "stream",
     "name": "stdout",
     "text": [
      "Calling Global Variable inside function\n",
      "Alen\n",
      "\n",
      "Changing Global variable value inside function, but no changes will be made to it\n",
      "Ritik\n",
      "No change, Name=Alen\n",
      "\n",
      "To change Access Global Variable by global keyword\n",
      "Ritik\n",
      "Name = Ritik\n"
     ]
    }
   ],
   "metadata": {}
  },
  {
   "cell_type": "code",
   "execution_count": 253,
   "source": [
    "print(\"Accessing Both Global and Local Variable Having Same Name\")\n",
    "age = 7\n",
    "def year():\n",
    "    age=20\n",
    "    print(f\"\\nMy Little Brother's Age is {globals()['age']} And My Age is {age}\")\n",
    "year()"
   ],
   "outputs": [
    {
     "output_type": "stream",
     "name": "stdout",
     "text": [
      "Accessing Both Global and Local Variable Having Same Name\n",
      "\n",
      "My Little Brother's Age is 7 And My Age is 20\n"
     ]
    }
   ],
   "metadata": {}
  },
  {
   "cell_type": "code",
   "execution_count": 264,
   "source": [
    "print(\"Lambda Function with 1 arg.\")\n",
    "s=lambda x:x*x\n",
    "print(s(2))\n",
    "print(\"Lambda Function with 2 arg.\")\n",
    "s1=lambda x,y:x*y\n",
    "print(s1(2,4))\n",
    "print(\"Using if,else\")\n",
    "s2=lambda a,b:a if a<b else b\n",
    "print(s2(10,20))\n",
    "print(\"Lambda Function with 2 arg and 2 return values\")\n",
    "lam=lambda a,b:(a+10,b+5) \n",
    "print(lam(5,15))"
   ],
   "outputs": [
    {
     "output_type": "stream",
     "name": "stdout",
     "text": [
      "Lambda Function with 1 arg.\n",
      "4\n",
      "Lambda Function with 2 arg.\n",
      "8\n",
      "Using if,else\n",
      "10\n",
      "Lambda Function with 2 arg and 2 return values\n",
      "(15, 20)\n"
     ]
    }
   ],
   "metadata": {}
  },
  {
   "cell_type": "code",
   "execution_count": 268,
   "source": [
    "print(\"Using Lambda Function Inside Another Function\")\n",
    "lam=lambda a,b:(a+10,b+5)\n",
    "def add(t=lam(5,10)):\n",
    "    print(sum(t))\n",
    "add()"
   ],
   "outputs": [
    {
     "output_type": "stream",
     "name": "stdout",
     "text": [
      "Using Lambda Function Inside Another Function\n",
      "30\n"
     ]
    }
   ],
   "metadata": {}
  },
  {
   "cell_type": "code",
   "execution_count": 287,
   "source": [
    "print(\"List Comprehension Filtering With If Statement\")\n",
    "l=[0,2,3,5,7,8]\n",
    "print([x for x in l if x%2==0])\n",
    "print(\"Using Filter()\")\n",
    "print(\"filter(function,sequence) --> Here function is applied to every element of a sequence(list,tuple,etc) and if the function whatever it maybe return true it will include that element\")\n",
    "# filter(function,sequence)\n",
    "# where function argument is responsible to perform conditional check sequence can be list or tuple or string.\n",
    "#First Way:\n",
    "def isEven(n):\n",
    "    if n%2==0:\n",
    "        return True\n",
    "\n",
    "l1=list(filter(isEven,l))\n",
    "print(l1)\n",
    "#Second Way: Using Lambda Function\n",
    "l2=list(filter(lambda x:x%2==0,l))\n",
    "print(l2)"
   ],
   "outputs": [
    {
     "output_type": "stream",
     "name": "stdout",
     "text": [
      "List Comprehension Filtering With If Statement\n",
      "[0, 2, 8]\n",
      "Using Filter()\n",
      "filter(function,sequence) --> Here function is applied to every element of a sequence(list,tuple,etc) and if the function whatever it maybe return true it will include that element\n",
      "[0, 2, 8]\n",
      "[0, 2, 8]\n"
     ]
    }
   ],
   "metadata": {}
  },
  {
   "cell_type": "code",
   "execution_count": 296,
   "source": [
    "print(\"Using map() Function\")\n",
    "print(\"map(function,sequence) --> Here also function is applied to every element of a sequence and performs the action return/specified by the function\\n\")\n",
    "\n",
    "l=[1,2,3,4,5]\n",
    "print(l)\n",
    "\n",
    "print(\"\\nSuppose if the return statement by the function specified is not an action but just a boolean statement then it will include that boolean return statement (0/1,True/False)\\n\")\n",
    "\n",
    "l1=list(map(lambda x:x%2==0,l))\n",
    "print(l1)\n",
    "\n",
    "print(\"\\nAction specified: 2*x\")\n",
    "l2=list(map(lambda x:x*2,l))\n",
    "print(l2)"
   ],
   "outputs": [
    {
     "output_type": "stream",
     "name": "stdout",
     "text": [
      "Using map() Function\n",
      "map(function,sequence) --> Here also function is applied to every element of a sequence and performs the action return/specified by the function\n",
      "\n",
      "[1, 2, 3, 4, 5]\n",
      "\n",
      "Suppose if the return statement by the function specified is not an action but just a boolean statement then it will include that boolean return statement (0/1,True/False)\n",
      "\n",
      "[False, True, False, True, False]\n",
      "\n",
      "Action specified: 2*x\n",
      "[2, 4, 6, 8, 10]\n"
     ]
    }
   ],
   "metadata": {}
  },
  {
   "cell_type": "code",
   "execution_count": 299,
   "source": [
    "print(\"Apply map function to multiple lists\")\n",
    "l1=[1,2,3]\n",
    "l2=[4,5,6]\n",
    "l3=list(map(lambda x,y:x*y,l1,l2)) \n",
    "# x is from l1 and y is from l2\n",
    "print(l3)"
   ],
   "outputs": [
    {
     "output_type": "stream",
     "name": "stdout",
     "text": [
      "Apply map function to multiple lists\n",
      "[4, 10, 18]\n"
     ]
    }
   ],
   "metadata": {}
  },
  {
   "cell_type": "code",
   "execution_count": 8,
   "source": [
    "from functools import reduce\n",
    "print(\"reduce() function reduces sequence of elements into a single element by applying specified function\\n\\nSuppose if function is for adding two numbers then the reduce function would do the addition of first two numbers then the result of this + other number and so on..\\n\")\n",
    "l=[1,2,3,4,5]\n",
    "result = reduce(lambda a,b:a*b,l)\n",
    "print(result)\n",
    "result1 = reduce(lambda a,b:a+b,range(1,20))\n",
    "print(result1)\n",
    "#Similar to this\n",
    "print(sum(range(1,20)))"
   ],
   "outputs": [
    {
     "output_type": "stream",
     "name": "stdout",
     "text": [
      "reduce() function reduces sequence of elements into a single element by applying specified function\n",
      "\n",
      "Suppose if function is for adding two numbers then the reduce function would do the addition of first two numbers then the result of this + other number and so on..\n",
      "\n",
      "120\n",
      "190\n",
      "190\n"
     ]
    }
   ],
   "metadata": {}
  },
  {
   "cell_type": "code",
   "execution_count": 307,
   "source": [
    "print(\"Aliasing Function\")\n",
    "def greet(name,age):\n",
    "    print(f\"{name}'s Age is {age}\")\n",
    "sayHi = greet\n",
    "greet(\"Ritik\",20)\n",
    "sayHi(\"Annie\",22)"
   ],
   "outputs": [
    {
     "output_type": "stream",
     "name": "stdout",
     "text": [
      "Aliasing Function\n",
      "Ritik's Age is 20\n",
      "Annie's Age is 22\n"
     ]
    }
   ],
   "metadata": {}
  },
  {
   "cell_type": "code",
   "execution_count": 309,
   "source": [
    "print(\"Nested Functions\")\n",
    "def outer():\n",
    "    print(\"outer function started\")\n",
    "    def inner():\n",
    "        print(\"inner function execution\")\n",
    "    print(\"outer function calling inner function\")\n",
    "    inner()\n",
    "outer()"
   ],
   "outputs": [
    {
     "output_type": "stream",
     "name": "stdout",
     "text": [
      "Nested Functions\n",
      "outer function started\n",
      "outer function calling inner function\n",
      "inner function execution\n"
     ]
    }
   ],
   "metadata": {}
  },
  {
   "cell_type": "code",
   "execution_count": 2,
   "source": [
    "print(\"Decorator takes a function as an argument and gives additional functionality to the function before executing it\")\n",
    "def decorator_func(func):\n",
    "    def inner_func(name):\n",
    "        print(\"Hello\",name)\n",
    "    return inner_func\n",
    "\n",
    "@decorator_func\n",
    "def display(name):\n",
    "    print(\"Hello\")\n",
    "\n",
    "display(\"Ritik\")"
   ],
   "outputs": [
    {
     "output_type": "stream",
     "name": "stdout",
     "text": [
      "Hello Ritik\n"
     ]
    }
   ],
   "metadata": {}
  },
  {
   "cell_type": "code",
   "execution_count": 8,
   "source": [
    "def decorator(func):\n",
    "    def inner(*args,**kwargs):\n",
    "        print(\"Added Extra Functionality\")\n",
    "        return func(*args,**kwargs)\n",
    "    return inner\n",
    "\n",
    "@decorator\n",
    "def info(name,age):\n",
    "    return \"My name is {} and i am {} years old\".format(name,age)\n",
    "\n",
    "info(\"Ritik\",20)"
   ],
   "outputs": [
    {
     "output_type": "stream",
     "name": "stdout",
     "text": [
      "Added Extra Functionality\n"
     ]
    },
    {
     "output_type": "execute_result",
     "data": {
      "text/plain": [
       "'My name is Ritik and i am 20 years old'"
      ]
     },
     "metadata": {},
     "execution_count": 8
    }
   ],
   "metadata": {}
  },
  {
   "cell_type": "code",
   "execution_count": 10,
   "source": [
    "def decorator(func):\n",
    "    def inner(*args,**kwargs):\n",
    "        print(\"Added Extra Functionality 1st time\")\n",
    "        return func(*args,**kwargs)\n",
    "    return inner\n",
    "\n",
    "def decorator2(func):\n",
    "    def inner(*args,**kwargs):\n",
    "        print(\"Added Extra Functionality 2nd time\")\n",
    "        return func(*args,**kwargs)\n",
    "    return inner\n",
    "\n",
    "@decorator\n",
    "@decorator2\n",
    "def info(name,age):\n",
    "    return \"My name is {} and i am {} years old\".format(name,age)\n",
    "\n",
    "info(\"Ritik\",20)"
   ],
   "outputs": [
    {
     "output_type": "stream",
     "name": "stdout",
     "text": [
      "Added Extra Functionality 1st time\n",
      "Added Extra Functionality 2nd time\n"
     ]
    },
    {
     "output_type": "execute_result",
     "data": {
      "text/plain": [
       "'My name is Ritik and i am 20 years old'"
      ]
     },
     "metadata": {},
     "execution_count": 10
    }
   ],
   "metadata": {}
  },
  {
   "cell_type": "code",
   "execution_count": 18,
   "source": [
    "# *********************Important****************** #\n",
    "print(\"Ever wondered how the for loop loops through the iterable objects\\nThe below example will tell u abot iterators and iterables\")\n",
    "num=[1,2,3,4]\n",
    "print(\"num=[1,2,3,4] # <-- This is iterable list\\nFor loop usually loop through this like:\")\n",
    "print(\"for n in nums: print(n)\")\n",
    "print(\"But in background it's using iterator of this iterable.... \\ni_num = iter(num) \\nwhich works like this: next(i_num)...untill last element\")\n",
    "i_num = iter(num)\n",
    "print(next(i_num))\n",
    "print(next(i_num))\n",
    "print(next(i_num))\n",
    "print(next(i_num))\n",
    "# After this the iterator will exhaust and will show exception error of 'Stop Iteration'"
   ],
   "outputs": [
    {
     "output_type": "stream",
     "name": "stdout",
     "text": [
      "Ever wondered how the for loop loops through the iterable objects\n",
      "The below example will tell u abot iterators and iterables\n",
      "num=[1,2,3,4] # <-- This is iterable list\n",
      "For loop usually loop through this like:\n",
      "for n in nums: print(n)\n",
      "But in background it's using iterator of this iterable.... \n",
      "i_num = iter(num) \n",
      "which works like this: next(i_num)...untill last element\n",
      "1\n",
      "2\n",
      "3\n",
      "4\n"
     ]
    }
   ],
   "metadata": {}
  },
  {
   "cell_type": "code",
   "execution_count": 22,
   "source": [
    "print(\"1. So in short iterables can use only iter() using which we get an iterator\\n\\n2. Iterators can use both the iter() to create another iterator or next() to output the values in sequence\\n\\n3. n = [1,2,3] <- This is iterable \\n   n_itr = iter(n) <-- Now this is iterator\\n\\n4. We can loop over through both the iterators and iterables\")"
   ],
   "outputs": [
    {
     "output_type": "stream",
     "name": "stdout",
     "text": [
      "1. So in short iterables can use only iter() using which we get an iterator\n",
      "\n",
      "2. Iterators can use both the iter() to create another iterator or next() to output the values in sequence\n",
      "\n",
      "3. n = [1,2,3] <- This is iterable \n",
      "   n_itr = iter(n) <-- Now this is iterator\n",
      "\n",
      "4. We can loop over through both the iterators and iterables\n"
     ]
    }
   ],
   "metadata": {}
  },
  {
   "cell_type": "code",
   "execution_count": 31,
   "source": [
    "print(\"Now Generator are the functions that returns an iterator which return streams of values\")\n",
    "print(\"So it produces an iterator(i.e object which can be either looped or can use next())\")\n",
    "#Example:\n",
    "def my_generator():\n",
    "    yield \"A\"\n",
    "    yield \"B\"\n",
    "    yield \"C\"\n",
    "g=my_generator()\n",
    "print(type(g))\n",
    "print(next(g))\n",
    "print(next(g))\n",
    "print(next(g))\n",
    "#Or\n",
    "g2=my_generator()\n",
    "for i in g2:\n",
    "    print(i,end=\"\")"
   ],
   "outputs": [
    {
     "output_type": "stream",
     "name": "stdout",
     "text": [
      "Now Generator are the functions that returns an iterator which return streams of values\n",
      "So it produces an iterator(i.e object which can be either looped or can use next())\n",
      "<class 'generator'>\n",
      "A\n",
      "B\n",
      "C\n",
      "ABC"
     ]
    }
   ],
   "metadata": {}
  },
  {
   "cell_type": "code",
   "execution_count": 36,
   "source": [
    "print(\"So what is the actual use of generator:\")\n",
    "def my_gen():\n",
    "    for i in range(1,6):\n",
    "        yield i*i\n",
    "g1=my_gen()\n",
    "for i in g1:\n",
    "    if i==16:\n",
    "        break\n",
    "    print(i)\n",
    "print(\"So Generator is usefull in less memory consumption and helpfull in reading large files, like above example... we created the generator which gives the squares of each no. from 1 to 5 but instead of creating whole squares of numbers and saving it into list [1,4,9,16,25] we used generator which gives iterator. and we are looping through this iterator untill we find 16, so the other 1 number were not processed and hence time saved\")"
   ],
   "outputs": [
    {
     "output_type": "stream",
     "name": "stdout",
     "text": [
      "So what is the actual use of generator:\n",
      "1\n",
      "4\n",
      "9\n",
      "So Generator is usefull in less memory consumption and helpfull in reading large files, like above example... we created the generator which gives the squares of each no. from 1 to 5 but instead of creating whole squares of numbers and saving it into list [1,4,9,16,25] we used generator which gives iterator. and we are looping through this iterator untill we find 16, so the other 1 number were not processed and hence time saved\n"
     ]
    }
   ],
   "metadata": {}
  },
  {
   "cell_type": "code",
   "execution_count": 37,
   "source": [
    "print(\"So all these map,filter,zip,enumerate,generators,etc returns an object which returns iterator and are iterable (that is we can loop over it or can convert it into some other type)\\n\")\n",
    "#For ex: use next() like we could do with iterator\n",
    "l1= map(lambda x:x*2,[1,2,3,4,5])\n",
    "print(next(l1))\n",
    "# Or: convert it into some other type\n",
    "l1 =list(l1)\n",
    "l1\n",
    "#similar would happen with filter and generator,etc"
   ],
   "outputs": [
    {
     "output_type": "stream",
     "name": "stdout",
     "text": [
      "So all these map,filter,zip,enumerate,generators,etc returns an object which returns iterator and iterable (that is we can loop over it or can convert it into some other type)\n",
      "\n",
      "2\n"
     ]
    },
    {
     "output_type": "execute_result",
     "data": {
      "text/plain": [
       "[4, 6, 8, 10]"
      ]
     },
     "metadata": {},
     "execution_count": 37
    }
   ],
   "metadata": {}
  },
  {
   "cell_type": "code",
   "execution_count": 4,
   "source": [
    "print(\"Group of statements are called as functions\\nGroup of functions, variables stored in a file is called as a module\\nGroup of these modules are called as library\\n\")\n",
    "print(\"\\nimport module1 as m <-- 'This imports an entire module and m is alias name'\\nfrom module1 import add,product  <--  'This imports particular functions or variables from that module'\")"
   ],
   "outputs": [
    {
     "output_type": "stream",
     "name": "stdout",
     "text": [
      "Group of statements are called as functions\n",
      "Group of functions, variables stored in a file is called as a module\n",
      "Group of these modules are called as library\n",
      "\n",
      "\n",
      "import module1 as m <-- 'This imports an entire module and m is alias name'\n",
      "from module1 import add,product  <--  'This imports particular functions or variables from that module'\n"
     ]
    }
   ],
   "metadata": {}
  },
  {
   "cell_type": "code",
   "execution_count": 11,
   "source": [
    "print(\"*********Random Module***********\\n\")\n",
    "print('Random Float values btwn 0 and 10')\n",
    "from random import *\n",
    "print(random())\n",
    "print(\"\\nRandom Integer Values btwn 2 given points\")\n",
    "print(randint(1,100))\n",
    "print(\"\\nRandom Float Values btwn \")\n",
    "print(uniform(1,10))\n",
    "print(\"\\nRandom Integer Values in the given range\\n\")\n",
    "print(randrange(1,11,2))\n",
    "ls=['A','B','C','D','E']\n",
    "print(\"\\nSelecting Random Elements from list,tuple,etc\\n\")\n",
    "print(\"list =\",ls)\n",
    "print(choice(ls))"
   ],
   "outputs": [
    {
     "output_type": "stream",
     "name": "stdout",
     "text": [
      "*********Random Module***********\n",
      "\n",
      "Random Float values btwn 0 and 10\n",
      "0.4818036708707294\n",
      "\n",
      "Random Integer Values btwn 2 given points\n",
      "77\n",
      "\n",
      "Random Float Values btwn \n",
      "1.549257379601471\n",
      "\n",
      "Random Integer Values in the given range\n",
      "\n",
      "3\n",
      "\n",
      "Selecting Random Elements from list,tuple,etc\n",
      "\n",
      "list = ['A', 'B', 'C', 'D', 'E']\n",
      "E\n"
     ]
    }
   ],
   "metadata": {}
  },
  {
   "cell_type": "code",
   "execution_count": 12,
   "source": [
    "print(\"*******File Handling********\")\n",
    "f=open(\"abc.txt\",'w')\n",
    "print(\"File Name: \",f.name)\n",
    "print(\"File Mode: \",f.mode)\n",
    "print(\"Is File Readable: \",f.readable())\n",
    "print(\"Is File Writable: \",f.writable())\n",
    "print(\"Is File Closed : \",f.closed)\n",
    "f.close()\n",
    "print(\"Is File Closed : \",f.closed)"
   ],
   "outputs": [
    {
     "output_type": "stream",
     "name": "stdout",
     "text": [
      "*******File Handling********\n",
      "File Name:  abc.txt\n",
      "File Mode:  w\n",
      "Is File Readable:  False\n",
      "Is File Writable:  True\n",
      "Is File Closed :  False\n",
      "Is File Closed :  True\n"
     ]
    }
   ],
   "metadata": {}
  },
  {
   "cell_type": "code",
   "execution_count": 44,
   "source": [
    "print(\"Writing Data In Text File\")\n",
    "f=open(\"abc.txt\",'w')\n",
    "for i in range(5):    \n",
    "    f.write(f\"Hello {i} Time\\n\")\n",
    "print(\"Written Successfully\")\n",
    "f.close()"
   ],
   "outputs": [
    {
     "output_type": "stream",
     "name": "stdout",
     "text": [
      "Writing Data In Text File\n",
      "Written Successfully\n"
     ]
    }
   ],
   "metadata": {}
  },
  {
   "cell_type": "code",
   "execution_count": 15,
   "source": [
    "print(\"Writing List Values As A Line In Text File\")\n",
    "f=open(\"abc1\",'w')\n",
    "ls=[\"sunny\\n\",\"bunny\\n\",\"vinny\\n\",\"chinny\"]\n",
    "f.writelines(ls)\n",
    "print(\"Written List Values As Lines Successfully\")\n",
    "f.close()"
   ],
   "outputs": [
    {
     "output_type": "stream",
     "name": "stdout",
     "text": [
      "Writing List Values As A Line In Text File\n",
      "Written List Values As Lines Successfully\n"
     ]
    }
   ],
   "metadata": {}
  },
  {
   "cell_type": "code",
   "execution_count": 17,
   "source": [
    "'''\n",
    "read()-> To read total data from the file\n",
    "read(n)-> To read 'n' characters from the file\n",
    "readline()-> To read only one line\n",
    "readlines()-> To read all lines into a list '''\n",
    "print(\"To Read Entire Content\")\n",
    "f=open(\"abc.txt\",'r')\n",
    "data=f.read()\n",
    "print(data)\n",
    "f.close()"
   ],
   "outputs": [
    {
     "output_type": "stream",
     "name": "stdout",
     "text": [
      "To Read Entire Content\n",
      "Hello 0 Time\n",
      "Hello 1 Time\n",
      "Hello 2 Time\n",
      "Hello 3 Time\n",
      "Hello 4 Time\n",
      "\n"
     ]
    }
   ],
   "metadata": {}
  },
  {
   "cell_type": "code",
   "execution_count": 22,
   "source": [
    "print(\"To Read 'n' No. of characters\")\n",
    "f=open(\"abc.txt\",'r')\n",
    "data=f.read(7)\n",
    "print(data)\n",
    "f.close()"
   ],
   "outputs": [
    {
     "output_type": "stream",
     "name": "stdout",
     "text": [
      "To Read 'n' No. of characters\n",
      "Hello 0\n"
     ]
    }
   ],
   "metadata": {}
  },
  {
   "cell_type": "code",
   "execution_count": 35,
   "source": [
    "print(\"To Read 1 line\")\n",
    "with open(\"abc.txt\",'r') as f:\n",
    "    data=f.readline() # Here it reads 1 line and the pointer stops at the end 1 line, then if we try to read next time it'll read next line\n",
    "    print(data)"
   ],
   "outputs": [
    {
     "output_type": "stream",
     "name": "stdout",
     "text": [
      "To Read 1 line\n",
      "Hello 0 Time\n",
      "\n"
     ]
    }
   ],
   "metadata": {}
  },
  {
   "cell_type": "code",
   "execution_count": 36,
   "source": [
    "print(\"To Read Line By Line\")\n",
    "with open(\"abc.txt\",'r') as f:\n",
    "    for i in range(4):\n",
    "        data=f.readline()\n",
    "        print(data)"
   ],
   "outputs": [
    {
     "output_type": "stream",
     "name": "stdout",
     "text": [
      "To Read Line By Line\n",
      "Hello 0 Time\n",
      "\n",
      "Hello 1 Time\n",
      "\n",
      "Hello 2 Time\n",
      "\n",
      "Hello 3 Time\n",
      "\n"
     ]
    }
   ],
   "metadata": {}
  },
  {
   "cell_type": "code",
   "execution_count": 37,
   "source": [
    "print(\"To Read All lines (In List Form)\")\n",
    "with open(\"abc.txt\",'r') as f:\n",
    "    data=f.readlines() #It reads and stores the entire lines in a list\n",
    "    print(data)\n"
   ],
   "outputs": [
    {
     "output_type": "stream",
     "name": "stdout",
     "text": [
      "To Read All lines (In List Form)\n",
      "['Hello 0 Time\\n', 'Hello 1 Time\\n', 'Hello 2 Time\\n', 'Hello 3 Time\\n', 'Hello 4 Time\\n']\n"
     ]
    }
   ],
   "metadata": {}
  },
  {
   "cell_type": "code",
   "execution_count": 38,
   "source": [
    "print(\"To Read All lines line by line\")\n",
    "with open(\"abc.txt\",'r') as f:\n",
    "    data=f.readlines()\n",
    "    for i in data:\n",
    "        print(i)"
   ],
   "outputs": [
    {
     "output_type": "stream",
     "name": "stdout",
     "text": [
      "To Read All lines line by line\n",
      "Hello 0 Time\n",
      "\n",
      "Hello 1 Time\n",
      "\n",
      "Hello 2 Time\n",
      "\n",
      "Hello 3 Time\n",
      "\n",
      "Hello 4 Time\n",
      "\n"
     ]
    }
   ],
   "metadata": {}
  },
  {
   "cell_type": "code",
   "execution_count": 40,
   "source": [
    "print(\"tell() method to return the current cursor\")\n",
    "with open(\"abc.txt\",'r') as f:\n",
    "    print(f.tell())\n",
    "    print(f.read(5))\n",
    "    print(f.tell())"
   ],
   "outputs": [
    {
     "output_type": "stream",
     "name": "stdout",
     "text": [
      "tell() method to return the current cursor\n",
      "0\n",
      "Hello\n",
      "5\n"
     ]
    }
   ],
   "metadata": {}
  },
  {
   "cell_type": "code",
   "execution_count": 46,
   "source": [
    "print(\"seek() method to move the cursor to specified location\")\n",
    "with open(\"abc.txt\",'r+') as f:\n",
    "    print(\"Current Position:\",f.tell())\n",
    "    f.seek(6)\n",
    "    print(\"Moved Cursor to position:\",f.tell())\n",
    "    f.write(\"My Friend \")\n",
    "    print(\"Written Data, Now Position is:\",f.tell())\n",
    "    f.seek(0)\n",
    "    print(\"\\nNow Data Is:\")\n",
    "    text=f.read()\n",
    "    print(text)"
   ],
   "outputs": [
    {
     "output_type": "stream",
     "name": "stdout",
     "text": [
      "seek() method to move the cursor to specified location\n",
      "Current Position: 0\n",
      "Moved Cursor to position: 6\n",
      "Written Data, Now Position is: 16\n",
      "\n",
      "Now Data Is:\n",
      "Hello My Friend lo 1 Time\n",
      "Hello 2 Time\n",
      "Hello 3 Time\n",
      "Hello 4 Time\n",
      "\n"
     ]
    }
   ],
   "metadata": {}
  },
  {
   "cell_type": "code",
   "execution_count": 49,
   "source": [
    "print(\"Exception Handling\")\n",
    "try:\n",
    "    x=int(input(\"Enter 1st Number\"))\n",
    "    y=int(input(\"Enter 2nd Number\"))\n",
    "    print(x//y)\n",
    "except(ZeroDivisionError,ValueError,TypeError) as msg:\n",
    "    print(\"Error\",msg)\n",
    "finally:\n",
    "    print(\"Completed\")"
   ],
   "outputs": [
    {
     "output_type": "stream",
     "name": "stdout",
     "text": [
      "Exception Handling\n",
      "Error integer division or modulo by zero\n",
      "Completed\n"
     ]
    }
   ],
   "metadata": {}
  },
  {
   "cell_type": "code",
   "execution_count": 53,
   "source": [
    "try:\n",
    "    x=int(input(\"Enter 1st Number\"))\n",
    "    y=int(input(\"Enter 2nd Number\"))\n",
    "    print(\"Try Block\")\n",
    "    print(x//y)\n",
    "except:\n",
    "    print(\"Error\")\n",
    "finally:\n",
    "    print(\"Completed\")"
   ],
   "outputs": [
    {
     "output_type": "stream",
     "name": "stdout",
     "text": [
      "Try Block\n",
      "Error\n",
      "Completed\n"
     ]
    }
   ],
   "metadata": {}
  },
  {
   "cell_type": "code",
   "execution_count": 57,
   "source": [
    "try:\n",
    "    print(\"outer try block\") #Try This block if no error then move to next try blockk, if error then go to last except block\n",
    "    try:\n",
    "        print(\"Inner try block\")\n",
    "        print(10/0)\n",
    "    except ZeroDivisionError: #if exception not matched then outer exception would be checked\n",
    "        print(\"Inner except block\")\n",
    "    finally:\n",
    "        print(\"Inner finally block\")\n",
    "    print(\"Done 1\") #would be printed if error is handled\n",
    "except:\n",
    "    print(\"outer except block\")\n",
    "finally:\n",
    "    print(\"outer finally block\")\n",
    "print(\"Done 2\")"
   ],
   "outputs": [
    {
     "output_type": "stream",
     "name": "stdout",
     "text": [
      "outer try block\n",
      "Inner try block\n",
      "Inner except block\n",
      "Inner finally block\n",
      "Done 1\n",
      "outer finally block\n",
      "Done 2\n"
     ]
    }
   ],
   "metadata": {}
  },
  {
   "cell_type": "code",
   "execution_count": 58,
   "source": [
    "try:\n",
    "    x=10\n",
    "    y=0\n",
    "    print(\"Try Block\")\n",
    "    print(x//y)\n",
    "except:\n",
    "    print(\"Error\")\n",
    "else:\n",
    "    print(\"Else Block\")\n",
    "finally:\n",
    "    print(\"Completed\")"
   ],
   "outputs": [
    {
     "output_type": "stream",
     "name": "stdout",
     "text": [
      "Try Block\n",
      "Error\n",
      "Completed\n"
     ]
    }
   ],
   "metadata": {}
  },
  {
   "cell_type": "code",
   "execution_count": 61,
   "source": [
    "try:\r\n",
    "    x=10\r\n",
    "    y=5\r\n",
    "    print(\"Try Block\")\r\n",
    "    print(x//y)\r\n",
    "except:\r\n",
    "    print(\"Error\")\r\n",
    "else:\r\n",
    "    print(\"Else Block\")\r\n",
    "finally:\r\n",
    "    print(\"Completed\")"
   ],
   "outputs": [
    {
     "output_type": "stream",
     "name": "stdout",
     "text": [
      "Try Block\n",
      "2\n",
      "Else Block\n",
      "Completed\n"
     ]
    }
   ],
   "metadata": {}
  },
  {
   "cell_type": "code",
   "execution_count": 63,
   "source": [
    "print(\"User defined Exception\")\r\n",
    "class TooYoungException(Exception):\r\n",
    "    def __init__(self,arg):\r\n",
    "        self.msg=arg\r\n",
    "age=18\r\n",
    "if age<18:\r\n",
    "    raise TooYoungException(f\"Plz wait {18-age} years\")"
   ],
   "outputs": [
    {
     "output_type": "stream",
     "name": "stdout",
     "text": [
      "User defined Exception\n"
     ]
    }
   ],
   "metadata": {}
  },
  {
   "cell_type": "code",
   "execution_count": 65,
   "source": [
    "print(\"********LOGGING**********\")\r\n",
    "import logging\r\n",
    "#6 Levels of Logging = CRITICAL > ERROR > WARNING > INFO > DEBUG > NOTSET\r\n",
    "logging.basicConfig(filename='log.txt',level=logging.WARNING)\r\n",
    "#The above line will create a file log.txt and we can store either WARNING level or higher level messages to that file.\r\n",
    "val=5\r\n",
    "if val<10:\r\n",
    "    logging.warning(\"Warning Value is Less than 10\")\r\n",
    "if val<7:\r\n",
    "    logging.error(\"Warning Value is Less than 7\")\r\n",
    "if val<=5:\r\n",
    "    logging.error(\"Warning Value is Less than= 5\")\r\n",
    "with open('log.txt','r') as lf:\r\n",
    "    print(lf.read())"
   ],
   "outputs": [
    {
     "output_type": "stream",
     "name": "stdout",
     "text": [
      "********LOGGING**********\n",
      "WARNING:root:Warning Value is Less than 10\n",
      "ERROR:root:Warning Value is Less than 7\n",
      "ERROR:root:Warning Value is Less than= 5\n",
      "\n"
     ]
    }
   ],
   "metadata": {}
  },
  {
   "cell_type": "code",
   "execution_count": null,
   "source": [],
   "outputs": [],
   "metadata": {}
  },
  {
   "cell_type": "code",
   "execution_count": null,
   "source": [],
   "outputs": [],
   "metadata": {}
  }
 ],
 "metadata": {
  "kernelspec": {
   "name": "python3",
   "display_name": "Python 3.8.3 32-bit"
  },
  "language_info": {
   "codemirror_mode": {
    "name": "ipython",
    "version": 3
   },
   "file_extension": ".py",
   "mimetype": "text/x-python",
   "name": "python",
   "nbconvert_exporter": "python",
   "pygments_lexer": "ipython3",
   "version": "3.8.3"
  },
  "interpreter": {
   "hash": "4af90f45c7792a747df031fcfb3e75fbadd5ecde1f96328d33556550aaa66aac"
  }
 },
 "nbformat": 4,
 "nbformat_minor": 2
}